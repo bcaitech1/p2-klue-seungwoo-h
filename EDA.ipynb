{
 "cells": [
  {
   "cell_type": "markdown",
   "metadata": {},
   "source": [
    "# KLUE - EDA, PREPROCESS, DATA AUGMENTATION"
   ]
  },
  {
   "cell_type": "code",
   "execution_count": 8,
   "metadata": {},
   "outputs": [],
   "source": [
    "import pandas as pd\n",
    "import numpy as np\n",
    "import matplotlib.pyplot as plt\n",
    "import matplotlib.font_manager as fm\n",
    "import matplotlib as mpl\n",
    "import re\n",
    "import pickle\n",
    "from pororo import Pororo\n",
    "from tqdm import tqdm\n",
    "from sklearn.model_selection import train_test_split\n",
    "from collections import Counter\n",
    "from transformers import AutoTokenizer, AutoConfig\n",
    "from src.tokenization_kobert import KoBertTokenizer\n",
    "\n",
    "# matplotlib 한글\n",
    "plt.rc('font', family='AppleGothic')"
   ]
  },
  {
   "cell_type": "code",
   "execution_count": 9,
   "metadata": {},
   "outputs": [],
   "source": [
    "df = pd.read_csv('../input/data/train/train.tsv', sep='\\t', header=None)\n",
    "df.columns = [str(i) for i in range(9)]"
   ]
  },
  {
   "cell_type": "code",
   "execution_count": 10,
   "metadata": {},
   "outputs": [
    {
     "data": {
      "text/html": [
       "<div>\n",
       "<style scoped>\n",
       "    .dataframe tbody tr th:only-of-type {\n",
       "        vertical-align: middle;\n",
       "    }\n",
       "\n",
       "    .dataframe tbody tr th {\n",
       "        vertical-align: top;\n",
       "    }\n",
       "\n",
       "    .dataframe thead th {\n",
       "        text-align: right;\n",
       "    }\n",
       "</style>\n",
       "<table border=\"1\" class=\"dataframe\">\n",
       "  <thead>\n",
       "    <tr style=\"text-align: right;\">\n",
       "      <th></th>\n",
       "      <th>0</th>\n",
       "      <th>1</th>\n",
       "      <th>2</th>\n",
       "      <th>3</th>\n",
       "      <th>4</th>\n",
       "      <th>5</th>\n",
       "      <th>6</th>\n",
       "      <th>7</th>\n",
       "      <th>8</th>\n",
       "    </tr>\n",
       "  </thead>\n",
       "  <tbody>\n",
       "    <tr>\n",
       "      <th>0</th>\n",
       "      <td>wikipedia-24896-25-30-33-19-21</td>\n",
       "      <td>영국에서 사용되는 스포츠 유틸리티 자동차의 브랜드로는 랜드로버(Land Rover)...</td>\n",
       "      <td>랜드로버</td>\n",
       "      <td>30</td>\n",
       "      <td>33</td>\n",
       "      <td>자동차</td>\n",
       "      <td>19</td>\n",
       "      <td>21</td>\n",
       "      <td>단체:제작</td>\n",
       "    </tr>\n",
       "    <tr>\n",
       "      <th>1</th>\n",
       "      <td>wikipedia-12728-224-5-7-42-44</td>\n",
       "      <td>선거에서 민주당은 해산 전 의석인 230석에 한참 못 미치는 57석(지역구 27석,...</td>\n",
       "      <td>민주당</td>\n",
       "      <td>5</td>\n",
       "      <td>7</td>\n",
       "      <td>27석</td>\n",
       "      <td>42</td>\n",
       "      <td>44</td>\n",
       "      <td>관계_없음</td>\n",
       "    </tr>\n",
       "    <tr>\n",
       "      <th>2</th>\n",
       "      <td>wikipedia-28460-3-0-7-9-12</td>\n",
       "      <td>유럽 축구 연맹(UEFA) 집행위원회는 2014년 1월 24일에 열린 회의를 통해 ...</td>\n",
       "      <td>유럽 축구 연맹</td>\n",
       "      <td>0</td>\n",
       "      <td>7</td>\n",
       "      <td>UEFA</td>\n",
       "      <td>9</td>\n",
       "      <td>12</td>\n",
       "      <td>단체:별칭</td>\n",
       "    </tr>\n",
       "    <tr>\n",
       "      <th>3</th>\n",
       "      <td>wikipedia-11479-37-24-26-3-5</td>\n",
       "      <td>용병 공격수 챠디의 부진과 시즌 초 활약한 강수일의 침체, 시즌 중반에 영입한 세르...</td>\n",
       "      <td>강수일</td>\n",
       "      <td>24</td>\n",
       "      <td>26</td>\n",
       "      <td>공격수</td>\n",
       "      <td>3</td>\n",
       "      <td>5</td>\n",
       "      <td>인물:직업/직함</td>\n",
       "    </tr>\n",
       "    <tr>\n",
       "      <th>4</th>\n",
       "      <td>wikipedia-15581-6-0-2-32-40</td>\n",
       "      <td>람캄행 왕은 1237년에서 1247년 사이 수코타이의 왕 퍼쿤 씨 인트라팃과 쓰엉 ...</td>\n",
       "      <td>람캄행</td>\n",
       "      <td>0</td>\n",
       "      <td>2</td>\n",
       "      <td>퍼쿤 씨 인트라팃</td>\n",
       "      <td>32</td>\n",
       "      <td>40</td>\n",
       "      <td>인물:부모님</td>\n",
       "    </tr>\n",
       "  </tbody>\n",
       "</table>\n",
       "</div>"
      ],
      "text/plain": [
       "                                0  \\\n",
       "0  wikipedia-24896-25-30-33-19-21   \n",
       "1   wikipedia-12728-224-5-7-42-44   \n",
       "2      wikipedia-28460-3-0-7-9-12   \n",
       "3    wikipedia-11479-37-24-26-3-5   \n",
       "4     wikipedia-15581-6-0-2-32-40   \n",
       "\n",
       "                                                   1         2   3   4  \\\n",
       "0  영국에서 사용되는 스포츠 유틸리티 자동차의 브랜드로는 랜드로버(Land Rover)...      랜드로버  30  33   \n",
       "1  선거에서 민주당은 해산 전 의석인 230석에 한참 못 미치는 57석(지역구 27석,...       민주당   5   7   \n",
       "2  유럽 축구 연맹(UEFA) 집행위원회는 2014년 1월 24일에 열린 회의를 통해 ...  유럽 축구 연맹   0   7   \n",
       "3  용병 공격수 챠디의 부진과 시즌 초 활약한 강수일의 침체, 시즌 중반에 영입한 세르...       강수일  24  26   \n",
       "4  람캄행 왕은 1237년에서 1247년 사이 수코타이의 왕 퍼쿤 씨 인트라팃과 쓰엉 ...       람캄행   0   2   \n",
       "\n",
       "           5   6   7         8  \n",
       "0        자동차  19  21     단체:제작  \n",
       "1        27석  42  44     관계_없음  \n",
       "2       UEFA   9  12     단체:별칭  \n",
       "3        공격수   3   5  인물:직업/직함  \n",
       "4  퍼쿤 씨 인트라팃  32  40    인물:부모님  "
      ]
     },
     "execution_count": 10,
     "metadata": {},
     "output_type": "execute_result"
    }
   ],
   "source": [
    "df.head()"
   ]
  },
  {
   "cell_type": "markdown",
   "metadata": {},
   "source": [
    "### Target 분포"
   ]
  },
  {
   "cell_type": "code",
   "execution_count": 11,
   "metadata": {},
   "outputs": [
    {
     "name": "stdout",
     "output_type": "stream",
     "text": [
      "42\n"
     ]
    }
   ],
   "source": [
    "print(df['8'].nunique())"
   ]
  },
  {
   "cell_type": "code",
   "execution_count": 12,
   "metadata": {},
   "outputs": [
    {
     "data": {
      "image/png": "[encoded data removed]",
      "text/plain": [
       "<Figure size 648x504 with 1 Axes>"
      ]
     },
     "metadata": {
      "needs_background": "light"
     },
     "output_type": "display_data"
    }
   ],
   "source": [
    "plt.figure(figsize=(9, 7))\n",
    "plt.xticks(rotation=90)\n",
    "df['8'].hist()\n",
    "plt.show()"
   ]
  },
  {
   "cell_type": "code",
   "execution_count": 13,
   "metadata": {},
   "outputs": [
    {
     "data": {
      "text/plain": [
       "관계_없음          4432\n",
       "단체:구성원          815\n",
       "인물:소속단체         683\n",
       "인물:직업/직함        553\n",
       "단체:상위_단체        335\n",
       "단체:별칭           231\n",
       "인물:출신성분/국적      209\n",
       "인물:동료           186\n",
       "단체:제작           171\n",
       "인물:부모님          164\n",
       "단체:본사_도시        135\n",
       "단체:본사_국가        115\n",
       "인물:별칭           103\n",
       "인물:배우자           92\n",
       "인물:자녀            84\n",
       "단체:하위_단체         79\n",
       "단체:창립일           67\n",
       "인물:기타_친족         58\n",
       "인물:제작            56\n",
       "인물:형제/자매/남매      52\n",
       "인물:사망_일시         45\n",
       "단체:창립자           45\n",
       "단체:모회사           44\n",
       "인물:출생_일시         36\n",
       "인물:거주_국가         27\n",
       "인물:거주_도시         26\n",
       "단체:본사_주(도)       23\n",
       "단체:정치/종교성향       18\n",
       "단체:해산일           15\n",
       "인물:종교            15\n",
       "인물:거주_주(도)       12\n",
       "단체:주주            11\n",
       "인물:용의자           11\n",
       "인물:학교             9\n",
       "단체:구성원_수          9\n",
       "인물:출생_국가          8\n",
       "인물:사망_원인          7\n",
       "단체:자회사            6\n",
       "인물:나이             5\n",
       "인물:출생_도시          4\n",
       "인물:사망_도시          3\n",
       "인물:사망_국가          1\n",
       "Name: 8, dtype: int64"
      ]
     },
     "execution_count": 13,
     "metadata": {},
     "output_type": "execute_result"
    }
   ],
   "source": [
    "df['8'].value_counts()"
   ]
  },
  {
   "cell_type": "code",
   "execution_count": 14,
   "metadata": {},
   "outputs": [
    {
     "data": {
      "image/png": "[encoded data removed]",
      "text/plain": [
       "<Figure size 432x288 with 1 Axes>"
      ]
     },
     "metadata": {
      "needs_background": "light"
     },
     "output_type": "display_data"
    }
   ],
   "source": [
    "df['8'].apply(lambda x: x.split(':')[0]).hist()\n",
    "plt.show()"
   ]
  },
  {
   "cell_type": "code",
   "execution_count": 15,
   "metadata": {},
   "outputs": [
    {
     "data": {
      "image/png": "[encoded data removed]",
      "text/plain": [
       "<Figure size 504x432 with 1 Axes>"
      ]
     },
     "metadata": {
      "needs_background": "light"
     },
     "output_type": "display_data"
    },
    {
     "name": "stdout",
     "output_type": "stream",
     "text": [
      "40\n"
     ]
    }
   ],
   "source": [
    "plt.figure(figsize=(7, 6))\n",
    "plt.xticks(rotation=90)\n",
    "df['8'].apply(lambda x: x.split(':')[-1]).hist()\n",
    "plt.show()\n",
    "print(df['8'].apply(lambda x: x.split(':')[-1]).nunique())"
   ]
  },
  {
   "cell_type": "markdown",
   "metadata": {},
   "source": [
    "### Entity 분석"
   ]
  },
  {
   "cell_type": "code",
   "execution_count": 16,
   "metadata": {},
   "outputs": [
    {
     "name": "stdout",
     "output_type": "stream",
     "text": [
      "18000\n"
     ]
    }
   ],
   "source": [
    "# how many entities\n",
    "\n",
    "entities = []\n",
    "entities.extend(df['2'].to_list())\n",
    "entities.extend(df['5'].to_list())\n",
    "print(len(entities))"
   ]
  },
  {
   "cell_type": "code",
   "execution_count": 17,
   "metadata": {},
   "outputs": [
    {
     "name": "stdout",
     "output_type": "stream",
     "text": [
      "OIE UBS MBC NASA KT Marie ABC SPFL LVMH A KCC IOC KCC 慶應 黃皓 Benedict Cumberbatch HUG UBS Bic Metallica KGET Kerrigan EXID GD&TOP FIFA MBC KAIST SBS ICAO A CBS JTWC A SBS RCA LVMH G-Dragon UN Fairies OECD ☎ Britney A GAP MBC KIA KT&G KBS Joy ASML GNU CNN 帶原君 SKC FIFA K A MBC A ASME d THX MBC 金 EU NBA L A Kylie MIT KBS MBC LPGA 中宗 DHC LH MBC SMAP PDH A LH MLB B BTS IBM IBM UEFA JTWC MLB SMAP Key MBC SKC KT&G A EBS SBS tvN KT Seventeen KMFDM A Deze CSIS MBN MBC B LG U SBS DeNA R.E.M. Oh! MBC MBC GS SHOP UEFA mariage KBS UNM Georg Saver Tiger A SK ㈜ A FDA AEK ASAYAN A CJ BBC A YTN 4-H 李集 Metallica EBS Pile DJ DOC Concern Worldwide B*Witched S MBC ABI Mnet SBS A GKL 45RPM CJ ENM A ClariS ABBA MOU FTA A C EVISU John II Casimir BBC EXILE NERIT ANU UBS A NASA EBS UN USL KT 李址鎔 SBS LH AKA of CN WTO RCA EASD GS SHOP IMO CNN LIG IAEA GNU BMW OCN Taylor Swift Vaynerchuk NBC A KBS2 EG A A A MBC USCG MBC 竇武 丸彫 of PRASAC A NPT B Mr.Children EXID MBC Suede tvN BPA A AKA A EBS KT&G MBC 李福男 KBS Joy KBS Mnet NHL tvN KBS A Les Parisiens OCI MBC Boys KBS2 MKMF UBS FNC CIA Pennyroyal Tea PFLAG MCN MTF Forbes A YG A A NHK L LVMH SBS KBS A B CBS SBS GMC Kylie NASA ISO ABC Korea MBC Obodriten KBS LG U Ch GFP JTBC A A UBS GNU CBS A CBS Calvin Theological Seminary ISIS A SMAP 沙梁部 ClariS NLD GM MBC KCC EMEA GM KOREA ris EBS JTBC 刘骅骐骥 ASML Khmer Rouge MDM IOC CU Demi Nicholas Santo MBC SBS BIG TWRP A 葛文王 Mnet MBC JYP MS A MTV LH ASML ASML KBO Torn JTBC UEFA K5 10% HOUSE OF BTS 袁譚 IEEE 999 H.O.T. FIFA SBS Scottish Professional Football League 2NE1 JTV SBS Ludacris AFC SBS UEFA 2NE1 FA 0 – 1 AFC KBL NBA Maurizio Sarri 1998 LNG StarCraft II 17·18·20 DPM 5% Leo NBA TJB ACD TTA 李承萬 1. PD MTV NBA FA Science ACU JTV MBC NBA 2020 KBL TBC PD UC San Diego 30% ZARD 2019 22 IOC NBA CEO B A IOC NDC 8085 30% 100m UEFA ISU 2015 3E 森 喜朗 FWA 宋 Shock NBA BLOOM*IZ 10% MBC Science TV 668 UEFA USCG 2008 SBS Catholic Peace Broadcasting Corporation LDH NBA 31% a PC NBA Nabil Fekir redjuice 北条氏 NBA 2019 UEFA KSA Colin Clark GS25 16·17·18·20 1. ANC RPC FIFA ZARD Friday AFC BBS AOA 2019 2015 UEFA D.O UEFA UEFA ICT Mauricio Rolim Amaro 21.7% AOA JTBC Exigit Sinceras Devotionis Affectus Thomas Wesley Pentz MBC 29% Sgt. Pepper's Lonely Hearts Club Band kbc 30% TBS NBA ANC NBA MVP UEFA SBS 2 ZARD UEFA SKP G-Unit FIFA Voice of America 2AM 2019 SBS NBA F-15E CICI Korea NBA 3D MBC 885 hPa UEFA UEFA NBA SPD TBS FIVB Daniele Rugani SBS 1TV 空大師 UEFA KeSPA KT&G KOC NCAA Science Leo YG MBC 2AM 400ha JYP 15·16·17 BBS IT 1998 55 160cm 5·18 2009 2019 FIFA 蔚山放送 LDH 1998 UEFA UEFA IBC Maurizio Sarri NBA KBS 2TV Buda Sound TNC EE JUMP CIA UEFA TBC NBA PD Foundation SF9 MBC A EPL rhythm zone UEFA 53kg IOC 2020 AI AI kbc ARD NASL A Minos Lars Ricken Real Madrid Club de Fútbol 2AM 30m PD PD 100 NATO 2AM NASH BEV FIFA 2 MC68HC000 EBS N9 38 CEO KBL NBA FIFA 2019 FTA UEFA t NATO Minos UEFA Blue Rose UEFA UEFA UEFA UEFA WADA KSA AFC Leo 姜明求 Eugenia Eugene Miya MBC 09-10 JYP 臨海君 RPG 1992 120 MBC LSSAH 35 CBS TBC TBC UEFA AOL Cen M2Iab TBC JFK JYP IPS V.O.S Mokuza NBA UEFA NPA 100% MBC FIG MBC AFC 1974 NBA KBS Lil Uzi Vert MBC Leo NBA GARNET CROW WBC f NASA NDR FIFA 李雄 Science UEFA 2009 IOC Frederic Edwin Church 1% Leo BBC Ludacris MBC UEFA TBS KBS VR TNC NCAA TBC CPI NBA MD KBL EBS TmaxOS ATM 2. 2020 AFC DMZ UEFA SBS UEFA KT&G Diabetes NBA 1995 5G 《In Utero》 MBC UEFA KAI B FIFA KBS 2019 A LVMH K/DA PRI 100% 42 MBC NBA IDOM KBL UEFA NBA 1350 JYP 5G 南山 2008 1 CCTV 17·18 NASA UEFA 41 SMBC AI TBC NASA KBS MBC UEFA NBA SBS Plus LED 曹 BBQ FIFA NBA MBC rist That's All Right〉 Nyuen Van Hung MBC NATO TBC MBC CIS UEFA IFEZ KBL 1. NBA NBA MBC DMZ IOC FBS DKP 1339 2000 NBA UCI 張道斌 MBC JTWC 3.9% AFC NBA TJB UEFA NBA tvN MBC Beach Boys INXS UEFA SBS TBC UEFA UEFA AFC IIHF MBC 1833 KT 2015 NBA SBS MVL Science PoohManDu FBS KOF XIV LH UEFA SBS KBS 成遇 NBA A KBS UEFA MBC FIFA 102.0% NBA International Astronomical Union NBA UEFA UEFA LXDE TBS Megan Fox 30 UEFA SBS KC-135 UEFA 李秀亨 A A 65C816 NATO Left of the Middle 10% CIS FIFA Petra Stats KBL \n",
      "790\n"
     ]
    }
   ],
   "source": [
    "# 한글 미포함\n",
    "\n",
    "hangul = re.compile('[ㄱ-ㅣ가-힣]+')\n",
    "count = 0\n",
    "for i in range(len(entities)):\n",
    "    if len(hangul.findall(entities[i])) == 0:\n",
    "        count += 1\n",
    "        print(entities[i], end=' ')\n",
    "print()\n",
    "print(count)"
   ]
  },
  {
   "cell_type": "markdown",
   "metadata": {},
   "source": [
    "### NER"
   ]
  },
  {
   "cell_type": "code",
   "execution_count": null,
   "metadata": {},
   "outputs": [],
   "source": [
    "def tag_ner(df):\n",
    "    ner = Pororo(task='ner', lang='ko')\n",
    "    ne_1 = []\n",
    "    ne_2 = []\n",
    "    for idx in tqdm(range(len(df))):\n",
    "        row = df.iloc[idx, :]\n",
    "        ner_results = {k: v for k, v in ner(row['1'])}\n",
    "        if row['2'] in ner_results and row['5'] in ner_results:\n",
    "            en_1, en_2 = ner_results[row['2']], ner_results[row['5']]\n",
    "        else:\n",
    "            en_1, en_2 = None, None\n",
    "        ne_1.append(en_1)\n",
    "        ne_2.append(en_2)\n",
    "\n",
    "    df['9'] = ne_1\n",
    "    df['10'] = ne_2"
   ]
  },
  {
   "cell_type": "code",
   "execution_count": 18,
   "metadata": {},
   "outputs": [
    {
     "name": "stderr",
     "output_type": "stream",
     "text": [
      "\n",
      "[nltk_data] Downloading package punkt to /Users/swhong/nltk_data...\n",
      "[nltk_data]   Unzipping tokenizers/punkt.zip.\n",
      "\n"
     ]
    }
   ],
   "source": [
    "ner = Pororo(task='ner', lang='ko')"
   ]
  },
  {
   "cell_type": "code",
   "execution_count": 19,
   "metadata": {},
   "outputs": [
    {
     "name": "stdout",
     "output_type": "stream",
     "text": [
      "ORGANIZATION ARTIFACT | 랜드로버 자동차 | 단체:제작\n",
      "ORGANIZATION QUANTITY | 민주당 27석 | 관계_없음\n",
      "ORGANIZATION ORGANIZATION | 유럽 축구 연맹 UEFA | 단체:별칭\n",
      "PERSON CIVILIZATION | 강수일 공격수 | 인물:직업/직함\n",
      "PERSON PERSON | 람캄행 퍼쿤 씨 인트라팃 | 인물:부모님\n",
      "ORGANIZATION OCCUPATION | OIE 전문가 | 관계_없음\n",
      "ORGANIZATION ARTIFACT | 기아자동차 K5 | 단체:제작\n",
      "ORGANIZATION ORGANIZATION | 나고야 그램퍼스 토요타 자동차 | 단체:모회사\n",
      "ORGANIZATION PERSON | 조선대학교 조영주 | 단체:구성원\n",
      "ORGANIZATION QUANTITY | 삼성SDS 10% | 관계_없음\n",
      "PERSON ORGANIZATION | 심상정 정의당 | 인물:소속단체\n",
      "None None | 유신정우회 한국국민당 | 관계_없음\n",
      "ARTIFACT CITY | 메종 글래드 제주 제주 | 단체:본사_주(도)\n",
      "PERSON ORGANIZATION | 대니 웰벡 아스널 | 인물:소속단체\n",
      "None None | 리처드 1세 제3차 십자군 | 관계_없음\n",
      "PERSON OCCUPATION | 고레에다 히로카즈 배우 | 관계_없음\n",
      "PERSON PERSON | 윤희 새봄 | 관계_없음\n",
      "None None | 한국 기상청 약 370km | 관계_없음\n",
      "PERSON ORGANIZATION | 문재인 더불어민주당 | 인물:소속단체\n",
      "None None | 알베르트 아인슈타인 물리학 | 관계_없음\n",
      "None None | 중앙도서관 시흥시 | 관계_없음\n",
      "PERSON ORGANIZATION | 진숙보 진나라 | 인물:출신성분/국적\n",
      "ORGANIZATION ARTIFACT | 포르쉐 자동차 | 단체:제작\n",
      "PERSON OCCUPATION | 염건령 강사 | 인물:직업/직함\n",
      "ORGANIZATION ORGANIZATION | 교육부 교육과학기술부 | 단체:별칭\n",
      "ORGANIZATION QUANTITY | 인천시 7기 | 관계_없음\n",
      "ORGANIZATION PERSON | 남부대학교 조성수 | 단체:구성원\n",
      "PERSON ARTIFACT | 방탄소년단 HOUSE OF BTS | 관계_없음\n",
      "ORGANIZATION PERSON | 대정익찬회 고노에 후미마로 | 단체:구성원\n",
      "ORGANIZATION TERM | 천연자원연구센터 바이오상용기술 고도화 플랫폼 구축 사업 | 단체:제작\n",
      "None None | 루크레치아 보르자 교황 알렉산데르 6세 | 인물:부모님\n"
     ]
    }
   ],
   "source": [
    "for idx in range(len(df)):\n",
    "    row = df.iloc[idx, :]\n",
    "    ner_results = {k: v for k, v in ner(row['1'])}\n",
    "    if row['2'] in ner_results and row['5'] in ner_results:\n",
    "        en_1, en_2 = ner_results[row['2']], ner_results[row['5']]\n",
    "    else:\n",
    "        en_1, en_2 = None, None\n",
    "    print(en_1, en_2, '|', row['2'], row['5'], '|', row['8'])\n",
    "    \n",
    "    if idx == 30:\n",
    "        break"
   ]
  },
  {
   "cell_type": "markdown",
   "metadata": {},
   "source": [
    "탐지된 NER 끼리 관계가 있어 보여도, 문맥에서 관계를 도출할 수 없으면 관계 없음으로 분류되어야함.  \n",
    "데이터셋에 우선 포함 시켜봄"
   ]
  },
  {
   "cell_type": "code",
   "execution_count": 21,
   "metadata": {},
   "outputs": [
    {
     "name": "stderr",
     "output_type": "stream",
     "text": [
      "100%|██████████| 30/30 [00:05<00:00,  5.30it/s]\n"
     ]
    },
    {
     "ename": "ValueError",
     "evalue": "Length of values (30) does not match length of index (9000)",
     "output_type": "error",
     "traceback": [
      "\u001b[0;31m---------------------------------------------------------------------------\u001b[0m",
      "\u001b[0;31mValueError\u001b[0m                                Traceback (most recent call last)",
      "\u001b[0;32m<ipython-input-21-7556464ad4a9>\u001b[0m in \u001b[0;36m<module>\u001b[0;34m\u001b[0m\n\u001b[1;32m     11\u001b[0m     \u001b[0mne_2\u001b[0m\u001b[0;34m.\u001b[0m\u001b[0mappend\u001b[0m\u001b[0;34m(\u001b[0m\u001b[0men_2\u001b[0m\u001b[0;34m)\u001b[0m\u001b[0;34m\u001b[0m\u001b[0;34m\u001b[0m\u001b[0m\n\u001b[1;32m     12\u001b[0m \u001b[0;34m\u001b[0m\u001b[0m\n\u001b[0;32m---> 13\u001b[0;31m \u001b[0mdf\u001b[0m\u001b[0;34m[\u001b[0m\u001b[0;34m'9'\u001b[0m\u001b[0;34m]\u001b[0m \u001b[0;34m=\u001b[0m \u001b[0mne_1\u001b[0m\u001b[0;34m\u001b[0m\u001b[0;34m\u001b[0m\u001b[0m\n\u001b[0m\u001b[1;32m     14\u001b[0m \u001b[0mdf\u001b[0m\u001b[0;34m[\u001b[0m\u001b[0;34m'10'\u001b[0m\u001b[0;34m]\u001b[0m \u001b[0;34m=\u001b[0m \u001b[0mne_2\u001b[0m\u001b[0;34m\u001b[0m\u001b[0;34m\u001b[0m\u001b[0m\n",
      "\u001b[0;32m~/anaconda3/lib/python3.8/site-packages/pandas/core/frame.py\u001b[0m in \u001b[0;36m__setitem__\u001b[0;34m(self, key, value)\u001b[0m\n\u001b[1;32m   3038\u001b[0m         \u001b[0;32melse\u001b[0m\u001b[0;34m:\u001b[0m\u001b[0;34m\u001b[0m\u001b[0;34m\u001b[0m\u001b[0m\n\u001b[1;32m   3039\u001b[0m             \u001b[0;31m# set column\u001b[0m\u001b[0;34m\u001b[0m\u001b[0;34m\u001b[0m\u001b[0;34m\u001b[0m\u001b[0m\n\u001b[0;32m-> 3040\u001b[0;31m             \u001b[0mself\u001b[0m\u001b[0;34m.\u001b[0m\u001b[0m_set_item\u001b[0m\u001b[0;34m(\u001b[0m\u001b[0mkey\u001b[0m\u001b[0;34m,\u001b[0m \u001b[0mvalue\u001b[0m\u001b[0;34m)\u001b[0m\u001b[0;34m\u001b[0m\u001b[0;34m\u001b[0m\u001b[0m\n\u001b[0m\u001b[1;32m   3041\u001b[0m \u001b[0;34m\u001b[0m\u001b[0m\n\u001b[1;32m   3042\u001b[0m     \u001b[0;32mdef\u001b[0m \u001b[0m_setitem_slice\u001b[0m\u001b[0;34m(\u001b[0m\u001b[0mself\u001b[0m\u001b[0;34m,\u001b[0m \u001b[0mkey\u001b[0m\u001b[0;34m:\u001b[0m \u001b[0mslice\u001b[0m\u001b[0;34m,\u001b[0m \u001b[0mvalue\u001b[0m\u001b[0;34m)\u001b[0m\u001b[0;34m:\u001b[0m\u001b[0;34m\u001b[0m\u001b[0;34m\u001b[0m\u001b[0m\n",
      "\u001b[0;32m~/anaconda3/lib/python3.8/site-packages/pandas/core/frame.py\u001b[0m in \u001b[0;36m_set_item\u001b[0;34m(self, key, value)\u001b[0m\n\u001b[1;32m   3114\u001b[0m         \"\"\"\n\u001b[1;32m   3115\u001b[0m         \u001b[0mself\u001b[0m\u001b[0;34m.\u001b[0m\u001b[0m_ensure_valid_index\u001b[0m\u001b[0;34m(\u001b[0m\u001b[0mvalue\u001b[0m\u001b[0;34m)\u001b[0m\u001b[0;34m\u001b[0m\u001b[0;34m\u001b[0m\u001b[0m\n\u001b[0;32m-> 3116\u001b[0;31m         \u001b[0mvalue\u001b[0m \u001b[0;34m=\u001b[0m \u001b[0mself\u001b[0m\u001b[0;34m.\u001b[0m\u001b[0m_sanitize_column\u001b[0m\u001b[0;34m(\u001b[0m\u001b[0mkey\u001b[0m\u001b[0;34m,\u001b[0m \u001b[0mvalue\u001b[0m\u001b[0;34m)\u001b[0m\u001b[0;34m\u001b[0m\u001b[0;34m\u001b[0m\u001b[0m\n\u001b[0m\u001b[1;32m   3117\u001b[0m         \u001b[0mNDFrame\u001b[0m\u001b[0;34m.\u001b[0m\u001b[0m_set_item\u001b[0m\u001b[0;34m(\u001b[0m\u001b[0mself\u001b[0m\u001b[0;34m,\u001b[0m \u001b[0mkey\u001b[0m\u001b[0;34m,\u001b[0m \u001b[0mvalue\u001b[0m\u001b[0;34m)\u001b[0m\u001b[0;34m\u001b[0m\u001b[0;34m\u001b[0m\u001b[0m\n\u001b[1;32m   3118\u001b[0m \u001b[0;34m\u001b[0m\u001b[0m\n",
      "\u001b[0;32m~/anaconda3/lib/python3.8/site-packages/pandas/core/frame.py\u001b[0m in \u001b[0;36m_sanitize_column\u001b[0;34m(self, key, value, broadcast)\u001b[0m\n\u001b[1;32m   3762\u001b[0m \u001b[0;34m\u001b[0m\u001b[0m\n\u001b[1;32m   3763\u001b[0m             \u001b[0;31m# turn me into an ndarray\u001b[0m\u001b[0;34m\u001b[0m\u001b[0;34m\u001b[0m\u001b[0;34m\u001b[0m\u001b[0m\n\u001b[0;32m-> 3764\u001b[0;31m             \u001b[0mvalue\u001b[0m \u001b[0;34m=\u001b[0m \u001b[0msanitize_index\u001b[0m\u001b[0;34m(\u001b[0m\u001b[0mvalue\u001b[0m\u001b[0;34m,\u001b[0m \u001b[0mself\u001b[0m\u001b[0;34m.\u001b[0m\u001b[0mindex\u001b[0m\u001b[0;34m)\u001b[0m\u001b[0;34m\u001b[0m\u001b[0;34m\u001b[0m\u001b[0m\n\u001b[0m\u001b[1;32m   3765\u001b[0m             \u001b[0;32mif\u001b[0m \u001b[0;32mnot\u001b[0m \u001b[0misinstance\u001b[0m\u001b[0;34m(\u001b[0m\u001b[0mvalue\u001b[0m\u001b[0;34m,\u001b[0m \u001b[0;34m(\u001b[0m\u001b[0mnp\u001b[0m\u001b[0;34m.\u001b[0m\u001b[0mndarray\u001b[0m\u001b[0;34m,\u001b[0m \u001b[0mIndex\u001b[0m\u001b[0;34m)\u001b[0m\u001b[0;34m)\u001b[0m\u001b[0;34m:\u001b[0m\u001b[0;34m\u001b[0m\u001b[0;34m\u001b[0m\u001b[0m\n\u001b[1;32m   3766\u001b[0m                 \u001b[0;32mif\u001b[0m \u001b[0misinstance\u001b[0m\u001b[0;34m(\u001b[0m\u001b[0mvalue\u001b[0m\u001b[0;34m,\u001b[0m \u001b[0mlist\u001b[0m\u001b[0;34m)\u001b[0m \u001b[0;32mand\u001b[0m \u001b[0mlen\u001b[0m\u001b[0;34m(\u001b[0m\u001b[0mvalue\u001b[0m\u001b[0;34m)\u001b[0m \u001b[0;34m>\u001b[0m \u001b[0;36m0\u001b[0m\u001b[0;34m:\u001b[0m\u001b[0;34m\u001b[0m\u001b[0;34m\u001b[0m\u001b[0m\n",
      "\u001b[0;32m~/anaconda3/lib/python3.8/site-packages/pandas/core/internals/construction.py\u001b[0m in \u001b[0;36msanitize_index\u001b[0;34m(data, index)\u001b[0m\n\u001b[1;32m    745\u001b[0m     \"\"\"\n\u001b[1;32m    746\u001b[0m     \u001b[0;32mif\u001b[0m \u001b[0mlen\u001b[0m\u001b[0;34m(\u001b[0m\u001b[0mdata\u001b[0m\u001b[0;34m)\u001b[0m \u001b[0;34m!=\u001b[0m \u001b[0mlen\u001b[0m\u001b[0;34m(\u001b[0m\u001b[0mindex\u001b[0m\u001b[0;34m)\u001b[0m\u001b[0;34m:\u001b[0m\u001b[0;34m\u001b[0m\u001b[0;34m\u001b[0m\u001b[0m\n\u001b[0;32m--> 747\u001b[0;31m         raise ValueError(\n\u001b[0m\u001b[1;32m    748\u001b[0m             \u001b[0;34m\"Length of values \"\u001b[0m\u001b[0;34m\u001b[0m\u001b[0;34m\u001b[0m\u001b[0m\n\u001b[1;32m    749\u001b[0m             \u001b[0;34mf\"({len(data)}) \"\u001b[0m\u001b[0;34m\u001b[0m\u001b[0;34m\u001b[0m\u001b[0m\n",
      "\u001b[0;31mValueError\u001b[0m: Length of values (30) does not match length of index (9000)"
     ]
    }
   ],
   "source": [
    "ne_1 = []\n",
    "ne_2 = []\n",
    "for idx in tqdm(range(len(df[:30]))):\n",
    "    row = df.iloc[idx, :]\n",
    "    ner_results = {k: v for k, v in ner(row['1'])}\n",
    "    if row['2'] in ner_results and row['5'] in ner_results:\n",
    "        en_1, en_2 = ner_results[row['2']], ner_results[row['5']]\n",
    "    else:\n",
    "        en_1, en_2 = None, None\n",
    "    ne_1.append(en_1)\n",
    "    ne_2.append(en_2)\n",
    "\n",
    "df['9'] = ne_1\n",
    "df['10'] = ne_2"
   ]
  },
  {
   "cell_type": "code",
   "execution_count": 54,
   "metadata": {},
   "outputs": [
    {
     "data": {
      "text/html": [
       "<div>\n",
       "<style scoped>\n",
       "    .dataframe tbody tr th:only-of-type {\n",
       "        vertical-align: middle;\n",
       "    }\n",
       "\n",
       "    .dataframe tbody tr th {\n",
       "        vertical-align: top;\n",
       "    }\n",
       "\n",
       "    .dataframe thead th {\n",
       "        text-align: right;\n",
       "    }\n",
       "</style>\n",
       "<table border=\"1\" class=\"dataframe\">\n",
       "  <thead>\n",
       "    <tr style=\"text-align: right;\">\n",
       "      <th></th>\n",
       "      <th>0</th>\n",
       "      <th>1</th>\n",
       "      <th>2</th>\n",
       "      <th>3</th>\n",
       "      <th>4</th>\n",
       "      <th>5</th>\n",
       "      <th>6</th>\n",
       "      <th>7</th>\n",
       "      <th>8</th>\n",
       "      <th>9</th>\n",
       "      <th>10</th>\n",
       "    </tr>\n",
       "  </thead>\n",
       "  <tbody>\n",
       "    <tr>\n",
       "      <th>0</th>\n",
       "      <td>wikipedia-24896-25-30-33-19-21</td>\n",
       "      <td>영국에서 사용되는 스포츠 유틸리티 자동차의 브랜드로는 랜드로버(Land Rover)...</td>\n",
       "      <td>랜드로버</td>\n",
       "      <td>30</td>\n",
       "      <td>33</td>\n",
       "      <td>자동차</td>\n",
       "      <td>19</td>\n",
       "      <td>21</td>\n",
       "      <td>단체:제작</td>\n",
       "      <td>ORGANIZATION</td>\n",
       "      <td>ARTIFACT</td>\n",
       "    </tr>\n",
       "    <tr>\n",
       "      <th>1</th>\n",
       "      <td>wikipedia-12728-224-5-7-42-44</td>\n",
       "      <td>선거에서 민주당은 해산 전 의석인 230석에 한참 못 미치는 57석(지역구 27석,...</td>\n",
       "      <td>민주당</td>\n",
       "      <td>5</td>\n",
       "      <td>7</td>\n",
       "      <td>27석</td>\n",
       "      <td>42</td>\n",
       "      <td>44</td>\n",
       "      <td>관계_없음</td>\n",
       "      <td>ORGANIZATION</td>\n",
       "      <td>QUANTITY</td>\n",
       "    </tr>\n",
       "    <tr>\n",
       "      <th>2</th>\n",
       "      <td>wikipedia-28460-3-0-7-9-12</td>\n",
       "      <td>유럽 축구 연맹(UEFA) 집행위원회는 2014년 1월 24일에 열린 회의를 통해 ...</td>\n",
       "      <td>유럽 축구 연맹</td>\n",
       "      <td>0</td>\n",
       "      <td>7</td>\n",
       "      <td>UEFA</td>\n",
       "      <td>9</td>\n",
       "      <td>12</td>\n",
       "      <td>단체:별칭</td>\n",
       "      <td>ORGANIZATION</td>\n",
       "      <td>ORGANIZATION</td>\n",
       "    </tr>\n",
       "    <tr>\n",
       "      <th>3</th>\n",
       "      <td>wikipedia-11479-37-24-26-3-5</td>\n",
       "      <td>용병 공격수 챠디의 부진과 시즌 초 활약한 강수일의 침체, 시즌 중반에 영입한 세르...</td>\n",
       "      <td>강수일</td>\n",
       "      <td>24</td>\n",
       "      <td>26</td>\n",
       "      <td>공격수</td>\n",
       "      <td>3</td>\n",
       "      <td>5</td>\n",
       "      <td>인물:직업/직함</td>\n",
       "      <td>PERSON</td>\n",
       "      <td>CIVILIZATION</td>\n",
       "    </tr>\n",
       "    <tr>\n",
       "      <th>4</th>\n",
       "      <td>wikipedia-15581-6-0-2-32-40</td>\n",
       "      <td>람캄행 왕은 1237년에서 1247년 사이 수코타이의 왕 퍼쿤 씨 인트라팃과 쓰엉 ...</td>\n",
       "      <td>람캄행</td>\n",
       "      <td>0</td>\n",
       "      <td>2</td>\n",
       "      <td>퍼쿤 씨 인트라팃</td>\n",
       "      <td>32</td>\n",
       "      <td>40</td>\n",
       "      <td>인물:부모님</td>\n",
       "      <td>PERSON</td>\n",
       "      <td>PERSON</td>\n",
       "    </tr>\n",
       "  </tbody>\n",
       "</table>\n",
       "</div>"
      ],
      "text/plain": [
       "                                0  \\\n",
       "0  wikipedia-24896-25-30-33-19-21   \n",
       "1   wikipedia-12728-224-5-7-42-44   \n",
       "2      wikipedia-28460-3-0-7-9-12   \n",
       "3    wikipedia-11479-37-24-26-3-5   \n",
       "4     wikipedia-15581-6-0-2-32-40   \n",
       "\n",
       "                                                   1         2   3   4  \\\n",
       "0  영국에서 사용되는 스포츠 유틸리티 자동차의 브랜드로는 랜드로버(Land Rover)...      랜드로버  30  33   \n",
       "1  선거에서 민주당은 해산 전 의석인 230석에 한참 못 미치는 57석(지역구 27석,...       민주당   5   7   \n",
       "2  유럽 축구 연맹(UEFA) 집행위원회는 2014년 1월 24일에 열린 회의를 통해 ...  유럽 축구 연맹   0   7   \n",
       "3  용병 공격수 챠디의 부진과 시즌 초 활약한 강수일의 침체, 시즌 중반에 영입한 세르...       강수일  24  26   \n",
       "4  람캄행 왕은 1237년에서 1247년 사이 수코타이의 왕 퍼쿤 씨 인트라팃과 쓰엉 ...       람캄행   0   2   \n",
       "\n",
       "           5   6   7         8             9            10  \n",
       "0        자동차  19  21     단체:제작  ORGANIZATION      ARTIFACT  \n",
       "1        27석  42  44     관계_없음  ORGANIZATION      QUANTITY  \n",
       "2       UEFA   9  12     단체:별칭  ORGANIZATION  ORGANIZATION  \n",
       "3        공격수   3   5  인물:직업/직함        PERSON  CIVILIZATION  \n",
       "4  퍼쿤 씨 인트라팃  32  40    인물:부모님        PERSON        PERSON  "
      ]
     },
     "execution_count": 54,
     "metadata": {},
     "output_type": "execute_result"
    }
   ],
   "source": [
    "df.head()"
   ]
  },
  {
   "cell_type": "code",
   "execution_count": 9,
   "metadata": {},
   "outputs": [
    {
     "ename": "KeyError",
     "evalue": "'9'",
     "output_type": "error",
     "traceback": [
      "\u001b[0;31m---------------------------------------------------------------------------\u001b[0m",
      "\u001b[0;31mKeyError\u001b[0m                                  Traceback (most recent call last)",
      "\u001b[0;32m/opt/conda/lib/python3.7/site-packages/pandas/core/indexes/base.py\u001b[0m in \u001b[0;36mget_loc\u001b[0;34m(self, key, method, tolerance)\u001b[0m\n\u001b[1;32m   2897\u001b[0m             \u001b[0;32mtry\u001b[0m\u001b[0;34m:\u001b[0m\u001b[0;34m\u001b[0m\u001b[0;34m\u001b[0m\u001b[0m\n\u001b[0;32m-> 2898\u001b[0;31m                 \u001b[0;32mreturn\u001b[0m \u001b[0mself\u001b[0m\u001b[0;34m.\u001b[0m\u001b[0m_engine\u001b[0m\u001b[0;34m.\u001b[0m\u001b[0mget_loc\u001b[0m\u001b[0;34m(\u001b[0m\u001b[0mcasted_key\u001b[0m\u001b[0;34m)\u001b[0m\u001b[0;34m\u001b[0m\u001b[0;34m\u001b[0m\u001b[0m\n\u001b[0m\u001b[1;32m   2899\u001b[0m             \u001b[0;32mexcept\u001b[0m \u001b[0mKeyError\u001b[0m \u001b[0;32mas\u001b[0m \u001b[0merr\u001b[0m\u001b[0;34m:\u001b[0m\u001b[0;34m\u001b[0m\u001b[0;34m\u001b[0m\u001b[0m\n",
      "\u001b[0;32mpandas/_libs/index.pyx\u001b[0m in \u001b[0;36mpandas._libs.index.IndexEngine.get_loc\u001b[0;34m()\u001b[0m\n",
      "\u001b[0;32mpandas/_libs/index.pyx\u001b[0m in \u001b[0;36mpandas._libs.index.IndexEngine.get_loc\u001b[0;34m()\u001b[0m\n",
      "\u001b[0;32mpandas/_libs/hashtable_class_helper.pxi\u001b[0m in \u001b[0;36mpandas._libs.hashtable.PyObjectHashTable.get_item\u001b[0;34m()\u001b[0m\n",
      "\u001b[0;32mpandas/_libs/hashtable_class_helper.pxi\u001b[0m in \u001b[0;36mpandas._libs.hashtable.PyObjectHashTable.get_item\u001b[0;34m()\u001b[0m\n",
      "\u001b[0;31mKeyError\u001b[0m: '9'",
      "\nThe above exception was the direct cause of the following exception:\n",
      "\u001b[0;31mKeyError\u001b[0m                                  Traceback (most recent call last)",
      "\u001b[0;32m<ipython-input-9-9c0e3130eb87>\u001b[0m in \u001b[0;36m<module>\u001b[0;34m\u001b[0m\n\u001b[0;32m----> 1\u001b[0;31m \u001b[0mner_tokens\u001b[0m \u001b[0;34m=\u001b[0m \u001b[0;34m[\u001b[0m\u001b[0mi\u001b[0m \u001b[0;32mfor\u001b[0m \u001b[0mi\u001b[0m \u001b[0;32min\u001b[0m \u001b[0mdf\u001b[0m\u001b[0;34m[\u001b[0m\u001b[0;34m'9'\u001b[0m\u001b[0;34m]\u001b[0m\u001b[0;34m.\u001b[0m\u001b[0munique\u001b[0m\u001b[0;34m(\u001b[0m\u001b[0;34m)\u001b[0m\u001b[0;34m]\u001b[0m\u001b[0;34m\u001b[0m\u001b[0;34m\u001b[0m\u001b[0m\n\u001b[0m\u001b[1;32m      2\u001b[0m \u001b[0mner_tokens\u001b[0m\u001b[0;34m.\u001b[0m\u001b[0mextend\u001b[0m\u001b[0;34m(\u001b[0m\u001b[0;34m[\u001b[0m\u001b[0mi\u001b[0m \u001b[0;32mfor\u001b[0m \u001b[0mi\u001b[0m \u001b[0;32min\u001b[0m \u001b[0mdf\u001b[0m\u001b[0;34m[\u001b[0m\u001b[0;34m'10'\u001b[0m\u001b[0;34m]\u001b[0m\u001b[0;34m.\u001b[0m\u001b[0munique\u001b[0m\u001b[0;34m(\u001b[0m\u001b[0;34m)\u001b[0m\u001b[0;34m]\u001b[0m\u001b[0;34m)\u001b[0m\u001b[0;34m\u001b[0m\u001b[0;34m\u001b[0m\u001b[0m\n\u001b[1;32m      3\u001b[0m \u001b[0mner_tokens\u001b[0m \u001b[0;34m=\u001b[0m \u001b[0mlist\u001b[0m\u001b[0;34m(\u001b[0m\u001b[0mset\u001b[0m\u001b[0;34m(\u001b[0m\u001b[0mner_tokens\u001b[0m\u001b[0;34m)\u001b[0m\u001b[0;34m)\u001b[0m\u001b[0;34m\u001b[0m\u001b[0;34m\u001b[0m\u001b[0m\n\u001b[1;32m      4\u001b[0m \u001b[0mner_tokens_processed\u001b[0m \u001b[0;34m=\u001b[0m \u001b[0;34m[\u001b[0m\u001b[0;34m]\u001b[0m\u001b[0;34m\u001b[0m\u001b[0;34m\u001b[0m\u001b[0m\n\u001b[1;32m      5\u001b[0m \u001b[0;32mfor\u001b[0m \u001b[0mtoken\u001b[0m \u001b[0;32min\u001b[0m \u001b[0mner_tokens\u001b[0m\u001b[0;34m:\u001b[0m\u001b[0;34m\u001b[0m\u001b[0;34m\u001b[0m\u001b[0m\n",
      "\u001b[0;32m/opt/conda/lib/python3.7/site-packages/pandas/core/frame.py\u001b[0m in \u001b[0;36m__getitem__\u001b[0;34m(self, key)\u001b[0m\n\u001b[1;32m   2904\u001b[0m             \u001b[0;32mif\u001b[0m \u001b[0mself\u001b[0m\u001b[0;34m.\u001b[0m\u001b[0mcolumns\u001b[0m\u001b[0;34m.\u001b[0m\u001b[0mnlevels\u001b[0m \u001b[0;34m>\u001b[0m \u001b[0;36m1\u001b[0m\u001b[0;34m:\u001b[0m\u001b[0;34m\u001b[0m\u001b[0;34m\u001b[0m\u001b[0m\n\u001b[1;32m   2905\u001b[0m                 \u001b[0;32mreturn\u001b[0m \u001b[0mself\u001b[0m\u001b[0;34m.\u001b[0m\u001b[0m_getitem_multilevel\u001b[0m\u001b[0;34m(\u001b[0m\u001b[0mkey\u001b[0m\u001b[0;34m)\u001b[0m\u001b[0;34m\u001b[0m\u001b[0;34m\u001b[0m\u001b[0m\n\u001b[0;32m-> 2906\u001b[0;31m             \u001b[0mindexer\u001b[0m \u001b[0;34m=\u001b[0m \u001b[0mself\u001b[0m\u001b[0;34m.\u001b[0m\u001b[0mcolumns\u001b[0m\u001b[0;34m.\u001b[0m\u001b[0mget_loc\u001b[0m\u001b[0;34m(\u001b[0m\u001b[0mkey\u001b[0m\u001b[0;34m)\u001b[0m\u001b[0;34m\u001b[0m\u001b[0;34m\u001b[0m\u001b[0m\n\u001b[0m\u001b[1;32m   2907\u001b[0m             \u001b[0;32mif\u001b[0m \u001b[0mis_integer\u001b[0m\u001b[0;34m(\u001b[0m\u001b[0mindexer\u001b[0m\u001b[0;34m)\u001b[0m\u001b[0;34m:\u001b[0m\u001b[0;34m\u001b[0m\u001b[0;34m\u001b[0m\u001b[0m\n\u001b[1;32m   2908\u001b[0m                 \u001b[0mindexer\u001b[0m \u001b[0;34m=\u001b[0m \u001b[0;34m[\u001b[0m\u001b[0mindexer\u001b[0m\u001b[0;34m]\u001b[0m\u001b[0;34m\u001b[0m\u001b[0;34m\u001b[0m\u001b[0m\n",
      "\u001b[0;32m/opt/conda/lib/python3.7/site-packages/pandas/core/indexes/base.py\u001b[0m in \u001b[0;36mget_loc\u001b[0;34m(self, key, method, tolerance)\u001b[0m\n\u001b[1;32m   2898\u001b[0m                 \u001b[0;32mreturn\u001b[0m \u001b[0mself\u001b[0m\u001b[0;34m.\u001b[0m\u001b[0m_engine\u001b[0m\u001b[0;34m.\u001b[0m\u001b[0mget_loc\u001b[0m\u001b[0;34m(\u001b[0m\u001b[0mcasted_key\u001b[0m\u001b[0;34m)\u001b[0m\u001b[0;34m\u001b[0m\u001b[0;34m\u001b[0m\u001b[0m\n\u001b[1;32m   2899\u001b[0m             \u001b[0;32mexcept\u001b[0m \u001b[0mKeyError\u001b[0m \u001b[0;32mas\u001b[0m \u001b[0merr\u001b[0m\u001b[0;34m:\u001b[0m\u001b[0;34m\u001b[0m\u001b[0;34m\u001b[0m\u001b[0m\n\u001b[0;32m-> 2900\u001b[0;31m                 \u001b[0;32mraise\u001b[0m \u001b[0mKeyError\u001b[0m\u001b[0;34m(\u001b[0m\u001b[0mkey\u001b[0m\u001b[0;34m)\u001b[0m \u001b[0;32mfrom\u001b[0m \u001b[0merr\u001b[0m\u001b[0;34m\u001b[0m\u001b[0;34m\u001b[0m\u001b[0m\n\u001b[0m\u001b[1;32m   2901\u001b[0m \u001b[0;34m\u001b[0m\u001b[0m\n\u001b[1;32m   2902\u001b[0m         \u001b[0;32mif\u001b[0m \u001b[0mtolerance\u001b[0m \u001b[0;32mis\u001b[0m \u001b[0;32mnot\u001b[0m \u001b[0;32mNone\u001b[0m\u001b[0;34m:\u001b[0m\u001b[0;34m\u001b[0m\u001b[0;34m\u001b[0m\u001b[0m\n",
      "\u001b[0;31mKeyError\u001b[0m: '9'"
     ]
    }
   ],
   "source": [
    "ner_tokens = [i for i in df['9'].unique()]\n",
    "ner_tokens.extend([i for i in df['10'].unique()])\n",
    "ner_tokens = list(set(ner_tokens))\n",
    "ner_tokens_processed = []\n",
    "for token in ner_tokens:\n",
    "    a = f'[{token}]'\n",
    "    b = f'[/{token}]'\n",
    "    ner_tokens_processed.append(a)\n",
    "    ner_tokens_processed.append(b)\n",
    "print(ner_tokens_processed)"
   ]
  },
  {
   "cell_type": "code",
   "execution_count": 56,
   "metadata": {},
   "outputs": [
    {
     "name": "stderr",
     "output_type": "stream",
     "text": [
      "100%|██████████| 9000/9000 [00:01<00:00, 5424.91it/s]\n"
     ]
    }
   ],
   "source": [
    "new_s_lst = []\n",
    "for idx in tqdm(range(len(df))):\n",
    "    row = df.iloc[idx, :]\n",
    "    s = row['1']\n",
    "    new_s = s.replace(row['2'], '[{}] {} [/{}]'.format(row['9'], row['2'], row['9']))\n",
    "    new_s = new_s.replace(row['5'], '[{}] {} [/{}]'.format(row['10'], row['5'], row['10']))\n",
    "    new_s_lst.append(new_s)\n",
    "df['11'] = new_s_lst\n",
    "del new_s_lst"
   ]
  },
  {
   "cell_type": "code",
   "execution_count": 4,
   "metadata": {},
   "outputs": [
    {
     "name": "stderr",
     "output_type": "stream",
     "text": [
      "100%|██████████| 9000/9000 [00:01<00:00, 5973.57it/s]\n"
     ]
    }
   ],
   "source": [
    "# ONLY ENTITY TOKEN\n",
    "new_s_lst = []\n",
    "for idx in tqdm(range(len(df))):\n",
    "    row = df.iloc[idx, :]\n",
    "    s = row['1']\n",
    "    new_s = s.replace(row['2'], '[{}] {} [/{}]'.format('ENTITY', row['2'], 'ENTITY'))\n",
    "    new_s = new_s.replace(row['5'], '[{}] {} [/{}]'.format('ENTITY', row['5'], 'ENTITY'))\n",
    "    new_s_lst.append(new_s)\n",
    "df['11'] = new_s_lst\n",
    "del new_s_lst"
   ]
  },
  {
   "cell_type": "code",
   "execution_count": 18,
   "metadata": {},
   "outputs": [
    {
     "data": {
      "text/html": [
       "<div>\n",
       "<style scoped>\n",
       "    .dataframe tbody tr th:only-of-type {\n",
       "        vertical-align: middle;\n",
       "    }\n",
       "\n",
       "    .dataframe tbody tr th {\n",
       "        vertical-align: top;\n",
       "    }\n",
       "\n",
       "    .dataframe thead th {\n",
       "        text-align: right;\n",
       "    }\n",
       "</style>\n",
       "<table border=\"1\" class=\"dataframe\">\n",
       "  <thead>\n",
       "    <tr style=\"text-align: right;\">\n",
       "      <th></th>\n",
       "      <th>0</th>\n",
       "      <th>1</th>\n",
       "      <th>2</th>\n",
       "      <th>3</th>\n",
       "      <th>4</th>\n",
       "      <th>5</th>\n",
       "      <th>6</th>\n",
       "      <th>7</th>\n",
       "      <th>8</th>\n",
       "      <th>11</th>\n",
       "    </tr>\n",
       "  </thead>\n",
       "  <tbody>\n",
       "    <tr>\n",
       "      <th>0</th>\n",
       "      <td>wikipedia-24896-25-30-33-19-21</td>\n",
       "      <td>영국에서 사용되는 스포츠 유틸리티 자동차의 브랜드로는 랜드로버(Land Rover)...</td>\n",
       "      <td>랜드로버</td>\n",
       "      <td>30</td>\n",
       "      <td>33</td>\n",
       "      <td>자동차</td>\n",
       "      <td>19</td>\n",
       "      <td>21</td>\n",
       "      <td>단체:제작</td>\n",
       "      <td>영국에서 사용되는 스포츠 유틸리티 [E2] 자동차 [/E2]의 브랜드로는 [E1] ...</td>\n",
       "    </tr>\n",
       "    <tr>\n",
       "      <th>1</th>\n",
       "      <td>wikipedia-12728-224-5-7-42-44</td>\n",
       "      <td>선거에서 민주당은 해산 전 의석인 230석에 한참 못 미치는 57석(지역구 27석,...</td>\n",
       "      <td>민주당</td>\n",
       "      <td>5</td>\n",
       "      <td>7</td>\n",
       "      <td>27석</td>\n",
       "      <td>42</td>\n",
       "      <td>44</td>\n",
       "      <td>관계_없음</td>\n",
       "      <td>선거에서 [E1] 민주당 [/E1]은 해산 전 의석인 230석에 한참 못 미치는 5...</td>\n",
       "    </tr>\n",
       "    <tr>\n",
       "      <th>2</th>\n",
       "      <td>wikipedia-28460-3-0-7-9-12</td>\n",
       "      <td>유럽 축구 연맹(UEFA) 집행위원회는 2014년 1월 24일에 열린 회의를 통해 ...</td>\n",
       "      <td>유럽 축구 연맹</td>\n",
       "      <td>0</td>\n",
       "      <td>7</td>\n",
       "      <td>UEFA</td>\n",
       "      <td>9</td>\n",
       "      <td>12</td>\n",
       "      <td>단체:별칭</td>\n",
       "      <td>[E1] 유럽 축구 연맹 [/E1]([E2] UEFA [/E2]) 집행위원회는 20...</td>\n",
       "    </tr>\n",
       "    <tr>\n",
       "      <th>3</th>\n",
       "      <td>wikipedia-11479-37-24-26-3-5</td>\n",
       "      <td>용병 공격수 챠디의 부진과 시즌 초 활약한 강수일의 침체, 시즌 중반에 영입한 세르...</td>\n",
       "      <td>강수일</td>\n",
       "      <td>24</td>\n",
       "      <td>26</td>\n",
       "      <td>공격수</td>\n",
       "      <td>3</td>\n",
       "      <td>5</td>\n",
       "      <td>인물:직업/직함</td>\n",
       "      <td>용병 [E2] 공격수 [/E2] 챠디의 부진과 시즌 초 활약한 [E1] 강수일 [/...</td>\n",
       "    </tr>\n",
       "    <tr>\n",
       "      <th>4</th>\n",
       "      <td>wikipedia-15581-6-0-2-32-40</td>\n",
       "      <td>람캄행 왕은 1237년에서 1247년 사이 수코타이의 왕 퍼쿤 씨 인트라팃과 쓰엉 ...</td>\n",
       "      <td>람캄행</td>\n",
       "      <td>0</td>\n",
       "      <td>2</td>\n",
       "      <td>퍼쿤 씨 인트라팃</td>\n",
       "      <td>32</td>\n",
       "      <td>40</td>\n",
       "      <td>인물:부모님</td>\n",
       "      <td>[E1] 람캄행 [/E1] 왕은 1237년에서 1247년 사이 수코타이의 왕 [E2...</td>\n",
       "    </tr>\n",
       "    <tr>\n",
       "      <th>...</th>\n",
       "      <td>...</td>\n",
       "      <td>...</td>\n",
       "      <td>...</td>\n",
       "      <td>...</td>\n",
       "      <td>...</td>\n",
       "      <td>...</td>\n",
       "      <td>...</td>\n",
       "      <td>...</td>\n",
       "      <td>...</td>\n",
       "      <td>...</td>\n",
       "    </tr>\n",
       "    <tr>\n",
       "      <th>8995</th>\n",
       "      <td>wikipedia-5414-12-15-21-0-4</td>\n",
       "      <td>2002년 FIFA 월드컵 사우디아라비아와의 1차전에서 독일은 8-0으로 승리하였는...</td>\n",
       "      <td>사우디아라비아</td>\n",
       "      <td>15</td>\n",
       "      <td>21</td>\n",
       "      <td>2002년</td>\n",
       "      <td>0</td>\n",
       "      <td>4</td>\n",
       "      <td>관계_없음</td>\n",
       "      <td>[E2] 2002년 [/E2] FIFA 월드컵 [E1] 사우디아라비아 [/E1]와의...</td>\n",
       "    </tr>\n",
       "    <tr>\n",
       "      <th>8996</th>\n",
       "      <td>wikipedia-10384-4-12-14-0-1</td>\n",
       "      <td>일본의 2대 메이커인 토요타와 닛산은 시장 점유율을 높이기 위한 신차 개발을 계속하...</td>\n",
       "      <td>토요타</td>\n",
       "      <td>12</td>\n",
       "      <td>14</td>\n",
       "      <td>일본</td>\n",
       "      <td>0</td>\n",
       "      <td>1</td>\n",
       "      <td>단체:본사_국가</td>\n",
       "      <td>[E2] 일본 [/E2]의 2대 메이커인 [E1] 토요타 [/E1]와 닛산은 시장 ...</td>\n",
       "    </tr>\n",
       "    <tr>\n",
       "      <th>8997</th>\n",
       "      <td>wikipedia-25913-6-8-10-93-106</td>\n",
       "      <td>방호의의 손자 방덕룡(方德龍)은 1588년(선조 21년) 무과에 급제하고 낙안군수로...</td>\n",
       "      <td>방덕룡</td>\n",
       "      <td>8</td>\n",
       "      <td>10</td>\n",
       "      <td>선무원종공신(宣武原從功臣)</td>\n",
       "      <td>93</td>\n",
       "      <td>106</td>\n",
       "      <td>인물:직업/직함</td>\n",
       "      <td>방호의의 손자 [E1] 방덕룡 [/E1](方德龍)은 1588년(선조 21년) 무과에...</td>\n",
       "    </tr>\n",
       "    <tr>\n",
       "      <th>8998</th>\n",
       "      <td>wikitree-12062-15-0-3-46-47</td>\n",
       "      <td>LG전자는 올해 초 국내시장에 출시한 2020년형 ‘LG 그램’ 시리즈를 이달부터 ...</td>\n",
       "      <td>LG전자</td>\n",
       "      <td>0</td>\n",
       "      <td>3</td>\n",
       "      <td>북미</td>\n",
       "      <td>46</td>\n",
       "      <td>47</td>\n",
       "      <td>관계_없음</td>\n",
       "      <td>[E1] LG전자 [/E1]는 올해 초 국내시장에 출시한 2020년형 ‘LG 그램’...</td>\n",
       "    </tr>\n",
       "    <tr>\n",
       "      <th>8999</th>\n",
       "      <td>wikitree-21265-0-16-18-20-21</td>\n",
       "      <td>전남도의회 안전건설소방위원회 차영수 의원(강진1)은 지난 14일 설 명절을 앞두고 ...</td>\n",
       "      <td>차영수</td>\n",
       "      <td>16</td>\n",
       "      <td>18</td>\n",
       "      <td>의원</td>\n",
       "      <td>20</td>\n",
       "      <td>21</td>\n",
       "      <td>인물:직업/직함</td>\n",
       "      <td>전남도의회 안전건설소방위원회 [E1] 차영수 [/E1] [E2] 의원 [/E2](강...</td>\n",
       "    </tr>\n",
       "  </tbody>\n",
       "</table>\n",
       "<p>9000 rows × 10 columns</p>\n",
       "</div>"
      ],
      "text/plain": [
       "                                   0  \\\n",
       "0     wikipedia-24896-25-30-33-19-21   \n",
       "1      wikipedia-12728-224-5-7-42-44   \n",
       "2         wikipedia-28460-3-0-7-9-12   \n",
       "3       wikipedia-11479-37-24-26-3-5   \n",
       "4        wikipedia-15581-6-0-2-32-40   \n",
       "...                              ...   \n",
       "8995     wikipedia-5414-12-15-21-0-4   \n",
       "8996     wikipedia-10384-4-12-14-0-1   \n",
       "8997   wikipedia-25913-6-8-10-93-106   \n",
       "8998     wikitree-12062-15-0-3-46-47   \n",
       "8999    wikitree-21265-0-16-18-20-21   \n",
       "\n",
       "                                                      1         2   3   4  \\\n",
       "0     영국에서 사용되는 스포츠 유틸리티 자동차의 브랜드로는 랜드로버(Land Rover)...      랜드로버  30  33   \n",
       "1     선거에서 민주당은 해산 전 의석인 230석에 한참 못 미치는 57석(지역구 27석,...       민주당   5   7   \n",
       "2     유럽 축구 연맹(UEFA) 집행위원회는 2014년 1월 24일에 열린 회의를 통해 ...  유럽 축구 연맹   0   7   \n",
       "3     용병 공격수 챠디의 부진과 시즌 초 활약한 강수일의 침체, 시즌 중반에 영입한 세르...       강수일  24  26   \n",
       "4     람캄행 왕은 1237년에서 1247년 사이 수코타이의 왕 퍼쿤 씨 인트라팃과 쓰엉 ...       람캄행   0   2   \n",
       "...                                                 ...       ...  ..  ..   \n",
       "8995  2002년 FIFA 월드컵 사우디아라비아와의 1차전에서 독일은 8-0으로 승리하였는...   사우디아라비아  15  21   \n",
       "8996  일본의 2대 메이커인 토요타와 닛산은 시장 점유율을 높이기 위한 신차 개발을 계속하...       토요타  12  14   \n",
       "8997  방호의의 손자 방덕룡(方德龍)은 1588년(선조 21년) 무과에 급제하고 낙안군수로...       방덕룡   8  10   \n",
       "8998  LG전자는 올해 초 국내시장에 출시한 2020년형 ‘LG 그램’ 시리즈를 이달부터 ...      LG전자   0   3   \n",
       "8999  전남도의회 안전건설소방위원회 차영수 의원(강진1)은 지난 14일 설 명절을 앞두고 ...       차영수  16  18   \n",
       "\n",
       "                   5   6    7         8  \\\n",
       "0                자동차  19   21     단체:제작   \n",
       "1                27석  42   44     관계_없음   \n",
       "2               UEFA   9   12     단체:별칭   \n",
       "3                공격수   3    5  인물:직업/직함   \n",
       "4          퍼쿤 씨 인트라팃  32   40    인물:부모님   \n",
       "...              ...  ..  ...       ...   \n",
       "8995           2002년   0    4     관계_없음   \n",
       "8996              일본   0    1  단체:본사_국가   \n",
       "8997  선무원종공신(宣武原從功臣)  93  106  인물:직업/직함   \n",
       "8998              북미  46   47     관계_없음   \n",
       "8999              의원  20   21  인물:직업/직함   \n",
       "\n",
       "                                                     11  \n",
       "0     영국에서 사용되는 스포츠 유틸리티 [E2] 자동차 [/E2]의 브랜드로는 [E1] ...  \n",
       "1     선거에서 [E1] 민주당 [/E1]은 해산 전 의석인 230석에 한참 못 미치는 5...  \n",
       "2     [E1] 유럽 축구 연맹 [/E1]([E2] UEFA [/E2]) 집행위원회는 20...  \n",
       "3     용병 [E2] 공격수 [/E2] 챠디의 부진과 시즌 초 활약한 [E1] 강수일 [/...  \n",
       "4     [E1] 람캄행 [/E1] 왕은 1237년에서 1247년 사이 수코타이의 왕 [E2...  \n",
       "...                                                 ...  \n",
       "8995  [E2] 2002년 [/E2] FIFA 월드컵 [E1] 사우디아라비아 [/E1]와의...  \n",
       "8996  [E2] 일본 [/E2]의 2대 메이커인 [E1] 토요타 [/E1]와 닛산은 시장 ...  \n",
       "8997  방호의의 손자 [E1] 방덕룡 [/E1](方德龍)은 1588년(선조 21년) 무과에...  \n",
       "8998  [E1] LG전자 [/E1]는 올해 초 국내시장에 출시한 2020년형 ‘LG 그램’...  \n",
       "8999  전남도의회 안전건설소방위원회 [E1] 차영수 [/E1] [E2] 의원 [/E2](강...  \n",
       "\n",
       "[9000 rows x 10 columns]"
      ]
     },
     "execution_count": 18,
     "metadata": {},
     "output_type": "execute_result"
    }
   ],
   "source": [
    "df"
   ]
  },
  {
   "cell_type": "code",
   "execution_count": 10,
   "metadata": {},
   "outputs": [],
   "source": [
    "entity_tokens = ['[E1]', '[/E1]', '[E2]', '[/E2]']"
   ]
  },
  {
   "cell_type": "code",
   "execution_count": 11,
   "metadata": {},
   "outputs": [],
   "source": [
    "with open('../input/data/train/entity_tokens.pickle', 'wb') as f:\n",
    "    pickle.dump(entity_tokens, f)"
   ]
  },
  {
   "cell_type": "markdown",
   "metadata": {},
   "source": [
    "### Machine Translation"
   ]
  },
  {
   "cell_type": "code",
   "execution_count": 191,
   "metadata": {},
   "outputs": [],
   "source": [
    "mt = Pororo(task='translation', lang='multi')"
   ]
  },
  {
   "cell_type": "code",
   "execution_count": 196,
   "metadata": {},
   "outputs": [
    {
     "data": {
      "text/plain": [
       "'a central species'"
      ]
     },
     "execution_count": 196,
     "metadata": {},
     "output_type": "execute_result"
    }
   ],
   "source": [
    "mt('中宗', src='ko', tgt='en')"
   ]
  },
  {
   "cell_type": "markdown",
   "metadata": {},
   "source": [
    "### Tokenizer 테스트"
   ]
  },
  {
   "cell_type": "code",
   "execution_count": 189,
   "metadata": {},
   "outputs": [],
   "source": [
    "# 토크나이저 성능비교\n",
    "\n",
    "def tokenizer_performance_test(MODEL_NAME, save_n=10):\n",
    "    if MODEL_NAME == 'monologg/kobert':\n",
    "        tokenizer = KoBertTokenizer.from_pretrained('monologg/kobert')\n",
    "    else:\n",
    "        tokenizer = AutoTokenizer.from_pretrained(MODEL_NAME)\n",
    "    unk_counter = 0\n",
    "    token_counter = 0\n",
    "    sample_texts = []\n",
    "    for i in tqdm(range(len(df))):\n",
    "        s = df['1'][i]\n",
    "        tokenized = tokenizer.tokenize(s)\n",
    "        token_counter += len(tokenized)\n",
    "        rev = Counter(tokenizer.convert_ids_to_tokens(tokenizer.convert_tokens_to_ids(tokenized)))\n",
    "        if '[UNK]' in rev:\n",
    "            unk_counter += rev['[UNK]']\n",
    "        if len(sample_texts) <= save_n:\n",
    "            sample_texts.append(tokenized)\n",
    "    return unk_counter / token_counter, token_counter, sample_texts"
   ]
  },
  {
   "cell_type": "code",
   "execution_count": 190,
   "metadata": {
    "tags": []
   },
   "outputs": [
    {
     "name": "stderr",
     "output_type": "stream",
     "text": [
      "100%|██████████| 9000/9000 [00:03<00:00, 2380.82it/s]\n"
     ]
    },
    {
     "name": "stdout",
     "output_type": "stream",
     "text": [
      "xlm-roberta-large : 0.0 (num all tokens):  520255\n",
      "[['▁영국', '에서', '▁사용', '되는', '▁스포츠', '▁유', '틸', '리', '티', '▁자동차', '의', '▁브랜드', '로는', '▁', '랜드', '로', '버', '(', 'Land', '▁Rover', ')', '와', '▁지', '프', '(', 'Je', 'ep', ')', '가', '▁있으며', ',', '▁이', '▁브랜드', '들은', '▁자동차', '의', '▁종류', '를', '▁일', '컫', '는', '▁말', '로', '▁사용', '되기', '도', '▁한다', '.'], ['▁선거', '에서', '▁민주당', '은', '▁해', '산', '▁전', '▁의', '석', '인', '▁230', '석', '에', '▁한', '참', '▁못', '▁미', '치는', '▁57', '석', '(', '지역', '구', '▁27', '석', ',', '▁비', '례', '대표', '▁30', '석', ')', '을', '▁획득', '하는', '▁데', '▁그', '쳤다', '.'], ['▁유럽', '▁축구', '▁연', '맹', '(', 'UE', 'FA', ')', '▁집', '행', '위원회', '는', '▁2014', '년', '▁1', '월', '▁24', '일에', '▁열린', '▁', '회의', '를', '▁통해', '▁2017', '년', '▁대회', '부터', '▁UEFA', '▁U', '-21', '▁축구', '▁선수', '권', '▁대회', '▁참가', '국', '을', '▁8', '개', '국', '에서', '▁12', '개', '국', '으로', '▁확대', '하기로', '▁결정', '했다', '.'], ['▁용', '병', '▁공격', '수', '▁', '챠', '디', '의', '▁부', '진', '과', '▁시즌', '▁초', '▁활약', '한', '▁강', '수', '일', '의', '▁침', '체', ',', '▁시즌', '▁중', '반', '에', '▁영', '입', '한', '▁세', '르', '비아', '▁출신', '▁용', '병', '▁미', '드', '필', '더', '▁오', '그', '넨', '▁코', '로', '만의', '▁부', '상', '▁등이', '▁부', '진', '의', '▁원인', '으로', '▁지적', '되', '던', '▁가운데', '▁인천', '은', '▁시즌', '▁마지막', '▁4', '경기', '에서', '▁3', '승', '▁1', '패', '를', '▁거', '두', '며', '▁막', '판', '▁승', '점', '▁', '쌓', '기에', '▁성공', ',', '▁정', '규', '리그', '▁', '순위', '▁5', '위로', '▁', '플레이', '오프', '에', '▁진출', '하는', '▁데', '에', '▁성공', '했다', '.'], ['▁', '람', '캄', '행', '▁왕', '은', '▁12', '37', '년', '에서', '▁12', '47', '년', '▁사이', '▁수', '코', '타', '이', '의', '▁왕', '▁퍼', '쿤', '▁씨', '▁인', '트라', '팃', '과', '▁쓰', '엉', '▁부', '인', '▁사이', '의', '▁', '셋', '째', '▁아들', '로', '▁태', '어', '났다', '.'], ['▁이와', '▁관련', '해', '▁AF', 'CD', '는', '▁대학', '▁소속', '▁전문가', '와', '▁세계', '동', '물', '보건', '기구', '(', 'O', 'IE', ')', '가', '▁사람', '과', '▁동물', '▁사이', '에서', '▁코', '로', '나', '19', '가', '▁전', '파', '될', '▁가능성이', '▁크', '다고', '▁밝혔다', '고', '▁전했다', '.'], ['▁신', '형', '▁K', '5', '▁사전', '계약', '▁돌', '풍', '에', '▁대해', '▁기', '아', '자동차', '▁관계자는', '▁\"', '한', '눈', '에', '▁각', '인', '될', '▁정도', '의', '▁강', '렬', '한', '▁디자인', '의', '▁영향', '이', '▁', '컸', '다', '\"', '고', '▁밝혔다', '.'], ['▁2008', '년', '▁이전', '▁팀', '명', '칭', '은', '▁나', '고', '야', '▁', '그램', '퍼', '스', '▁에', '이', '트', '였', '고', '▁에', '이', '트', '는', '▁나', '고', '야', '▁시', '▁표', '장', '에', '▁있는', '▁숫자', '(', '八', ')', '와', '▁모', '기업', '▁토', '요', '타', '▁자동차', '의', '▁브랜드', '를', '▁상징', '하였', '으나', ',', '▁2008', '년부터', '▁에', '이', '트를', '▁제외', '하고', '▁팀', '▁명', '칭', '을', '▁나', '고', '야', '▁', '그램', '퍼', '스', '로', '▁호', '칭', '하고', '▁있다', '.'], ['▁SW', '융합', '교육', '원', '▁조', '영', '주', '▁담당', '교', '수는', '▁“', '4', '차', '▁산업혁명', '에', '▁따라', '▁SW', '역', '량', '은', '▁전문가', '뿐만', '▁아니라', '▁일반', '시민', '에게', '도', '▁꼭', '▁필요한', '▁기술', '이', '▁되고', '▁있다', '”', '면서', '▁“', '호', '남', '권', '▁최초', '의', '▁소프트웨어', '▁중심', '대학', '인', '▁조선', '대학교', '는', '▁이번', '▁프로젝트', '를', '▁통해', '▁SW', '교육', '을', '▁접', '하기', '▁힘든', '▁환경', '에', '▁있었던', '▁분들이', '▁SW', '기술', '에', '▁한', '층', '▁가', '까', '워', '지', '게', '▁되어', '▁보', '람', '을', '▁느', '꼈', '다', '”', '고', '▁진행', '▁소', '감을', '▁전했다', '.'], ['▁김', '동', '양', '▁NH', '투자', '증권', '▁연구', '원은', '▁“', '삼', '성', 'S', 'DS', '의', '▁3', '분기', '▁매출', '액', '은', '▁2', '조', '660', '4', '억원', ',', '▁영업', '이', '익', '은', '▁22', '13', '억원', '으로', '▁예상', '된다', '”', '라며', '▁“', '매', '출', '액', '은', '▁지난해', '▁같은', '▁기간', '에', '▁비해', '▁10%', '▁늘어', '▁시장', '▁기대', '치를', '▁충', '족', '할', '▁것으로', '▁보', '이며', ',', '▁영업', '이', '익', '은', '▁11%', '▁증가', '가', '▁예상', '되지', '만', '▁기대', '치는', '▁하', '회', '할', '▁것으로', '▁추', '정', '된다', '”', '라고', '▁설명했다', '.'], ['▁심', '상', '정', '▁정의', '당', '▁대표', '는', '▁21', '일', '▁\"', '국민', '들', '께', '선', '▁이번', '▁총', '선', '에서', '▁지지', '부', '진', '한', '▁정치', '권', '의', '▁이', '합', '집', '산', '과', '▁', '꼼', '수', '정치', '를', '▁심', '판', '하고', '▁진', '정', '한', '▁정치', '혁명', '의', '▁길을', '▁열', '어', '▁달라', '\"', '고', '▁말했다', '.']]\n"
     ]
    },
    {
     "name": "stderr",
     "output_type": "stream",
     "text": [
      "100%|██████████| 9000/9000 [00:03<00:00, 2642.39it/s]\n"
     ]
    },
    {
     "name": "stdout",
     "output_type": "stream",
     "text": [
      "kykim/bert-kor-base : 0.027652153024431258 (num all tokens):  407961\n",
      "[['영국', '##에서', '사용되는', '스포츠', '유틸', '##리티', '자동차의', '브랜드로', '##는', '랜드', '##로', '##버', '(', 'la', '##nd', 'ro', '##ver', ')', '와', '지', '##프', '(', 'j', '##ee', '##p', ')', '가', '있으며', ',', '이', '브랜드', '##들은', '자동차의', '종류를', '일컫', '##는', '말로', '사용', '##되기도', '한다', '.'], ['선거에서', '민주당은', '해산', '전', '의', '##석', '##인', '230', '##석에', '한참', '못', '미치는', '57', '##석', '(', '지역', '##구', '27', '##석', ',', '비례', '##대표', '30', '##석', ')', '을', '획득', '##하는', '데', '그쳤다', '.'], ['유럽', '축구', '연', '##맹', '(', 'u', '##ef', '##a', ')', '집행', '##위원회는', '2014년', '1월', '24일', '##에', '열린', '회의를', '통해', '2017년', '대회', '##부터', 'u', '##ef', '##a', 'u', '-', '21', '축구', '선수', '##권', '대회', '참가', '##국을', '8개', '##국에서', '12개', '##국으로', '확대', '##하기로', '결정했다', '.'], ['용병', '공격', '##수', '챠', '##디의', '부진', '##과', '시즌', '초', '활약', '##한', '강', '##수', '##일의', '침체', ',', '시즌', '중반', '##에', '영입', '##한', '세', '##르', '##비아', '출신', '용병', '미드', '##필', '##더', '오', '##그', '##넨', '코', '##로만', '##의', '부상', '등이', '부진', '##의', '원인으로', '지적', '##되던', '가운데', '인천', '##은', '시즌', '마지막', '4', '##경기에서', '3', '##승', '1', '##패를', '거두', '##며', '막판', '승점', '쌓', '##기에', '성공', ',', '정규', '##리그', '순위', '5', '##위로', '플레이오프', '##에', '진출', '##하는', '데에', '성공했다', '.'], ['람', '##캄', '##행', '왕', '##은', '12', '##37', '##년에', '##서', '12', '##47', '##년', '사이', '수', '##코', '##타이', '##의', '왕', '퍼', '##쿤', '씨', '인', '##트라', '##팃', '##과', '쓰', '##엉', '부인', '사이의', '셋째', '아들', '##로', '태어났다', '.'], ['이와', '관련해', 'af', '##cd', '##는', '대학', '소속', '전문가', '##와', '세계', '##동물', '##보건', '##기구', '(', 'o', '##ie', ')', '가', '사람과', '동물', '사이에서', '코로나19', '##가', '전파', '##될', '가능성이', '크다고', '밝혔다', '##고', '전했다', '.'], ['신형', 'k', '##5', '사전', '##계약', '돌', '##풍', '##에', '대해', '기아', '##자동차', '관계자는', '[UNK]', '한눈에', '각인', '##될', '정도의', '강렬한', '디자인의', '영향이', '컸다', '[UNK]', '고', '밝혔다', '.'], ['2008년', '이전', '팀', '##명', '##칭', '##은', '나고', '##야', '그', '##램', '##퍼스', '에이', '##트', '##였고', '에이', '##트는', '나고', '##야', '시', '표', '##장에', '있는', '숫자', '(', '[UNK]', ')', '와', '모기', '##업', '토', '##요', '##타', '자동차의', '브랜드를', '상징', '##하였으나', ',', '2008년', '##부터', '에이', '##트를', '제외하고', '팀', '명칭', '##을', '나고', '##야', '그', '##램', '##퍼스', '##로', '호', '##칭', '##하고', '있다', '.'], ['sw', '##융', '##합', '##교육', '##원', '조', '##영', '##주', '담당', '##교수', '##는', '[UNK]', '4차', '산업', '##혁명', '##에', '따라', 'sw', '##역', '##량은', '전문가', '##뿐만', '아니라', '일반', '##시민', '##에게도', '꼭', '필요한', '기술이', '되고', '있다', '[UNK]', '면', '##서', '[UNK]', '호남', '##권', '최초의', '소프트웨어', '중심', '##대학', '##인', '조선', '##대학교', '##는', '이번', '프로젝트를', '통해', 'sw', '##교육을', '접', '##하기', '힘든', '환경에', '있었던', '분들이', 'sw', '##기술', '##에', '한층', '가까워', '##지게', '되어', '보람', '##을', '느꼈다', '[UNK]', '고', '진행', '소감을', '전했다', '.'], ['김동', '##양', 'nh', '##투자', '##증권', '연구원은', '[UNK]', '삼성', '##s', '##ds', '##의', '3분기', '매출액', '##은', '2조', '##66', '##0', '##4', '##억원', ',', '영업이익', '##은', '22', '##13', '##억원으로', '예상된다', '[UNK]', '라며', '[UNK]', '매출액', '##은', '지난해', '같은', '기간에', '비해', '10', '%', '늘어', '시장', '기대', '##치를', '충족', '##할', '것으로', '보이며', ',', '영업이익', '##은', '11', '%', '증가', '##가', '예상', '##되지만', '기대', '##치는', '하', '##회', '##할', '것으로', '추정된다', '[UNK]', '라고', '설명했다', '.'], ['심상', '##정', '정의', '##당', '대표는', '21일', '[UNK]', '국민', '##들께', '##선', '이번', '총선', '##에서', '지지', '##부', '##진한', '정치권', '##의', '이', '##합', '##집', '##산과', '꼼', '##수정', '##치를', '심판', '##하고', '진정한', '정치', '##혁명', '##의', '길을', '열어', '달라', '[UNK]', '고', '말했다', '.']]\n"
     ]
    },
    {
     "data": {
      "application/vnd.jupyter.widget-view+json": {
       "model_id": "362c5dc886dd4d30b01b96ce3c924908",
       "version_major": 2,
       "version_minor": 0
      },
      "text/plain": [
       "HBox(children=(FloatProgress(value=0.0, description='Downloading', max=371391.0, style=ProgressStyle(descripti…"
      ]
     },
     "metadata": {},
     "output_type": "display_data"
    },
    {
     "name": "stdout",
     "output_type": "stream",
     "text": [
      "\n"
     ]
    },
    {
     "data": {
      "application/vnd.jupyter.widget-view+json": {
       "model_id": "801d4e6b406d4904bf3d6ab13c5e4a25",
       "version_major": 2,
       "version_minor": 0
      },
      "text/plain": [
       "HBox(children=(FloatProgress(value=0.0, description='Downloading', max=77779.0, style=ProgressStyle(descriptio…"
      ]
     },
     "metadata": {},
     "output_type": "display_data"
    },
    {
     "name": "stderr",
     "output_type": "stream",
     "text": [
      "  4%|▍         | 394/9000 [00:00<00:02, 3936.47it/s]"
     ]
    },
    {
     "name": "stdout",
     "output_type": "stream",
     "text": [
      "\n"
     ]
    },
    {
     "name": "stderr",
     "output_type": "stream",
     "text": [
      "100%|██████████| 9000/9000 [00:02<00:00, 3912.48it/s]\n"
     ]
    },
    {
     "name": "stdout",
     "output_type": "stream",
     "text": [
      "monologg/kobert : 0.003373459323750232 (num all tokens):  500673\n",
      "[['▁영국', '에서', '▁사용', '되는', '▁스포츠', '▁유', '틸', '리', '티', '▁자동차', '의', '▁브랜드', '로', '는', '▁', '랜드', '로', '버', '(', 'L', 'an', 'd', '▁R', 'o', 'ver', ')', '와', '▁지', '프', '(', 'J', 'e', 'e', 'p', ')', '가', '▁있으며', ',', '▁이', '▁브랜드', '들은', '▁자동차', '의', '▁종류', '를', '▁일', '컫', '는', '▁말', '로', '▁사용', '되기', '도', '▁한다', '.'], ['▁선거', '에서', '▁민주당은', '▁해', '산', '▁전', '▁', '의', '석', '인', '▁2', '30', '석', '에', '▁한', '참', '▁못', '▁미치는', '▁', '57', '석', '(', '지역', '구', '▁27', '석', ',', '▁비', '례', '대표', '▁30', '석', ')', '을', '▁획득', '하는', '▁데', '▁그쳤다', '.'], ['▁유럽', '▁축구', '▁', '연맹', '(', 'U', 'E', 'F', 'A', ')', '▁집행', '위원회는', '▁2014', '년', '▁1', '월', '▁24', '일', '에', '▁열린', '▁회의를', '▁통해', '▁2017', '년', '▁대회', '부터', '▁U', 'E', 'F', 'A', '▁U', '-', '21', '▁축구', '▁선수', '권', '▁대회', '▁참가', '국', '을', '▁8', '개국', '에서', '▁12', '개국', '으로', '▁확대', '하기로', '▁결정했다', '.'], ['▁용', '병', '▁공격수', '▁', '챠', '디', '의', '▁부진', '과', '▁시즌', '▁초', '▁활약', '한', '▁강', '수', '일', '의', '▁침체', ',', '▁시즌', '▁중반', '에', '▁영입', '한', '▁세', '르', '비아', '▁출신', '▁용', '병', '▁미드필더', '▁오', '그', '넨', '▁코', '로', '만', '의', '▁부상', '▁등이', '▁부진', '의', '▁원인', '으로', '▁지적', '되', '던', '▁가운데', '▁인천', '은', '▁시즌', '▁마지막', '▁4', '경기에서', '▁3', '승', '▁1', '패', '를', '▁거두', '며', '▁막판', '▁승', '점', '▁쌓', '기에', '▁성공', ',', '▁정규', '리그', '▁순위', '▁5', '위로', '▁플레이', '오', '프', '에', '▁진출', '하는', '▁데', '에', '▁성공했다', '.'], ['▁', '람', '캄', '행', '▁왕', '은', '▁12', '37', '년', '에서', '▁12', '47', '년', '▁사이', '▁수', '코', '타', '이', '의', '▁왕', '▁퍼', '쿤', '▁씨', '▁인', '트', '라', '팃', '과', '▁쓰', '엉', '▁부인', '▁사이', '의', '▁', '셋', '째', '▁아들', '로', '▁태어났다', '.'], ['▁이와', '▁관련해', '▁A', 'FC', 'D', '는', '▁대학', '▁소속', '▁전문가', '와', '▁세계', '동', '물', '보건', '기구', '(', 'O', 'I', 'E', ')', '가', '▁사람', '과', '▁동물', '▁사이에서', '▁코', '로', '나', '19', '가', '▁전파', '될', '▁가능성이', '▁크다', '고', '▁밝혔다', '고', '▁전했다', '.'], ['▁신', '형', '▁K', '5', '▁사전', '계약', '▁돌', '풍', '에', '▁대해', '▁기', '아', '자동차', '▁관계자는', '▁\"', '한', '눈', '에', '▁각', '인', '될', '▁정도', '의', '▁강렬한', '▁디자인', '의', '▁영향', '이', '▁컸다', '\"', '고', '▁밝혔다', '.'], ['▁2008', '년', '▁이전', '▁팀', '명', '칭', '은', '▁나', '고', '야', '▁그', '램', '퍼', '스', '▁에이', '트', '였고', '▁에이', '트', '는', '▁나', '고', '야', '▁시', '▁표', '장', '에', '▁있는', '▁숫자', '(', '八', ')', '와', '▁모', '기업', '▁토', '요', '타', '▁자동차', '의', '▁브랜드', '를', '▁상징', '하', '였', '으나', ',', '▁2008', '년부터', '▁에이', '트', '를', '▁제외', '하고', '▁팀', '▁명칭', '을', '▁나', '고', '야', '▁그', '램', '퍼', '스', '로', '▁호', '칭', '하고', '▁있다', '.'], ['▁S', 'W', '융', '합', '교육', '원', '▁조', '영', '주', '▁담당', '교', '수는', '▁“', '4', '차', '▁산업', '혁명', '에', '▁따라', '▁S', 'W', '역', '량', '은', '▁전문가', '뿐만', '▁아니라', '▁일반', '시민', '에게', '도', '▁꼭', '▁필요한', '▁기술', '이', '▁되고', '▁있다', '”', '면서', '▁“', '호', '남', '권', '▁최초', '의', '▁소프트웨어', '▁중심', '대학', '인', '▁조선', '대학교', '는', '▁이번', '▁프로젝트', '를', '▁통해', '▁S', 'W', '교육', '을', '▁접', '하기', '▁힘든', '▁환경', '에', '▁있었던', '▁분들', '이', '▁S', 'W', '기술', '에', '▁한층', '▁', '가', '까', '워', '지', '게', '▁되어', '▁보', '람', '을', '▁느꼈', '다', '”', '고', '▁진행', '▁소감을', '▁전했다', '.'], ['▁김동', '양', '▁NH', '투자증권', '▁연구원은', '▁“', '삼성', 'S', 'D', 'S', '의', '▁3', '분기', '▁매출액', '은', '▁2', '조', '66', '04', '억원', ',', '▁영업이익은', '▁22', '13', '억원으로', '▁예상된다', '”', '라며', '▁“', '매출', '액은', '▁지난해', '▁같은', '▁기간', '에', '▁비해', '▁10%', '▁늘어', '▁시장', '▁기대', '치를', '▁충족', '할', '▁것으로', '▁보이며', ',', '▁영업이익은', '▁1', '1%', '▁증가', '가', '▁예상', '되지', '만', '▁기대', '치는', '▁하', '회', '할', '▁것으로', '▁추정된다', '”', '라고', '▁설명했다', '.'], ['▁심', '상', '정', '▁정', '의', '당', '▁대표는', '▁21', '일', '▁\"', '국민', '들', '께', '선', '▁이번', '▁총', '선', '에서', '▁지지', '부', '진', '한', '▁정치권', '의', '▁이', '합', '집', '산', '과', '▁', '꼼', '수', '정치', '를', '▁심판', '하고', '▁진', '정', '한', '▁정치', '혁명', '의', '▁길', '을', '▁열어', '▁달라', '\"', '고', '▁말했다', '.']]\n"
     ]
    },
    {
     "name": "stderr",
     "output_type": "stream",
     "text": [
      "100%|██████████| 9000/9000 [00:03<00:00, 2427.33it/s]\n"
     ]
    },
    {
     "name": "stdout",
     "output_type": "stream",
     "text": [
      "monologg/koelectra-base-v3-discriminator : 0.000603269891559073 (num all tokens):  474083\n",
      "[['영국', '##에', '##서', '사용', '##되', '##는', '스포츠', '유틸리티', '자동차', '##의', '브랜드', '##로', '##는', '랜드', '##로', '##버', '(', 'La', '##nd', 'R', '##over', ')', '와', '지프', '(', 'Je', '##ep', ')', '가', '있', '##으며', ',', '이', '브랜드', '##들', '##은', '자동차', '##의', '종류', '##를', '일컫', '##는', '말', '##로', '사용', '##되', '##기', '##도', '한다', '.'], ['선거', '##에', '##서', '민주당', '##은', '해산', '전', '의석', '##인', '230', '##석', '##에', '한참', '못', '미치', '##는', '57', '##석', '(', '지역구', '27', '##석', ',', '비례', '##대표', '30', '##석', ')', '을', '획득', '##하', '##는', '데', '그쳤', '##다', '.'], ['유럽', '축구', '연맹', '(', 'UEFA', ')', '집행', '##위원회', '##는', '2014', '##년', '1', '##월', '24', '##일', '##에', '열린', '회의', '##를', '통해', '2017', '##년', '대회', '##부터', 'UEFA', 'U', '-', '21', '축구', '선수', '##권', '대회', '참가', '##국', '##을', '8', '##개', '##국', '##에', '##서', '12', '##개', '##국', '##으로', '확대', '##하', '##기', '##로', '결정', '##했', '##다', '.'], ['용병', '공격수', '챠', '##디', '##의', '부진', '##과', '시즌', '초', '활약', '##한', '강수', '##일', '##의', '침체', ',', '시즌', '중반', '##에', '영입', '##한', '세르비아', '출신', '용병', '미드필더', '오', '##그', '##넨', '코로', '##만', '##의', '부상', '등이', '부진', '##의', '원인', '##으로', '지적', '##되', '##던', '가운데', '인천', '##은', '시즌', '마지막', '4', '##경기', '##에', '##서', '3', '##승', '1', '##패', '##를', '거두', '##며', '막판', '승점', '쌓', '##기에', '성공', ',', '정규', '##리그', '순위', '5', '##위', '##로', '플레이오프', '##에', '진출', '##하', '##는', '데', '##에', '성공', '##했', '##다', '.'], ['람', '##캄', '##행', '왕', '##은', '123', '##7', '##년', '##에', '##서', '124', '##7', '##년', '사이', '수', '##코', '##타이', '##의', '왕', '퍼', '##쿤', '씨', '[UNK]', '쓰', '##엉', '부인', '사이', '##의', '셋째', '아들', '##로', '태어났', '##다', '.'], ['이와', '관련', '##해', 'AFC', '##D', '##는', '대학', '소속', '전문가', '##와', '세계', '##동물', '##보', '##건', '##기구', '(', 'O', '##IE', ')', '가', '사람', '##과', '동물', '사이', '##에', '##서', '코로', '##나', '##19', '##가', '전파', '##될', '가능', '##성이', '크', '##다고', '밝혔', '##다고', '전했', '##다', '.'], ['신형', 'K', '##5', '사전', '##계약', '돌풍', '##에', '대해', '기아', '##자동', '##차', '관계자', '##는', '\"', '한눈', '##에', '각인', '##될', '정도', '##의', '강렬', '##한', '디자인', '##의', '영향', '##이', '컸', '##다', '\"', '고', '밝혔', '##다', '.'], ['2008', '##년', '이전', '팀', '##명', '##칭', '##은', '나고야', '그램', '##퍼스', '에이', '##트', '##였', '##고', '에이', '##트', '##는', '나고야', '시', '표', '##장', '##에', '있', '##는', '숫자', '(', '八', ')', '와', '모기', '##업', '토요타', '자동차', '##의', '브랜드', '##를', '상징', '##하', '##였', '##으나', ',', '2008', '##년', '##부터', '에이', '##트', '##를', '제외', '##하', '##고', '팀', '명칭', '##을', '나고야', '그램', '##퍼스', '##로', '호칭', '##하', '##고', '있', '##다', '.'], ['SW', '##융합', '##교육', '##원', '조영', '##주', '담당', '##교', '##수', '##는', '“', '4', '##차', '산업', '##혁명', '##에', '따라', 'SW', '##역', '##량', '##은', '전문가', '##뿐', '##만', '아니', '##라', '일반', '##시', '##민', '##에', '##게', '##도', '꼭', '필요', '##한', '기술', '##이', '되', '##고', '있', '##다', '”', '면서', '“', '호남', '##권', '최초', '##의', '소프트웨어', '중심', '##대', '##학', '##인', '조선대', '##학교', '##는', '이번', '프로젝트', '##를', '통해', 'SW', '##교육', '##을', '접하', '##기', '힘든', '환경', '##에', '있', '##었', '##던', '분', '##들이', 'SW', '##기술', '##에', '한층', '가까워', '##지', '##게', '되', '##어', '보람', '##을', '느꼈', '##다', '”', '고', '진행', '소감', '##을', '전했', '##다', '.'], ['김동', '##양', 'NH', '##투자증권', '연구원', '##은', '“', '삼성', '##S', '##DS', '##의', '3', '##분', '##기', '매출액', '##은', '2', '##조', '##66', '##0', '##4', '##억', '##원', ',', '영업', '##이', '##익', '##은', '221', '##3', '##억', '##원', '##으로', '예상', '##된', '##다', '”', '라며', '“', '매출액', '##은', '지난해', '같', '##은', '기간', '##에', '비해', '10', '%', '늘어', '시장', '기대', '##치', '##를', '충족', '##할', '것', '##으로', '보이', '##며', ',', '영업', '##이', '##익', '##은', '11', '%', '증가', '##가', '예상', '##되', '##지만', '기대', '##치', '##는', '하회', '##할', '것', '##으로', '추정', '##된', '##다', '”', '라고', '설명', '##했', '##다', '.'], ['심상정', '정의당', '대표', '##는', '21', '##일', '\"', '국민', '##들', '##께', '##선', '이번', '총선', '##에', '##서', '지지부진', '##한', '정치', '##권', '##의', '이', '##합', '##집', '##산', '##과', '꼼수', '##정', '##치', '##를', '심판', '##하', '##고', '진정', '##한', '정치', '##혁명', '##의', '길', '##을', '열', '##어', '달라', '\"', '고', '말', '##했', '##다', '.']]\n"
     ]
    },
    {
     "name": "stderr",
     "output_type": "stream",
     "text": [
      "100%|██████████| 9000/9000 [00:03<00:00, 2339.28it/s]\n"
     ]
    },
    {
     "name": "stdout",
     "output_type": "stream",
     "text": [
      "bert-base-multilingual-cased : 0.007696084426507002 (num all tokens):  564183\n",
      "[['영국', '##에서', '사', '##용', '##되는', '스', '##포츠', '유', '##틸', '##리', '##티', '자', '##동차', '##의', '브', '##랜드', '##로는', '랜', '##드', '##로', '##버', '(', 'Land', 'Rover', ')', '와', '지', '##프', '(', 'Je', '##ep', ')', '가', '있으며', ',', '이', '브', '##랜드', '##들은', '자', '##동차', '##의', '종', '##류', '##를', '일', '##컫', '##는', '말', '##로', '사', '##용', '##되', '##기도', '한다', '.'], ['선', '##거', '##에서', '민', '##주', '##당', '##은', '해', '##산', '전', '의', '##석', '##인', '230', '##석', '##에', '한', '##참', '못', '미', '##치는', '57', '##석', '(', '지역', '##구', '27', '##석', ',', '비', '##례', '##대', '##표', '30', '##석', ')', '을', '획', '##득', '##하는', '데', '그', '##쳤다', '.'], ['유럽', '축구', '연', '##맹', '(', 'UEFA', ')', '집', '##행', '##위원회', '##는', '2014년', '1월', '24일', '##에', '열린', '회', '##의를', '통해', '2017년', '대회', '##부터', 'UEFA', 'U', '-', '21', '축구', '선수', '##권', '대회', '참', '##가', '##국', '##을', '8', '##개', '##국', '##에서', '12', '##개', '##국', '##으로', '확', '##대', '##하기', '##로', '결', '##정', '##했다', '.'], ['용', '##병', '공', '##격', '##수', '[UNK]', '부', '##진', '##과', '시즌', '초', '활', '##약', '##한', '강', '##수', '##일', '##의', '침', '##체', ',', '시즌', '중', '##반', '##에', '영', '##입', '##한', '세', '##르', '##비아', '출', '##신', '용', '##병', '미', '##드', '##필', '##더', '오', '##그', '##넨', '코', '##로', '##만', '##의', '부', '##상', '등이', '부', '##진', '##의', '원', '##인', '##으로', '지', '##적', '##되', '##던', '가운데', '인', '##천', '##은', '시즌', '마지막', '4', '##경', '##기에', '##서', '3', '##승', '1', '##패', '##를', '거', '##두', '##며', '막', '##판', '승', '##점', '쌓', '##기에', '성', '##공', ',', '정', '##규', '##리그', '순', '##위', '5', '##위로', '플', '##레', '##이', '##오', '##프', '##에', '진', '##출', '##하는', '데', '##에', '성', '##공', '##했다', '.'], ['람', '##캄', '##행', '왕', '##은', '1237', '##년에', '##서', '1247', '##년', '사', '##이', '수', '##코', '##타', '##이의', '왕', '퍼', '##쿤', '씨', '[UNK]', '쓰', '##엉', '부', '##인', '사이의', '셋', '##째', '아들', '##로', '태어났다', '.'], ['이와', '관련', '##해', 'AFC', '##D', '##는', '대학', '소속', '전', '##문', '##가와', '세계', '##동', '##물', '##보', '##건', '##기', '##구', '(', 'O', '##IE', ')', '가', '사', '##람', '##과', '동', '##물', '사이에', '##서', '코', '##로', '##나', '##19', '##가', '전', '##파', '##될', '가', '##능', '##성이', '크', '##다고', '밝혔다', '##고', '전', '##했다', '.'], ['신', '##형', 'K', '##5', '사', '##전', '##계', '##약', '돌', '##풍', '##에', '대해', '기', '##아', '##자', '##동차', '관', '##계', '##자는', '\"', '한', '##눈', '##에', '각', '##인', '##될', '정도', '##의', '강', '##렬', '##한', '디', '##자인', '##의', '영', '##향', '##이', '컸', '##다', '\"', '고', '밝혔다', '.'], ['2008년', '이전', '팀', '##명', '##칭', '##은', '나', '##고', '##야', '그', '##램', '##퍼', '##스', '에', '##이트', '##였', '##고', '에', '##이트', '##는', '나', '##고', '##야', '시', '표', '##장에', '있는', '숫', '##자', '(', '八', ')', '와', '모', '##기', '##업', '토', '##요', '##타', '자', '##동차', '##의', '브', '##랜드', '##를', '상', '##징', '##하', '##였으나', ',', '2008년', '##부터', '에', '##이트', '##를', '제', '##외', '##하고', '팀', '명', '##칭', '##을', '나', '##고', '##야', '그', '##램', '##퍼', '##스로', '호', '##칭', '##하고', '있다', '.'], ['SW', '##융', '##합', '##교', '##육', '##원', '조', '##영', '##주', '담', '##당', '##교', '##수는', '[UNK]', '4', '##차', '산', '##업', '##혁', '##명', '##에', '따라', 'SW', '##역', '##량', '##은', '전', '##문', '##가', '##뿐', '##만', '아니라', '일', '##반', '##시', '##민', '##에게', '##도', '꼭', '필', '##요한', '기', '##술', '##이', '되고', '있다', '[UNK]', '면', '##서', '[UNK]', '호', '##남', '##권', '최초의', '소', '##프트', '##웨', '##어', '중', '##심', '##대학', '##인', '조선', '##대학교', '##는', '이', '##번', '프로', '##젝', '##트를', '통해', 'SW', '##교', '##육', '##을', '접', '##하기', '힘', '##든', '환', '##경', '##에', '있었던', '분', '##들이', 'SW', '##기', '##술', '##에', '한', '##층', '가', '##까', '##워', '##지', '##게', '되어', '보', '##람', '##을', '느', '##꼈', '##다', '[UNK]', '고', '진', '##행', '소', '##감', '##을', '전', '##했다', '.'], ['김', '##동', '##양', 'NH', '##투', '##자', '##증', '##권', '연구', '##원은', '[UNK]', '삼', '##성', '##SD', '##S', '##의', '3', '##분', '##기', '매', '##출', '##액', '##은', '2', '##조', '##66', '##04', '##억', '##원', ',', '영', '##업', '##이', '##익', '##은', '221', '##3', '##억', '##원으로', '예', '##상', '##된다', '[UNK]', '라', '##며', '[UNK]', '매', '##출', '##액', '##은', '지', '##난', '##해', '같은', '기', '##간에', '비해', '10', '%', '늘', '##어', '시', '##장', '기', '##대', '##치를', '충', '##족', '##할', '것으로', '보', '##이며', ',', '영', '##업', '##이', '##익', '##은', '11', '%', '증', '##가', '##가', '예', '##상', '##되지', '##만', '기', '##대', '##치는', '하', '##회', '##할', '것으로', '추', '##정', '##된다', '[UNK]', '라고', '설', '##명', '##했다', '.'], ['심', '##상', '##정', '정', '##의', '##당', '대', '##표', '##는', '21일', '\"', '국', '##민', '##들', '##께', '##선', '이', '##번', '총', '##선', '##에서', '지', '##지', '##부', '##진', '##한', '정', '##치', '##권', '##의', '이', '##합', '##집', '##산', '##과', '꼼', '##수', '##정', '##치를', '심', '##판', '##하고', '진', '##정한', '정', '##치', '##혁', '##명의', '길', '##을', '열', '##어', '달', '##라', '\"', '고', '말했다', '.']]\n"
     ]
    },
    {
     "data": {
      "image/png": "[encoded data removed]",
      "text/plain": [
       "<Figure size 432x288 with 1 Axes>"
      ]
     },
     "metadata": {
      "needs_background": "light"
     },
     "output_type": "display_data"
    }
   ],
   "source": [
    "models_lst = ['xlm-roberta-large', 'kykim/bert-kor-base', 'monologg/kobert', \"monologg/koelectra-base-v3-discriminator\", 'bert-base-multilingual-cased']\n",
    "tok_performance_results = []\n",
    "for m in models_lst:\n",
    "    r = tokenizer_performance_test(m)\n",
    "    print(m, ':', r[0], '(num all tokens): ', r[1])\n",
    "    tok_performance_results.append(r[0])\n",
    "    print(r[-1])\n",
    "    \n",
    "plt.xticks(rotation=45)\n",
    "plt.bar(list(map(lambda x: x.split('/')[-1], models_lst)), tok_performance_results, width=0.5)\n",
    "plt.show()"
   ]
  },
  {
   "cell_type": "code",
   "execution_count": 164,
   "metadata": {},
   "outputs": [
    {
     "data": {
      "text/plain": [
       "BertConfig {\n",
       "  \"architectures\": [\n",
       "    \"BertForMaskedLM\"\n",
       "  ],\n",
       "  \"attention_probs_dropout_prob\": 0.1,\n",
       "  \"directionality\": \"bidi\",\n",
       "  \"embedding_size\": 768,\n",
       "  \"gradient_checkpointing\": false,\n",
       "  \"hidden_act\": \"gelu\",\n",
       "  \"hidden_dropout_prob\": 0.1,\n",
       "  \"hidden_size\": 768,\n",
       "  \"initializer_range\": 0.02,\n",
       "  \"intermediate_size\": 3072,\n",
       "  \"layer_norm_eps\": 1e-12,\n",
       "  \"max_position_embeddings\": 512,\n",
       "  \"model_type\": \"bert\",\n",
       "  \"num_attention_heads\": 12,\n",
       "  \"num_hidden_layers\": 12,\n",
       "  \"pad_token_id\": 0,\n",
       "  \"pooler_fc_size\": 768,\n",
       "  \"pooler_num_attention_heads\": 12,\n",
       "  \"pooler_num_fc_layers\": 3,\n",
       "  \"pooler_size_per_head\": 128,\n",
       "  \"pooler_type\": \"first_token_transform\",\n",
       "  \"position_embedding_type\": \"absolute\",\n",
       "  \"transformers_version\": \"4.2.0\",\n",
       "  \"type_vocab_size\": 2,\n",
       "  \"use_cache\": true,\n",
       "  \"vocab_size\": 42042\n",
       "}"
      ]
     },
     "execution_count": 164,
     "metadata": {},
     "output_type": "execute_result"
    }
   ],
   "source": [
    "# ner token 추가\n",
    "\n",
    "MODEL_NAME = \"kykim/bert-kor-base\"\n",
    "tokenizer = AutoTokenizer.from_pretrained(MODEL_NAME)\n",
    "\n",
    "special_tokens_dict = {'additional_special_tokens': ner_tokens_processed}\n",
    "tokenizer.add_special_tokens(special_tokens_dict)\n",
    "\n",
    "model_config = AutoConfig.from_pretrained(MODEL_NAME)\n",
    "model_config.vocab_size += len(ner_tokens_processed)\n",
    "model_config"
   ]
  },
  {
   "cell_type": "markdown",
   "metadata": {},
   "source": [
    "## Final Process"
   ]
  },
  {
   "cell_type": "code",
   "execution_count": 61,
   "metadata": {},
   "outputs": [],
   "source": [
    "df_train, df_valid = train_test_split(df, test_size=0.1, random_state=42)\n",
    "df_train.to_csv('../input/data/train/train_no_ner.tsv', sep='\\t', header=None, index=None)\n",
    "df_valid.to_csv('../input/data/train/valid_no_ner.tsv', sep='\\t', header=None, index=None)"
   ]
  },
  {
   "cell_type": "code",
   "execution_count": 62,
   "metadata": {},
   "outputs": [],
   "source": [
    "df_final = df.copy()\n",
    "df_final['1'] = df_final['11']\n",
    "df_train, df_valid = train_test_split(df_final, test_size=0.1, random_state=42)\n",
    "df_train.to_csv('../input/data/train/train_ner.tsv', sep='\\t', header=None, index=None)\n",
    "df_valid.to_csv('../input/data/train/valid_ner.tsv', sep='\\t', header=None, index=None)"
   ]
  },
  {
   "cell_type": "code",
   "execution_count": 15,
   "metadata": {},
   "outputs": [
    {
     "data": {
      "text/html": [
       "<div>\n",
       "<style scoped>\n",
       "    .dataframe tbody tr th:only-of-type {\n",
       "        vertical-align: middle;\n",
       "    }\n",
       "\n",
       "    .dataframe tbody tr th {\n",
       "        vertical-align: top;\n",
       "    }\n",
       "\n",
       "    .dataframe thead th {\n",
       "        text-align: right;\n",
       "    }\n",
       "</style>\n",
       "<table border=\"1\" class=\"dataframe\">\n",
       "  <thead>\n",
       "    <tr style=\"text-align: right;\">\n",
       "      <th></th>\n",
       "      <th>0</th>\n",
       "      <th>1</th>\n",
       "      <th>2</th>\n",
       "      <th>3</th>\n",
       "      <th>4</th>\n",
       "      <th>5</th>\n",
       "      <th>6</th>\n",
       "      <th>7</th>\n",
       "      <th>8</th>\n",
       "      <th>11</th>\n",
       "    </tr>\n",
       "  </thead>\n",
       "  <tbody>\n",
       "    <tr>\n",
       "      <th>0</th>\n",
       "      <td>wikipedia-24896-25-30-33-19-21</td>\n",
       "      <td>영국에서 사용되는 스포츠 유틸리티 자동차의 브랜드로는 랜드로버(Land Rover)...</td>\n",
       "      <td>랜드로버</td>\n",
       "      <td>30</td>\n",
       "      <td>33</td>\n",
       "      <td>자동차</td>\n",
       "      <td>19</td>\n",
       "      <td>21</td>\n",
       "      <td>단체:제작</td>\n",
       "      <td>영국에서 사용되는 스포츠 유틸리티 [E2] 자동차 [/E2]의 브랜드로는 [E1] ...</td>\n",
       "    </tr>\n",
       "    <tr>\n",
       "      <th>1</th>\n",
       "      <td>wikipedia-12728-224-5-7-42-44</td>\n",
       "      <td>선거에서 민주당은 해산 전 의석인 230석에 한참 못 미치는 57석(지역구 27석,...</td>\n",
       "      <td>민주당</td>\n",
       "      <td>5</td>\n",
       "      <td>7</td>\n",
       "      <td>27석</td>\n",
       "      <td>42</td>\n",
       "      <td>44</td>\n",
       "      <td>관계_없음</td>\n",
       "      <td>선거에서 [E1] 민주당 [/E1]은 해산 전 의석인 230석에 한참 못 미치는 5...</td>\n",
       "    </tr>\n",
       "    <tr>\n",
       "      <th>2</th>\n",
       "      <td>wikipedia-28460-3-0-7-9-12</td>\n",
       "      <td>유럽 축구 연맹(UEFA) 집행위원회는 2014년 1월 24일에 열린 회의를 통해 ...</td>\n",
       "      <td>유럽 축구 연맹</td>\n",
       "      <td>0</td>\n",
       "      <td>7</td>\n",
       "      <td>UEFA</td>\n",
       "      <td>9</td>\n",
       "      <td>12</td>\n",
       "      <td>단체:별칭</td>\n",
       "      <td>[E1] 유럽 축구 연맹 [/E1]([E2] UEFA [/E2]) 집행위원회는 20...</td>\n",
       "    </tr>\n",
       "    <tr>\n",
       "      <th>3</th>\n",
       "      <td>wikipedia-11479-37-24-26-3-5</td>\n",
       "      <td>용병 공격수 챠디의 부진과 시즌 초 활약한 강수일의 침체, 시즌 중반에 영입한 세르...</td>\n",
       "      <td>강수일</td>\n",
       "      <td>24</td>\n",
       "      <td>26</td>\n",
       "      <td>공격수</td>\n",
       "      <td>3</td>\n",
       "      <td>5</td>\n",
       "      <td>인물:직업/직함</td>\n",
       "      <td>용병 [E2] 공격수 [/E2] 챠디의 부진과 시즌 초 활약한 [E1] 강수일 [/...</td>\n",
       "    </tr>\n",
       "    <tr>\n",
       "      <th>4</th>\n",
       "      <td>wikipedia-15581-6-0-2-32-40</td>\n",
       "      <td>람캄행 왕은 1237년에서 1247년 사이 수코타이의 왕 퍼쿤 씨 인트라팃과 쓰엉 ...</td>\n",
       "      <td>람캄행</td>\n",
       "      <td>0</td>\n",
       "      <td>2</td>\n",
       "      <td>퍼쿤 씨 인트라팃</td>\n",
       "      <td>32</td>\n",
       "      <td>40</td>\n",
       "      <td>인물:부모님</td>\n",
       "      <td>[E1] 람캄행 [/E1] 왕은 1237년에서 1247년 사이 수코타이의 왕 [E2...</td>\n",
       "    </tr>\n",
       "  </tbody>\n",
       "</table>\n",
       "</div>"
      ],
      "text/plain": [
       "                                0  \\\n",
       "0  wikipedia-24896-25-30-33-19-21   \n",
       "1   wikipedia-12728-224-5-7-42-44   \n",
       "2      wikipedia-28460-3-0-7-9-12   \n",
       "3    wikipedia-11479-37-24-26-3-5   \n",
       "4     wikipedia-15581-6-0-2-32-40   \n",
       "\n",
       "                                                   1         2   3   4  \\\n",
       "0  영국에서 사용되는 스포츠 유틸리티 자동차의 브랜드로는 랜드로버(Land Rover)...      랜드로버  30  33   \n",
       "1  선거에서 민주당은 해산 전 의석인 230석에 한참 못 미치는 57석(지역구 27석,...       민주당   5   7   \n",
       "2  유럽 축구 연맹(UEFA) 집행위원회는 2014년 1월 24일에 열린 회의를 통해 ...  유럽 축구 연맹   0   7   \n",
       "3  용병 공격수 챠디의 부진과 시즌 초 활약한 강수일의 침체, 시즌 중반에 영입한 세르...       강수일  24  26   \n",
       "4  람캄행 왕은 1237년에서 1247년 사이 수코타이의 왕 퍼쿤 씨 인트라팃과 쓰엉 ...       람캄행   0   2   \n",
       "\n",
       "           5   6   7         8  \\\n",
       "0        자동차  19  21     단체:제작   \n",
       "1        27석  42  44     관계_없음   \n",
       "2       UEFA   9  12     단체:별칭   \n",
       "3        공격수   3   5  인물:직업/직함   \n",
       "4  퍼쿤 씨 인트라팃  32  40    인물:부모님   \n",
       "\n",
       "                                                  11  \n",
       "0  영국에서 사용되는 스포츠 유틸리티 [E2] 자동차 [/E2]의 브랜드로는 [E1] ...  \n",
       "1  선거에서 [E1] 민주당 [/E1]은 해산 전 의석인 230석에 한참 못 미치는 5...  \n",
       "2  [E1] 유럽 축구 연맹 [/E1]([E2] UEFA [/E2]) 집행위원회는 20...  \n",
       "3  용병 [E2] 공격수 [/E2] 챠디의 부진과 시즌 초 활약한 [E1] 강수일 [/...  \n",
       "4  [E1] 람캄행 [/E1] 왕은 1237년에서 1247년 사이 수코타이의 왕 [E2...  "
      ]
     },
     "execution_count": 15,
     "metadata": {},
     "output_type": "execute_result"
    }
   ],
   "source": [
    "df.head()"
   ]
  },
  {
   "cell_type": "code",
   "execution_count": 16,
   "metadata": {},
   "outputs": [],
   "source": [
    "df_final2 = df.copy()\n",
    "df_final2['1'] = df_final2['11']\n",
    "df_train, df_valid = train_test_split(df_final2, test_size=0.1, random_state=42)\n",
    "df_train.to_csv('../input/data/train/train_ent.tsv', sep='\\t', header=None, index=None)\n",
    "df_valid.to_csv('../input/data/train/valid_ent.tsv', sep='\\t', header=None, index=None)"
   ]
  },
  {
   "cell_type": "code",
   "execution_count": 65,
   "metadata": {},
   "outputs": [],
   "source": [
    "with open('../input/data/train/ner_tags.pickle', 'wb') as f:\n",
    "    pickle.dump(ner_tokens_processed, f)"
   ]
  },
  {
   "cell_type": "markdown",
   "metadata": {},
   "source": [
    "## Test Data Process"
   ]
  },
  {
   "cell_type": "code",
   "execution_count": 17,
   "metadata": {},
   "outputs": [
    {
     "data": {
      "text/html": [
       "<div>\n",
       "<style scoped>\n",
       "    .dataframe tbody tr th:only-of-type {\n",
       "        vertical-align: middle;\n",
       "    }\n",
       "\n",
       "    .dataframe tbody tr th {\n",
       "        vertical-align: top;\n",
       "    }\n",
       "\n",
       "    .dataframe thead th {\n",
       "        text-align: right;\n",
       "    }\n",
       "</style>\n",
       "<table border=\"1\" class=\"dataframe\">\n",
       "  <thead>\n",
       "    <tr style=\"text-align: right;\">\n",
       "      <th></th>\n",
       "      <th>0</th>\n",
       "      <th>1</th>\n",
       "      <th>2</th>\n",
       "      <th>3</th>\n",
       "      <th>4</th>\n",
       "      <th>5</th>\n",
       "      <th>6</th>\n",
       "      <th>7</th>\n",
       "      <th>8</th>\n",
       "    </tr>\n",
       "  </thead>\n",
       "  <tbody>\n",
       "    <tr>\n",
       "      <th>0</th>\n",
       "      <td>wikipedia-15133-19-0-2-45-46</td>\n",
       "      <td>이은주의 첫 영화로, 그녀가 강수연(정화 역)의 동생 세화 역으로 출연한 박종원 감...</td>\n",
       "      <td>이은주</td>\n",
       "      <td>0</td>\n",
       "      <td>2</td>\n",
       "      <td>감독</td>\n",
       "      <td>45</td>\n",
       "      <td>46</td>\n",
       "      <td>blind</td>\n",
       "    </tr>\n",
       "    <tr>\n",
       "      <th>1</th>\n",
       "      <td>wikitree-10241-0-0-4-9-11</td>\n",
       "      <td>경성대학교(총장 송수건) 미술학과 졸업예정 학생들이 부산 지역의 유망한 청년예술가에...</td>\n",
       "      <td>경성대학교</td>\n",
       "      <td>0</td>\n",
       "      <td>4</td>\n",
       "      <td>송수건</td>\n",
       "      <td>9</td>\n",
       "      <td>11</td>\n",
       "      <td>blind</td>\n",
       "    </tr>\n",
       "    <tr>\n",
       "      <th>2</th>\n",
       "      <td>wikipedia-24909-38-83-89-45-48</td>\n",
       "      <td>하더라도 만일 그녀의 아들에게 계승시킬 수 있다면 영국 왕 에드워드 2세의 왕비 이...</td>\n",
       "      <td>에드워드 3세</td>\n",
       "      <td>83</td>\n",
       "      <td>89</td>\n",
       "      <td>이사벨라</td>\n",
       "      <td>45</td>\n",
       "      <td>48</td>\n",
       "      <td>blind</td>\n",
       "    </tr>\n",
       "    <tr>\n",
       "      <th>3</th>\n",
       "      <td>wikitree-29775-2-38-43-17-18</td>\n",
       "      <td>정성으로 담근 700포기의 김장김치는 발굴된 저소득 가정 55세대에 새마을부녀회 회...</td>\n",
       "      <td>새마을부녀회</td>\n",
       "      <td>38</td>\n",
       "      <td>43</td>\n",
       "      <td>김치</td>\n",
       "      <td>17</td>\n",
       "      <td>18</td>\n",
       "      <td>blind</td>\n",
       "    </tr>\n",
       "    <tr>\n",
       "      <th>4</th>\n",
       "      <td>wikipedia-20874-21-8-9-30-32</td>\n",
       "      <td>노트북은 이들 정부에 판매될 것이며 \"하나의 노트북을 한 명의 어린이마다\"라는 정책...</td>\n",
       "      <td>정부</td>\n",
       "      <td>8</td>\n",
       "      <td>9</td>\n",
       "      <td>한 명</td>\n",
       "      <td>30</td>\n",
       "      <td>32</td>\n",
       "      <td>blind</td>\n",
       "    </tr>\n",
       "  </tbody>\n",
       "</table>\n",
       "</div>"
      ],
      "text/plain": [
       "                                0  \\\n",
       "0    wikipedia-15133-19-0-2-45-46   \n",
       "1       wikitree-10241-0-0-4-9-11   \n",
       "2  wikipedia-24909-38-83-89-45-48   \n",
       "3    wikitree-29775-2-38-43-17-18   \n",
       "4    wikipedia-20874-21-8-9-30-32   \n",
       "\n",
       "                                                   1        2   3   4     5  \\\n",
       "0  이은주의 첫 영화로, 그녀가 강수연(정화 역)의 동생 세화 역으로 출연한 박종원 감...      이은주   0   2    감독   \n",
       "1  경성대학교(총장 송수건) 미술학과 졸업예정 학생들이 부산 지역의 유망한 청년예술가에...    경성대학교   0   4   송수건   \n",
       "2  하더라도 만일 그녀의 아들에게 계승시킬 수 있다면 영국 왕 에드워드 2세의 왕비 이...  에드워드 3세  83  89  이사벨라   \n",
       "3  정성으로 담근 700포기의 김장김치는 발굴된 저소득 가정 55세대에 새마을부녀회 회...   새마을부녀회  38  43    김치   \n",
       "4  노트북은 이들 정부에 판매될 것이며 \"하나의 노트북을 한 명의 어린이마다\"라는 정책...       정부   8   9   한 명   \n",
       "\n",
       "    6   7      8  \n",
       "0  45  46  blind  \n",
       "1   9  11  blind  \n",
       "2  45  48  blind  \n",
       "3  17  18  blind  \n",
       "4  30  32  blind  "
      ]
     },
     "execution_count": 17,
     "metadata": {},
     "output_type": "execute_result"
    }
   ],
   "source": [
    "df_test = pd.read_csv('../input/data/test/test.tsv', sep='\\t', header=None)\n",
    "df_test.columns = [str(i) for i in range(9)]\n",
    "\n",
    "df_test.head()"
   ]
  },
  {
   "cell_type": "code",
   "execution_count": 124,
   "metadata": {},
   "outputs": [
    {
     "name": "stdout",
     "output_type": "stream",
     "text": [
      "['[ARTIFACT]', '[/ARTIFACT]', '[OCCUPATION]', '[/OCCUPATION]', '[PLANT]', '[/PLANT]', '[ANIMAL]', '[/ANIMAL]', '[DATE]', '[/DATE]', '[STUDY_FIELD]', '[/STUDY_FIELD]', '[EVENT]', '[/EVENT]', '[LOCATION]', '[/LOCATION]', '[DISEASE]', '[/DISEASE]', '[QUANTITY]', '[/QUANTITY]', '[COUNTRY]', '[/COUNTRY]', '[TERM]', '[/TERM]', '[ORGANIZATION]', '[/ORGANIZATION]', '[O]', '[/O]', '[CIVILIZATION]', '[/CIVILIZATION]', '[PERSON]', '[/PERSON]', '[TIME]', '[/TIME]', '[None]', '[/None]', '[MATERIAL]', '[/MATERIAL]', '[THEORY]', '[/THEORY]', '[CITY]', '[/CITY]']\n"
     ]
    }
   ],
   "source": [
    "with open('../input/data/train/ner_tags.pickle', 'rb') as f:\n",
    "    ner_tokens = pickle.load(f)\n",
    "print(ner_tokens)"
   ]
  },
  {
   "cell_type": "code",
   "execution_count": 125,
   "metadata": {},
   "outputs": [
    {
     "data": {
      "text/plain": [
       "'ARTIFACT'"
      ]
     },
     "execution_count": 125,
     "metadata": {},
     "output_type": "execute_result"
    }
   ],
   "source": [
    "re.sub('\\[|\\]', '', '[ARTIFACT]')"
   ]
  },
  {
   "cell_type": "code",
   "execution_count": 126,
   "metadata": {},
   "outputs": [
    {
     "name": "stderr",
     "output_type": "stream",
     "text": [
      "  1%|          | 7/1000 [00:00<00:16, 61.25it/s]"
     ]
    },
    {
     "name": "stdout",
     "output_type": "stream",
     "text": [
      "['ARTIFACT', '/ARTIFACT', 'OCCUPATION', '/OCCUPATION', 'PLANT', '/PLANT', 'ANIMAL', '/ANIMAL', 'DATE', '/DATE', 'STUDY_FIELD', '/STUDY_FIELD', 'EVENT', '/EVENT', 'LOCATION', '/LOCATION', 'DISEASE', '/DISEASE', 'QUANTITY', '/QUANTITY', 'COUNTRY', '/COUNTRY', 'TERM', '/TERM', 'ORGANIZATION', '/ORGANIZATION', 'O', '/O', 'CIVILIZATION', '/CIVILIZATION', 'PERSON', '/PERSON', 'TIME', '/TIME', 'None', '/None', 'MATERIAL', '/MATERIAL', 'THEORY', '/THEORY', 'CITY', '/CITY']\n"
     ]
    },
    {
     "name": "stderr",
     "output_type": "stream",
     "text": [
      "100%|██████████| 1000/1000 [00:16<00:00, 60.37it/s]\n"
     ]
    }
   ],
   "source": [
    "ne_1 = []\n",
    "ne_2 = []\n",
    "\n",
    "ner_tokens_pure = [re.sub('\\[|\\]', '', t) for t in ner_tokens]\n",
    "print(ner_tokens_pure)\n",
    "\n",
    "for idx in tqdm(range(len(df_test))):\n",
    "    row = df_test.iloc[idx, :]\n",
    "    ner_results = {k: v for k, v in ner(row['1'])}\n",
    "    if row['2'] in ner_results and row['5'] in ner_results:\n",
    "        if ner_results[row['2']] in ner_tokens_pure:\n",
    "            en_1 = ner_results[row['2']]\n",
    "        else:\n",
    "            print(ner_results[row['2']])\n",
    "            en_1 = None\n",
    "        if ner_results[row['5']] in ner_tokens_pure:\n",
    "            en_2 = ner_results[row['5']]\n",
    "        else:\n",
    "            print(ner_results[row['5']])\n",
    "            en_2 = None\n",
    "    else:\n",
    "        en_1, en_2 = None, None\n",
    "    ne_1.append(en_1)\n",
    "    ne_2.append(en_2)\n",
    "\n",
    "df_test['9'] = ne_1\n",
    "df_test['10'] = ne_2"
   ]
  },
  {
   "cell_type": "code",
   "execution_count": 111,
   "metadata": {},
   "outputs": [
    {
     "data": {
      "text/plain": [
       "PERSON          350\n",
       "ORGANIZATION    324\n",
       "COUNTRY          13\n",
       "CIVILIZATION      9\n",
       "O                 9\n",
       "LOCATION          6\n",
       "ARTIFACT          5\n",
       "TERM              2\n",
       "CITY              1\n",
       "THEORY            1\n",
       "ANIMAL            1\n",
       "EVENT             1\n",
       "STUDY_FIELD       1\n",
       "DATE              1\n",
       "Name: 9, dtype: int64"
      ]
     },
     "execution_count": 111,
     "metadata": {},
     "output_type": "execute_result"
    }
   ],
   "source": [
    "df_test['9'].value_counts()"
   ]
  },
  {
   "cell_type": "code",
   "execution_count": 19,
   "metadata": {},
   "outputs": [
    {
     "name": "stderr",
     "output_type": "stream",
     "text": [
      "100%|██████████| 1000/1000 [00:00<00:00, 6038.80it/s]\n"
     ]
    }
   ],
   "source": [
    "new_s_lst = []\n",
    "for idx in tqdm(range(len(df_test))):\n",
    "    row = df_test.iloc[idx, :]\n",
    "    s = row['1']\n",
    "    new_s = s.replace(row['2'], '[{}] {} [/{}]'.format('[E1]', row['2'], '[/E1]'))\n",
    "    new_s = new_s.replace(row['5'], '[{}] {} [/{}]'.format('[E2]', row['5'], '[/E2]'))\n",
    "    new_s_lst.append(new_s)\n",
    "df_test['11'] = new_s_lst\n",
    "del new_s_lst"
   ]
  },
  {
   "cell_type": "code",
   "execution_count": 20,
   "metadata": {},
   "outputs": [
    {
     "data": {
      "text/html": [
       "<div>\n",
       "<style scoped>\n",
       "    .dataframe tbody tr th:only-of-type {\n",
       "        vertical-align: middle;\n",
       "    }\n",
       "\n",
       "    .dataframe tbody tr th {\n",
       "        vertical-align: top;\n",
       "    }\n",
       "\n",
       "    .dataframe thead th {\n",
       "        text-align: right;\n",
       "    }\n",
       "</style>\n",
       "<table border=\"1\" class=\"dataframe\">\n",
       "  <thead>\n",
       "    <tr style=\"text-align: right;\">\n",
       "      <th></th>\n",
       "      <th>0</th>\n",
       "      <th>1</th>\n",
       "      <th>2</th>\n",
       "      <th>3</th>\n",
       "      <th>4</th>\n",
       "      <th>5</th>\n",
       "      <th>6</th>\n",
       "      <th>7</th>\n",
       "      <th>8</th>\n",
       "      <th>11</th>\n",
       "    </tr>\n",
       "  </thead>\n",
       "  <tbody>\n",
       "    <tr>\n",
       "      <th>0</th>\n",
       "      <td>wikipedia-15133-19-0-2-45-46</td>\n",
       "      <td>[[E1]] 이은주 [/[/E1]]의 첫 영화로, 그녀가 강수연(정화 역)의 동생 ...</td>\n",
       "      <td>이은주</td>\n",
       "      <td>0</td>\n",
       "      <td>2</td>\n",
       "      <td>감독</td>\n",
       "      <td>45</td>\n",
       "      <td>46</td>\n",
       "      <td>blind</td>\n",
       "      <td>[[E1]] 이은주 [/[/E1]]의 첫 영화로, 그녀가 강수연(정화 역)의 동생 ...</td>\n",
       "    </tr>\n",
       "    <tr>\n",
       "      <th>1</th>\n",
       "      <td>wikitree-10241-0-0-4-9-11</td>\n",
       "      <td>[[E1]] 경성대학교 [/[/E1]](총장 [[E2]] 송수건 [/[/E2]]) ...</td>\n",
       "      <td>경성대학교</td>\n",
       "      <td>0</td>\n",
       "      <td>4</td>\n",
       "      <td>송수건</td>\n",
       "      <td>9</td>\n",
       "      <td>11</td>\n",
       "      <td>blind</td>\n",
       "      <td>[[E1]] 경성대학교 [/[/E1]](총장 [[E2]] 송수건 [/[/E2]]) ...</td>\n",
       "    </tr>\n",
       "    <tr>\n",
       "      <th>2</th>\n",
       "      <td>wikipedia-24909-38-83-89-45-48</td>\n",
       "      <td>하더라도 만일 그녀의 아들에게 계승시킬 수 있다면 영국 왕 에드워드 2세의 왕비 [...</td>\n",
       "      <td>에드워드 3세</td>\n",
       "      <td>83</td>\n",
       "      <td>89</td>\n",
       "      <td>이사벨라</td>\n",
       "      <td>45</td>\n",
       "      <td>48</td>\n",
       "      <td>blind</td>\n",
       "      <td>하더라도 만일 그녀의 아들에게 계승시킬 수 있다면 영국 왕 에드워드 2세의 왕비 [...</td>\n",
       "    </tr>\n",
       "    <tr>\n",
       "      <th>3</th>\n",
       "      <td>wikitree-29775-2-38-43-17-18</td>\n",
       "      <td>정성으로 담근 700포기의 김장[[E2]] 김치 [/[/E2]]는 발굴된 저소득 가...</td>\n",
       "      <td>새마을부녀회</td>\n",
       "      <td>38</td>\n",
       "      <td>43</td>\n",
       "      <td>김치</td>\n",
       "      <td>17</td>\n",
       "      <td>18</td>\n",
       "      <td>blind</td>\n",
       "      <td>정성으로 담근 700포기의 김장[[E2]] 김치 [/[/E2]]는 발굴된 저소득 가...</td>\n",
       "    </tr>\n",
       "    <tr>\n",
       "      <th>4</th>\n",
       "      <td>wikipedia-20874-21-8-9-30-32</td>\n",
       "      <td>노트북은 이들 [[E1]] 정부 [/[/E1]]에 판매될 것이며 \"하나의 노트북을 ...</td>\n",
       "      <td>정부</td>\n",
       "      <td>8</td>\n",
       "      <td>9</td>\n",
       "      <td>한 명</td>\n",
       "      <td>30</td>\n",
       "      <td>32</td>\n",
       "      <td>blind</td>\n",
       "      <td>노트북은 이들 [[E1]] 정부 [/[/E1]]에 판매될 것이며 \"하나의 노트북을 ...</td>\n",
       "    </tr>\n",
       "  </tbody>\n",
       "</table>\n",
       "</div>"
      ],
      "text/plain": [
       "                                0  \\\n",
       "0    wikipedia-15133-19-0-2-45-46   \n",
       "1       wikitree-10241-0-0-4-9-11   \n",
       "2  wikipedia-24909-38-83-89-45-48   \n",
       "3    wikitree-29775-2-38-43-17-18   \n",
       "4    wikipedia-20874-21-8-9-30-32   \n",
       "\n",
       "                                                   1        2   3   4     5  \\\n",
       "0  [[E1]] 이은주 [/[/E1]]의 첫 영화로, 그녀가 강수연(정화 역)의 동생 ...      이은주   0   2    감독   \n",
       "1  [[E1]] 경성대학교 [/[/E1]](총장 [[E2]] 송수건 [/[/E2]]) ...    경성대학교   0   4   송수건   \n",
       "2  하더라도 만일 그녀의 아들에게 계승시킬 수 있다면 영국 왕 에드워드 2세의 왕비 [...  에드워드 3세  83  89  이사벨라   \n",
       "3  정성으로 담근 700포기의 김장[[E2]] 김치 [/[/E2]]는 발굴된 저소득 가...   새마을부녀회  38  43    김치   \n",
       "4  노트북은 이들 [[E1]] 정부 [/[/E1]]에 판매될 것이며 \"하나의 노트북을 ...       정부   8   9   한 명   \n",
       "\n",
       "    6   7      8                                                 11  \n",
       "0  45  46  blind  [[E1]] 이은주 [/[/E1]]의 첫 영화로, 그녀가 강수연(정화 역)의 동생 ...  \n",
       "1   9  11  blind  [[E1]] 경성대학교 [/[/E1]](총장 [[E2]] 송수건 [/[/E2]]) ...  \n",
       "2  45  48  blind  하더라도 만일 그녀의 아들에게 계승시킬 수 있다면 영국 왕 에드워드 2세의 왕비 [...  \n",
       "3  17  18  blind  정성으로 담근 700포기의 김장[[E2]] 김치 [/[/E2]]는 발굴된 저소득 가...  \n",
       "4  30  32  blind  노트북은 이들 [[E1]] 정부 [/[/E1]]에 판매될 것이며 \"하나의 노트북을 ...  "
      ]
     },
     "execution_count": 20,
     "metadata": {},
     "output_type": "execute_result"
    }
   ],
   "source": [
    "df_test_copy = df_test.copy()\n",
    "df_test_copy['1'] = df_test_copy['11']\n",
    "df_test_copy.head()"
   ]
  },
  {
   "cell_type": "code",
   "execution_count": 21,
   "metadata": {},
   "outputs": [
    {
     "data": {
      "text/html": [
       "<div>\n",
       "<style scoped>\n",
       "    .dataframe tbody tr th:only-of-type {\n",
       "        vertical-align: middle;\n",
       "    }\n",
       "\n",
       "    .dataframe tbody tr th {\n",
       "        vertical-align: top;\n",
       "    }\n",
       "\n",
       "    .dataframe thead th {\n",
       "        text-align: right;\n",
       "    }\n",
       "</style>\n",
       "<table border=\"1\" class=\"dataframe\">\n",
       "  <thead>\n",
       "    <tr style=\"text-align: right;\">\n",
       "      <th></th>\n",
       "      <th>0</th>\n",
       "      <th>1</th>\n",
       "      <th>2</th>\n",
       "      <th>3</th>\n",
       "      <th>4</th>\n",
       "      <th>5</th>\n",
       "      <th>6</th>\n",
       "      <th>7</th>\n",
       "      <th>8</th>\n",
       "      <th>11</th>\n",
       "    </tr>\n",
       "  </thead>\n",
       "  <tbody>\n",
       "    <tr>\n",
       "      <th>0</th>\n",
       "      <td>wikipedia-15133-19-0-2-45-46</td>\n",
       "      <td>[[E1]] 이은주 [/[/E1]]의 첫 영화로, 그녀가 강수연(정화 역)의 동생 ...</td>\n",
       "      <td>이은주</td>\n",
       "      <td>0</td>\n",
       "      <td>2</td>\n",
       "      <td>감독</td>\n",
       "      <td>45</td>\n",
       "      <td>46</td>\n",
       "      <td>blind</td>\n",
       "      <td>[[E1]] 이은주 [/[/E1]]의 첫 영화로, 그녀가 강수연(정화 역)의 동생 ...</td>\n",
       "    </tr>\n",
       "    <tr>\n",
       "      <th>1</th>\n",
       "      <td>wikitree-10241-0-0-4-9-11</td>\n",
       "      <td>[[E1]] 경성대학교 [/[/E1]](총장 [[E2]] 송수건 [/[/E2]]) ...</td>\n",
       "      <td>경성대학교</td>\n",
       "      <td>0</td>\n",
       "      <td>4</td>\n",
       "      <td>송수건</td>\n",
       "      <td>9</td>\n",
       "      <td>11</td>\n",
       "      <td>blind</td>\n",
       "      <td>[[E1]] 경성대학교 [/[/E1]](총장 [[E2]] 송수건 [/[/E2]]) ...</td>\n",
       "    </tr>\n",
       "    <tr>\n",
       "      <th>2</th>\n",
       "      <td>wikipedia-24909-38-83-89-45-48</td>\n",
       "      <td>하더라도 만일 그녀의 아들에게 계승시킬 수 있다면 영국 왕 에드워드 2세의 왕비 [...</td>\n",
       "      <td>에드워드 3세</td>\n",
       "      <td>83</td>\n",
       "      <td>89</td>\n",
       "      <td>이사벨라</td>\n",
       "      <td>45</td>\n",
       "      <td>48</td>\n",
       "      <td>blind</td>\n",
       "      <td>하더라도 만일 그녀의 아들에게 계승시킬 수 있다면 영국 왕 에드워드 2세의 왕비 [...</td>\n",
       "    </tr>\n",
       "    <tr>\n",
       "      <th>3</th>\n",
       "      <td>wikitree-29775-2-38-43-17-18</td>\n",
       "      <td>정성으로 담근 700포기의 김장[[E2]] 김치 [/[/E2]]는 발굴된 저소득 가...</td>\n",
       "      <td>새마을부녀회</td>\n",
       "      <td>38</td>\n",
       "      <td>43</td>\n",
       "      <td>김치</td>\n",
       "      <td>17</td>\n",
       "      <td>18</td>\n",
       "      <td>blind</td>\n",
       "      <td>정성으로 담근 700포기의 김장[[E2]] 김치 [/[/E2]]는 발굴된 저소득 가...</td>\n",
       "    </tr>\n",
       "    <tr>\n",
       "      <th>4</th>\n",
       "      <td>wikipedia-20874-21-8-9-30-32</td>\n",
       "      <td>노트북은 이들 [[E1]] 정부 [/[/E1]]에 판매될 것이며 \"하나의 노트북을 ...</td>\n",
       "      <td>정부</td>\n",
       "      <td>8</td>\n",
       "      <td>9</td>\n",
       "      <td>한 명</td>\n",
       "      <td>30</td>\n",
       "      <td>32</td>\n",
       "      <td>blind</td>\n",
       "      <td>노트북은 이들 [[E1]] 정부 [/[/E1]]에 판매될 것이며 \"하나의 노트북을 ...</td>\n",
       "    </tr>\n",
       "    <tr>\n",
       "      <th>...</th>\n",
       "      <td>...</td>\n",
       "      <td>...</td>\n",
       "      <td>...</td>\n",
       "      <td>...</td>\n",
       "      <td>...</td>\n",
       "      <td>...</td>\n",
       "      <td>...</td>\n",
       "      <td>...</td>\n",
       "      <td>...</td>\n",
       "      <td>...</td>\n",
       "    </tr>\n",
       "    <tr>\n",
       "      <th>995</th>\n",
       "      <td>wikipedia-5911-11-14-18-21-23</td>\n",
       "      <td>1940년 7월 10일, [[E1]] 나치 독일 [/[/E1]]의 [[E2]] 프랑...</td>\n",
       "      <td>나치 독일</td>\n",
       "      <td>14</td>\n",
       "      <td>18</td>\n",
       "      <td>프랑스</td>\n",
       "      <td>21</td>\n",
       "      <td>23</td>\n",
       "      <td>blind</td>\n",
       "      <td>1940년 7월 10일, [[E1]] 나치 독일 [/[/E1]]의 [[E2]] 프랑...</td>\n",
       "    </tr>\n",
       "    <tr>\n",
       "      <th>996</th>\n",
       "      <td>wikipedia-17379-20-200-205-179-181</td>\n",
       "      <td>(하지만 Vasco는 '스핏파이어(spit fire)(spit fire)'란 프로젝...</td>\n",
       "      <td>DJ DOC</td>\n",
       "      <td>200</td>\n",
       "      <td>205</td>\n",
       "      <td>박정환</td>\n",
       "      <td>179</td>\n",
       "      <td>181</td>\n",
       "      <td>blind</td>\n",
       "      <td>(하지만 Vasco는 '스핏파이어(spit fire)(spit fire)'란 프로젝...</td>\n",
       "    </tr>\n",
       "    <tr>\n",
       "      <th>997</th>\n",
       "      <td>wikitree-59796-5-32-35-37-39</td>\n",
       "      <td>또한 (사)한국여성농업인 광양시 연합회(도미화 회장)는 ㈜[[E1]] 광양교통 [/...</td>\n",
       "      <td>광양교통</td>\n",
       "      <td>32</td>\n",
       "      <td>35</td>\n",
       "      <td>이순심</td>\n",
       "      <td>37</td>\n",
       "      <td>39</td>\n",
       "      <td>blind</td>\n",
       "      <td>또한 (사)한국여성농업인 광양시 연합회(도미화 회장)는 ㈜[[E1]] 광양교통 [/...</td>\n",
       "    </tr>\n",
       "    <tr>\n",
       "      <th>998</th>\n",
       "      <td>wikipedia-1829-41-9-10-0-1</td>\n",
       "      <td>[[E2]] 마코 [/[/E2]]가 항의하자 [[E1]] 벵어 [/[/E1]]는 [...</td>\n",
       "      <td>벵어</td>\n",
       "      <td>9</td>\n",
       "      <td>10</td>\n",
       "      <td>마코</td>\n",
       "      <td>0</td>\n",
       "      <td>1</td>\n",
       "      <td>blind</td>\n",
       "      <td>[[E2]] 마코 [/[/E2]]가 항의하자 [[E1]] 벵어 [/[/E1]]는 [...</td>\n",
       "    </tr>\n",
       "    <tr>\n",
       "      <th>999</th>\n",
       "      <td>wikipedia-15245-1-91-99-43-47</td>\n",
       "      <td>도쿄도 출신으로 세이조 대학을 졸업, 1969년 12월 중의원 의원 총선거에 [[E...</td>\n",
       "      <td>나카소네 야스히로</td>\n",
       "      <td>91</td>\n",
       "      <td>99</td>\n",
       "      <td>자유민주당</td>\n",
       "      <td>43</td>\n",
       "      <td>47</td>\n",
       "      <td>blind</td>\n",
       "      <td>도쿄도 출신으로 세이조 대학을 졸업, 1969년 12월 중의원 의원 총선거에 [[E...</td>\n",
       "    </tr>\n",
       "  </tbody>\n",
       "</table>\n",
       "<p>1000 rows × 10 columns</p>\n",
       "</div>"
      ],
      "text/plain": [
       "                                      0  \\\n",
       "0          wikipedia-15133-19-0-2-45-46   \n",
       "1             wikitree-10241-0-0-4-9-11   \n",
       "2        wikipedia-24909-38-83-89-45-48   \n",
       "3          wikitree-29775-2-38-43-17-18   \n",
       "4          wikipedia-20874-21-8-9-30-32   \n",
       "..                                  ...   \n",
       "995       wikipedia-5911-11-14-18-21-23   \n",
       "996  wikipedia-17379-20-200-205-179-181   \n",
       "997        wikitree-59796-5-32-35-37-39   \n",
       "998          wikipedia-1829-41-9-10-0-1   \n",
       "999       wikipedia-15245-1-91-99-43-47   \n",
       "\n",
       "                                                     1          2    3    4  \\\n",
       "0    [[E1]] 이은주 [/[/E1]]의 첫 영화로, 그녀가 강수연(정화 역)의 동생 ...        이은주    0    2   \n",
       "1    [[E1]] 경성대학교 [/[/E1]](총장 [[E2]] 송수건 [/[/E2]]) ...      경성대학교    0    4   \n",
       "2    하더라도 만일 그녀의 아들에게 계승시킬 수 있다면 영국 왕 에드워드 2세의 왕비 [...    에드워드 3세   83   89   \n",
       "3    정성으로 담근 700포기의 김장[[E2]] 김치 [/[/E2]]는 발굴된 저소득 가...     새마을부녀회   38   43   \n",
       "4    노트북은 이들 [[E1]] 정부 [/[/E1]]에 판매될 것이며 \"하나의 노트북을 ...         정부    8    9   \n",
       "..                                                 ...        ...  ...  ...   \n",
       "995  1940년 7월 10일, [[E1]] 나치 독일 [/[/E1]]의 [[E2]] 프랑...      나치 독일   14   18   \n",
       "996  (하지만 Vasco는 '스핏파이어(spit fire)(spit fire)'란 프로젝...     DJ DOC  200  205   \n",
       "997  또한 (사)한국여성농업인 광양시 연합회(도미화 회장)는 ㈜[[E1]] 광양교통 [/...       광양교통   32   35   \n",
       "998  [[E2]] 마코 [/[/E2]]가 항의하자 [[E1]] 벵어 [/[/E1]]는 [...         벵어    9   10   \n",
       "999  도쿄도 출신으로 세이조 대학을 졸업, 1969년 12월 중의원 의원 총선거에 [[E...  나카소네 야스히로   91   99   \n",
       "\n",
       "         5    6    7      8                                                 11  \n",
       "0       감독   45   46  blind  [[E1]] 이은주 [/[/E1]]의 첫 영화로, 그녀가 강수연(정화 역)의 동생 ...  \n",
       "1      송수건    9   11  blind  [[E1]] 경성대학교 [/[/E1]](총장 [[E2]] 송수건 [/[/E2]]) ...  \n",
       "2     이사벨라   45   48  blind  하더라도 만일 그녀의 아들에게 계승시킬 수 있다면 영국 왕 에드워드 2세의 왕비 [...  \n",
       "3       김치   17   18  blind  정성으로 담근 700포기의 김장[[E2]] 김치 [/[/E2]]는 발굴된 저소득 가...  \n",
       "4      한 명   30   32  blind  노트북은 이들 [[E1]] 정부 [/[/E1]]에 판매될 것이며 \"하나의 노트북을 ...  \n",
       "..     ...  ...  ...    ...                                                ...  \n",
       "995    프랑스   21   23  blind  1940년 7월 10일, [[E1]] 나치 독일 [/[/E1]]의 [[E2]] 프랑...  \n",
       "996    박정환  179  181  blind  (하지만 Vasco는 '스핏파이어(spit fire)(spit fire)'란 프로젝...  \n",
       "997    이순심   37   39  blind  또한 (사)한국여성농업인 광양시 연합회(도미화 회장)는 ㈜[[E1]] 광양교통 [/...  \n",
       "998     마코    0    1  blind  [[E2]] 마코 [/[/E2]]가 항의하자 [[E1]] 벵어 [/[/E1]]는 [...  \n",
       "999  자유민주당   43   47  blind  도쿄도 출신으로 세이조 대학을 졸업, 1969년 12월 중의원 의원 총선거에 [[E...  \n",
       "\n",
       "[1000 rows x 10 columns]"
      ]
     },
     "execution_count": 21,
     "metadata": {},
     "output_type": "execute_result"
    }
   ],
   "source": [
    "df_test_copy"
   ]
  },
  {
   "cell_type": "code",
   "execution_count": 23,
   "metadata": {},
   "outputs": [],
   "source": [
    "df_test_copy.to_csv('../input/data/test/test_ent.tsv', index=None, header=None, sep='\\t')"
   ]
  },
  {
   "cell_type": "code",
   "execution_count": null,
   "metadata": {},
   "outputs": [],
   "source": []
  }
 ],
 "metadata": {
  "kernelspec": {
   "display_name": "Python 3",
   "language": "python",
   "name": "python3"
  },
  "language_info": {
   "codemirror_mode": {
    "name": "ipython",
    "version": 3
   },
   "file_extension": ".py",
   "mimetype": "text/x-python",
   "name": "python",
   "nbconvert_exporter": "python",
   "pygments_lexer": "ipython3",
   "version": "3.8.5"
  }
 },
 "nbformat": 4,
 "nbformat_minor": 5
}
