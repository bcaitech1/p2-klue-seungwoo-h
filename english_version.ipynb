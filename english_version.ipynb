{
 "cells": [
  {
   "cell_type": "code",
   "execution_count": 18,
   "metadata": {},
   "outputs": [],
   "source": [
    "import pandas as pd\n",
    "import numpy as np\n",
    "import matplotlib.pyplot as plt\n",
    "import matplotlib.font_manager as fm\n",
    "import matplotlib as mpl\n",
    "import re\n",
    "import pickle\n",
    "from pororo import Pororo\n",
    "from tqdm import tqdm\n",
    "from sklearn.model_selection import train_test_split\n",
    "\n",
    "# matplotlib 한글\n",
    "fontpath = '/usr/share/fonts/truetype/nanum/NanumBarunGothic.ttf'\n",
    "font = fm.FontProperties(fname=fontpath, size=9)\n",
    "plt.rc('font', family='NanumBarunGothic')"
   ]
  },
  {
   "cell_type": "code",
   "execution_count": 19,
   "metadata": {},
   "outputs": [],
   "source": [
    "df = pd.read_csv('../input/data/train/train.tsv', sep='\\t', header=None)\n",
    "df.columns = [str(i) for i in range(9)]"
   ]
  },
  {
   "cell_type": "code",
   "execution_count": 20,
   "metadata": {},
   "outputs": [
    {
     "data": {
      "text/html": [
       "<div>\n",
       "<style scoped>\n",
       "    .dataframe tbody tr th:only-of-type {\n",
       "        vertical-align: middle;\n",
       "    }\n",
       "\n",
       "    .dataframe tbody tr th {\n",
       "        vertical-align: top;\n",
       "    }\n",
       "\n",
       "    .dataframe thead th {\n",
       "        text-align: right;\n",
       "    }\n",
       "</style>\n",
       "<table border=\"1\" class=\"dataframe\">\n",
       "  <thead>\n",
       "    <tr style=\"text-align: right;\">\n",
       "      <th></th>\n",
       "      <th>0</th>\n",
       "      <th>1</th>\n",
       "      <th>2</th>\n",
       "      <th>3</th>\n",
       "      <th>4</th>\n",
       "      <th>5</th>\n",
       "      <th>6</th>\n",
       "      <th>7</th>\n",
       "      <th>8</th>\n",
       "    </tr>\n",
       "  </thead>\n",
       "  <tbody>\n",
       "    <tr>\n",
       "      <th>0</th>\n",
       "      <td>wikipedia-24896-25-30-33-19-21</td>\n",
       "      <td>영국에서 사용되는 스포츠 유틸리티 자동차의 브랜드로는 랜드로버(Land Rover)...</td>\n",
       "      <td>랜드로버</td>\n",
       "      <td>30</td>\n",
       "      <td>33</td>\n",
       "      <td>자동차</td>\n",
       "      <td>19</td>\n",
       "      <td>21</td>\n",
       "      <td>단체:제작</td>\n",
       "    </tr>\n",
       "    <tr>\n",
       "      <th>1</th>\n",
       "      <td>wikipedia-12728-224-5-7-42-44</td>\n",
       "      <td>선거에서 민주당은 해산 전 의석인 230석에 한참 못 미치는 57석(지역구 27석,...</td>\n",
       "      <td>민주당</td>\n",
       "      <td>5</td>\n",
       "      <td>7</td>\n",
       "      <td>27석</td>\n",
       "      <td>42</td>\n",
       "      <td>44</td>\n",
       "      <td>관계_없음</td>\n",
       "    </tr>\n",
       "    <tr>\n",
       "      <th>2</th>\n",
       "      <td>wikipedia-28460-3-0-7-9-12</td>\n",
       "      <td>유럽 축구 연맹(UEFA) 집행위원회는 2014년 1월 24일에 열린 회의를 통해 ...</td>\n",
       "      <td>유럽 축구 연맹</td>\n",
       "      <td>0</td>\n",
       "      <td>7</td>\n",
       "      <td>UEFA</td>\n",
       "      <td>9</td>\n",
       "      <td>12</td>\n",
       "      <td>단체:별칭</td>\n",
       "    </tr>\n",
       "    <tr>\n",
       "      <th>3</th>\n",
       "      <td>wikipedia-11479-37-24-26-3-5</td>\n",
       "      <td>용병 공격수 챠디의 부진과 시즌 초 활약한 강수일의 침체, 시즌 중반에 영입한 세르...</td>\n",
       "      <td>강수일</td>\n",
       "      <td>24</td>\n",
       "      <td>26</td>\n",
       "      <td>공격수</td>\n",
       "      <td>3</td>\n",
       "      <td>5</td>\n",
       "      <td>인물:직업/직함</td>\n",
       "    </tr>\n",
       "    <tr>\n",
       "      <th>4</th>\n",
       "      <td>wikipedia-15581-6-0-2-32-40</td>\n",
       "      <td>람캄행 왕은 1237년에서 1247년 사이 수코타이의 왕 퍼쿤 씨 인트라팃과 쓰엉 ...</td>\n",
       "      <td>람캄행</td>\n",
       "      <td>0</td>\n",
       "      <td>2</td>\n",
       "      <td>퍼쿤 씨 인트라팃</td>\n",
       "      <td>32</td>\n",
       "      <td>40</td>\n",
       "      <td>인물:부모님</td>\n",
       "    </tr>\n",
       "  </tbody>\n",
       "</table>\n",
       "</div>"
      ],
      "text/plain": [
       "                                0  \\\n",
       "0  wikipedia-24896-25-30-33-19-21   \n",
       "1   wikipedia-12728-224-5-7-42-44   \n",
       "2      wikipedia-28460-3-0-7-9-12   \n",
       "3    wikipedia-11479-37-24-26-3-5   \n",
       "4     wikipedia-15581-6-0-2-32-40   \n",
       "\n",
       "                                                   1         2   3   4  \\\n",
       "0  영국에서 사용되는 스포츠 유틸리티 자동차의 브랜드로는 랜드로버(Land Rover)...      랜드로버  30  33   \n",
       "1  선거에서 민주당은 해산 전 의석인 230석에 한참 못 미치는 57석(지역구 27석,...       민주당   5   7   \n",
       "2  유럽 축구 연맹(UEFA) 집행위원회는 2014년 1월 24일에 열린 회의를 통해 ...  유럽 축구 연맹   0   7   \n",
       "3  용병 공격수 챠디의 부진과 시즌 초 활약한 강수일의 침체, 시즌 중반에 영입한 세르...       강수일  24  26   \n",
       "4  람캄행 왕은 1237년에서 1247년 사이 수코타이의 왕 퍼쿤 씨 인트라팃과 쓰엉 ...       람캄행   0   2   \n",
       "\n",
       "           5   6   7         8  \n",
       "0        자동차  19  21     단체:제작  \n",
       "1        27석  42  44     관계_없음  \n",
       "2       UEFA   9  12     단체:별칭  \n",
       "3        공격수   3   5  인물:직업/직함  \n",
       "4  퍼쿤 씨 인트라팃  32  40    인물:부모님  "
      ]
     },
     "execution_count": 20,
     "metadata": {},
     "output_type": "execute_result"
    }
   ],
   "source": [
    "df.head()"
   ]
  },
  {
   "cell_type": "code",
   "execution_count": 21,
   "metadata": {},
   "outputs": [],
   "source": [
    "mt = Pororo(task='translation', lang='multi')"
   ]
  },
  {
   "cell_type": "code",
   "execution_count": 22,
   "metadata": {},
   "outputs": [
    {
     "name": "stdout",
     "output_type": "stream",
     "text": [
      "일본 천황의 즉위식인 즉위식은 대대로 교토 어소의 자신전에서 이루어졌는데, 메이지 유신으로 천황이 도쿄로 옮겨 가면서, 1889년에 제정된 구황실전범 제11조에 따라 즉위식에서 대상제는 교토에서 거행하도록 규정했고, 다이쇼 천황과 쇼와 천황도 교토 어소에서 즉위에 관한 일련의 의식이 거행되었다.\n",
      "The inauguration ceremony, which is an immediate ceremony of the Japanese emperor, took place in the self-confidence of Kyoto Fisheries, as the emperor moved to Tokyo with the Mayji Yushin, was defined in the inauguration ceremony in accordance with Article 11 of the old war crimes enacted in 1899, and a series of rituals were carried out in Kyoto, the Emperor of Daisho, the show and the Chunhwang-do Kyoto.\n",
      "CPU times: user 1.58 s, sys: 96 ms, total: 1.68 s\n",
      "Wall time: 1.7 s\n"
     ]
    }
   ],
   "source": [
    "%%time\n",
    "print(df.iloc[1000, 1])\n",
    "print(mt(df.iloc[1000, 1], src='ko', tgt='en'))"
   ]
  },
  {
   "cell_type": "code",
   "execution_count": 26,
   "metadata": {
    "tags": []
   },
   "outputs": [
    {
     "name": "stderr",
     "output_type": "stream",
     "text": [
      "100%|██████████| 9000/9000 [2:16:31<00:00,  1.10it/s]  \n"
     ]
    }
   ],
   "source": [
    "def translate(x):\n",
    "    res = mt(x, src=\"ko\", tgt='en')\n",
    "    return res\n",
    "\n",
    "tqdm.pandas()\n",
    "df['9'] = df['1'].progress_apply(lambda x: translate(x))"
   ]
  },
  {
   "cell_type": "code",
   "execution_count": 74,
   "metadata": {
    "collapsed": true,
    "jupyter": {
     "outputs_hidden": true
    },
    "tags": []
   },
   "outputs": [
    {
     "name": "stderr",
     "output_type": "stream",
     "text": [
      "  1%|          | 101/9000 [00:16<24:14,  6.12it/s]"
     ]
    },
    {
     "name": "stdout",
     "output_type": "stream",
     "text": [
      "100 100\n"
     ]
    },
    {
     "name": "stderr",
     "output_type": "stream",
     "text": [
      "  2%|▏         | 201/9000 [00:32<24:17,  6.04it/s]"
     ]
    },
    {
     "name": "stdout",
     "output_type": "stream",
     "text": [
      "200 200\n"
     ]
    },
    {
     "name": "stderr",
     "output_type": "stream",
     "text": [
      "  3%|▎         | 301/9000 [00:49<22:31,  6.44it/s]"
     ]
    },
    {
     "name": "stdout",
     "output_type": "stream",
     "text": [
      "300 300\n"
     ]
    },
    {
     "name": "stderr",
     "output_type": "stream",
     "text": [
      "  4%|▍         | 401/9000 [01:06<25:20,  5.65it/s]"
     ]
    },
    {
     "name": "stdout",
     "output_type": "stream",
     "text": [
      "400 400\n"
     ]
    },
    {
     "name": "stderr",
     "output_type": "stream",
     "text": [
      "  6%|▌         | 500/9000 [01:22<21:59,  6.44it/s]"
     ]
    },
    {
     "name": "stdout",
     "output_type": "stream",
     "text": [
      "500 500\n"
     ]
    },
    {
     "name": "stderr",
     "output_type": "stream",
     "text": [
      "  7%|▋         | 601/9000 [01:38<24:50,  5.64it/s]"
     ]
    },
    {
     "name": "stdout",
     "output_type": "stream",
     "text": [
      "600 600\n"
     ]
    },
    {
     "name": "stderr",
     "output_type": "stream",
     "text": [
      "  8%|▊         | 701/9000 [01:54<23:16,  5.94it/s]"
     ]
    },
    {
     "name": "stdout",
     "output_type": "stream",
     "text": [
      "700 700\n"
     ]
    },
    {
     "name": "stderr",
     "output_type": "stream",
     "text": [
      "  9%|▉         | 800/9000 [02:11<21:17,  6.42it/s]"
     ]
    },
    {
     "name": "stdout",
     "output_type": "stream",
     "text": [
      "800 800\n"
     ]
    },
    {
     "name": "stderr",
     "output_type": "stream",
     "text": [
      " 10%|█         | 901/9000 [02:29<23:22,  5.78it/s]"
     ]
    },
    {
     "name": "stdout",
     "output_type": "stream",
     "text": [
      "900 900\n"
     ]
    },
    {
     "name": "stderr",
     "output_type": "stream",
     "text": [
      " 11%|█         | 1001/9000 [02:45<20:48,  6.41it/s]"
     ]
    },
    {
     "name": "stdout",
     "output_type": "stream",
     "text": [
      "1000 1000\n"
     ]
    },
    {
     "name": "stderr",
     "output_type": "stream",
     "text": [
      " 12%|█▏        | 1101/9000 [03:01<21:59,  5.99it/s]"
     ]
    },
    {
     "name": "stdout",
     "output_type": "stream",
     "text": [
      "1100 1100\n"
     ]
    },
    {
     "name": "stderr",
     "output_type": "stream",
     "text": [
      " 13%|█▎        | 1200/9000 [03:17<21:17,  6.10it/s]"
     ]
    },
    {
     "name": "stdout",
     "output_type": "stream",
     "text": [
      "1200 1200\n"
     ]
    },
    {
     "name": "stderr",
     "output_type": "stream",
     "text": [
      " 14%|█▍        | 1301/9000 [03:34<19:27,  6.60it/s]"
     ]
    },
    {
     "name": "stdout",
     "output_type": "stream",
     "text": [
      "1300 1300\n"
     ]
    },
    {
     "name": "stderr",
     "output_type": "stream",
     "text": [
      " 16%|█▌        | 1401/9000 [03:50<19:30,  6.49it/s]"
     ]
    },
    {
     "name": "stdout",
     "output_type": "stream",
     "text": [
      "1400 1400\n"
     ]
    },
    {
     "name": "stderr",
     "output_type": "stream",
     "text": [
      " 17%|█▋        | 1501/9000 [04:07<19:58,  6.26it/s]"
     ]
    },
    {
     "name": "stdout",
     "output_type": "stream",
     "text": [
      "1500 1500\n"
     ]
    },
    {
     "name": "stderr",
     "output_type": "stream",
     "text": [
      " 18%|█▊        | 1601/9000 [04:24<18:48,  6.56it/s]"
     ]
    },
    {
     "name": "stdout",
     "output_type": "stream",
     "text": [
      "1600 1600\n"
     ]
    },
    {
     "name": "stderr",
     "output_type": "stream",
     "text": [
      " 19%|█▉        | 1701/9000 [04:40<18:11,  6.69it/s]"
     ]
    },
    {
     "name": "stdout",
     "output_type": "stream",
     "text": [
      "1700 1700\n"
     ]
    },
    {
     "name": "stderr",
     "output_type": "stream",
     "text": [
      " 20%|██        | 1801/9000 [04:56<19:05,  6.29it/s]"
     ]
    },
    {
     "name": "stdout",
     "output_type": "stream",
     "text": [
      "1800 1800\n"
     ]
    },
    {
     "name": "stderr",
     "output_type": "stream",
     "text": [
      " 21%|██        | 1901/9000 [05:12<18:16,  6.48it/s]"
     ]
    },
    {
     "name": "stdout",
     "output_type": "stream",
     "text": [
      "1900 1900\n"
     ]
    },
    {
     "name": "stderr",
     "output_type": "stream",
     "text": [
      " 22%|██▏       | 2001/9000 [05:28<19:29,  5.99it/s]"
     ]
    },
    {
     "name": "stdout",
     "output_type": "stream",
     "text": [
      "2000 2000\n"
     ]
    },
    {
     "name": "stderr",
     "output_type": "stream",
     "text": [
      " 23%|██▎       | 2101/9000 [05:45<18:52,  6.09it/s]"
     ]
    },
    {
     "name": "stdout",
     "output_type": "stream",
     "text": [
      "2100 2100\n"
     ]
    },
    {
     "name": "stderr",
     "output_type": "stream",
     "text": [
      " 24%|██▍       | 2201/9000 [06:01<16:16,  6.96it/s]"
     ]
    },
    {
     "name": "stdout",
     "output_type": "stream",
     "text": [
      "2200 2200\n"
     ]
    },
    {
     "name": "stderr",
     "output_type": "stream",
     "text": [
      " 26%|██▌       | 2301/9000 [06:17<17:12,  6.49it/s]"
     ]
    },
    {
     "name": "stdout",
     "output_type": "stream",
     "text": [
      "2300 2300\n"
     ]
    },
    {
     "name": "stderr",
     "output_type": "stream",
     "text": [
      " 27%|██▋       | 2401/9000 [06:33<15:42,  7.00it/s]"
     ]
    },
    {
     "name": "stdout",
     "output_type": "stream",
     "text": [
      "2400 2400\n"
     ]
    },
    {
     "name": "stderr",
     "output_type": "stream",
     "text": [
      " 28%|██▊       | 2501/9000 [06:49<17:58,  6.03it/s]"
     ]
    },
    {
     "name": "stdout",
     "output_type": "stream",
     "text": [
      "2500 2500\n"
     ]
    },
    {
     "name": "stderr",
     "output_type": "stream",
     "text": [
      " 29%|██▉       | 2601/9000 [07:05<21:13,  5.02it/s]"
     ]
    },
    {
     "name": "stdout",
     "output_type": "stream",
     "text": [
      "2600 2600\n"
     ]
    },
    {
     "name": "stderr",
     "output_type": "stream",
     "text": [
      " 30%|███       | 2700/9000 [07:23<19:08,  5.49it/s]"
     ]
    },
    {
     "name": "stdout",
     "output_type": "stream",
     "text": [
      "2700 2700\n"
     ]
    },
    {
     "name": "stderr",
     "output_type": "stream",
     "text": [
      " 31%|███       | 2801/9000 [07:39<16:29,  6.26it/s]"
     ]
    },
    {
     "name": "stdout",
     "output_type": "stream",
     "text": [
      "2800 2800\n"
     ]
    },
    {
     "name": "stderr",
     "output_type": "stream",
     "text": [
      " 32%|███▏      | 2901/9000 [07:55<16:15,  6.25it/s]"
     ]
    },
    {
     "name": "stdout",
     "output_type": "stream",
     "text": [
      "2900 2900\n"
     ]
    },
    {
     "name": "stderr",
     "output_type": "stream",
     "text": [
      " 33%|███▎      | 3000/9000 [08:11<19:03,  5.25it/s]"
     ]
    },
    {
     "name": "stdout",
     "output_type": "stream",
     "text": [
      "3000 3000\n"
     ]
    },
    {
     "name": "stderr",
     "output_type": "stream",
     "text": [
      " 34%|███▍      | 3100/9000 [08:29<16:08,  6.09it/s]"
     ]
    },
    {
     "name": "stdout",
     "output_type": "stream",
     "text": [
      "3100 3100\n"
     ]
    },
    {
     "name": "stderr",
     "output_type": "stream",
     "text": [
      " 36%|███▌      | 3201/9000 [08:46<17:55,  5.39it/s]"
     ]
    },
    {
     "name": "stdout",
     "output_type": "stream",
     "text": [
      "3200 3200\n"
     ]
    },
    {
     "name": "stderr",
     "output_type": "stream",
     "text": [
      " 37%|███▋      | 3301/9000 [09:02<16:03,  5.92it/s]"
     ]
    },
    {
     "name": "stdout",
     "output_type": "stream",
     "text": [
      "3300 3300\n"
     ]
    },
    {
     "name": "stderr",
     "output_type": "stream",
     "text": [
      " 38%|███▊      | 3401/9000 [09:18<12:00,  7.77it/s]"
     ]
    },
    {
     "name": "stdout",
     "output_type": "stream",
     "text": [
      "3400 3400\n"
     ]
    },
    {
     "name": "stderr",
     "output_type": "stream",
     "text": [
      " 39%|███▉      | 3501/9000 [09:35<15:35,  5.88it/s]"
     ]
    },
    {
     "name": "stdout",
     "output_type": "stream",
     "text": [
      "3500 3500\n"
     ]
    },
    {
     "name": "stderr",
     "output_type": "stream",
     "text": [
      " 40%|████      | 3601/9000 [09:51<15:18,  5.88it/s]"
     ]
    },
    {
     "name": "stdout",
     "output_type": "stream",
     "text": [
      "3600 3600\n"
     ]
    },
    {
     "name": "stderr",
     "output_type": "stream",
     "text": [
      " 41%|████      | 3700/9000 [10:07<16:18,  5.41it/s]"
     ]
    },
    {
     "name": "stdout",
     "output_type": "stream",
     "text": [
      "3700 3700\n"
     ]
    },
    {
     "name": "stderr",
     "output_type": "stream",
     "text": [
      " 42%|████▏     | 3801/9000 [10:24<12:37,  6.87it/s]"
     ]
    },
    {
     "name": "stdout",
     "output_type": "stream",
     "text": [
      "3800 3800\n"
     ]
    },
    {
     "name": "stderr",
     "output_type": "stream",
     "text": [
      " 43%|████▎     | 3901/9000 [10:40<13:42,  6.20it/s]"
     ]
    },
    {
     "name": "stdout",
     "output_type": "stream",
     "text": [
      "3900 3900\n"
     ]
    },
    {
     "name": "stderr",
     "output_type": "stream",
     "text": [
      " 44%|████▍     | 4001/9000 [10:56<12:40,  6.58it/s]"
     ]
    },
    {
     "name": "stdout",
     "output_type": "stream",
     "text": [
      "4000 4000\n"
     ]
    },
    {
     "name": "stderr",
     "output_type": "stream",
     "text": [
      " 46%|████▌     | 4101/9000 [11:13<13:04,  6.25it/s]"
     ]
    },
    {
     "name": "stdout",
     "output_type": "stream",
     "text": [
      "4100 4100\n"
     ]
    },
    {
     "name": "stderr",
     "output_type": "stream",
     "text": [
      " 47%|████▋     | 4201/9000 [11:29<11:29,  6.96it/s]"
     ]
    },
    {
     "name": "stdout",
     "output_type": "stream",
     "text": [
      "4200 4200\n"
     ]
    },
    {
     "name": "stderr",
     "output_type": "stream",
     "text": [
      " 48%|████▊     | 4301/9000 [11:45<13:01,  6.02it/s]"
     ]
    },
    {
     "name": "stdout",
     "output_type": "stream",
     "text": [
      "4300 4300\n"
     ]
    },
    {
     "name": "stderr",
     "output_type": "stream",
     "text": [
      " 49%|████▉     | 4401/9000 [12:00<11:38,  6.59it/s]"
     ]
    },
    {
     "name": "stdout",
     "output_type": "stream",
     "text": [
      "4400 4400\n"
     ]
    },
    {
     "name": "stderr",
     "output_type": "stream",
     "text": [
      " 50%|█████     | 4500/9000 [12:16<14:58,  5.01it/s]"
     ]
    },
    {
     "name": "stdout",
     "output_type": "stream",
     "text": [
      "4500 4500\n"
     ]
    },
    {
     "name": "stderr",
     "output_type": "stream",
     "text": [
      " 51%|█████     | 4601/9000 [12:32<12:55,  5.67it/s]"
     ]
    },
    {
     "name": "stdout",
     "output_type": "stream",
     "text": [
      "4600 4600\n"
     ]
    },
    {
     "name": "stderr",
     "output_type": "stream",
     "text": [
      " 52%|█████▏    | 4701/9000 [12:48<13:09,  5.45it/s]"
     ]
    },
    {
     "name": "stdout",
     "output_type": "stream",
     "text": [
      "4700 4700\n"
     ]
    },
    {
     "name": "stderr",
     "output_type": "stream",
     "text": [
      " 53%|█████▎    | 4800/9000 [13:05<12:20,  5.67it/s]"
     ]
    },
    {
     "name": "stdout",
     "output_type": "stream",
     "text": [
      "4800 4800\n"
     ]
    },
    {
     "name": "stderr",
     "output_type": "stream",
     "text": [
      " 54%|█████▍    | 4901/9000 [13:22<09:46,  6.98it/s]"
     ]
    },
    {
     "name": "stdout",
     "output_type": "stream",
     "text": [
      "4900 4900\n"
     ]
    },
    {
     "name": "stderr",
     "output_type": "stream",
     "text": [
      " 56%|█████▌    | 5001/9000 [13:39<13:26,  4.96it/s]"
     ]
    },
    {
     "name": "stdout",
     "output_type": "stream",
     "text": [
      "5000 5000\n"
     ]
    },
    {
     "name": "stderr",
     "output_type": "stream",
     "text": [
      " 57%|█████▋    | 5101/9000 [13:55<10:29,  6.20it/s]"
     ]
    },
    {
     "name": "stdout",
     "output_type": "stream",
     "text": [
      "5100 5100\n"
     ]
    },
    {
     "name": "stderr",
     "output_type": "stream",
     "text": [
      " 58%|█████▊    | 5201/9000 [14:11<08:49,  7.18it/s]"
     ]
    },
    {
     "name": "stdout",
     "output_type": "stream",
     "text": [
      "5200 5200\n"
     ]
    },
    {
     "name": "stderr",
     "output_type": "stream",
     "text": [
      " 59%|█████▉    | 5301/9000 [14:28<10:09,  6.07it/s]"
     ]
    },
    {
     "name": "stdout",
     "output_type": "stream",
     "text": [
      "5300 5300\n"
     ]
    },
    {
     "name": "stderr",
     "output_type": "stream",
     "text": [
      " 60%|██████    | 5401/9000 [14:44<09:58,  6.01it/s]"
     ]
    },
    {
     "name": "stdout",
     "output_type": "stream",
     "text": [
      "5400 5400\n"
     ]
    },
    {
     "name": "stderr",
     "output_type": "stream",
     "text": [
      " 61%|██████    | 5501/9000 [14:59<08:49,  6.60it/s]"
     ]
    },
    {
     "name": "stdout",
     "output_type": "stream",
     "text": [
      "5500 5500\n"
     ]
    },
    {
     "name": "stderr",
     "output_type": "stream",
     "text": [
      " 62%|██████▏   | 5601/9000 [15:16<08:33,  6.62it/s]"
     ]
    },
    {
     "name": "stdout",
     "output_type": "stream",
     "text": [
      "5600 5600\n"
     ]
    },
    {
     "name": "stderr",
     "output_type": "stream",
     "text": [
      " 63%|██████▎   | 5701/9000 [15:32<08:16,  6.65it/s]"
     ]
    },
    {
     "name": "stdout",
     "output_type": "stream",
     "text": [
      "5700 5700\n"
     ]
    },
    {
     "name": "stderr",
     "output_type": "stream",
     "text": [
      " 64%|██████▍   | 5800/9000 [15:49<09:12,  5.79it/s]"
     ]
    },
    {
     "name": "stdout",
     "output_type": "stream",
     "text": [
      "5800 5800\n"
     ]
    },
    {
     "name": "stderr",
     "output_type": "stream",
     "text": [
      " 66%|██████▌   | 5901/9000 [16:05<07:54,  6.53it/s]"
     ]
    },
    {
     "name": "stdout",
     "output_type": "stream",
     "text": [
      "5900 5900\n"
     ]
    },
    {
     "name": "stderr",
     "output_type": "stream",
     "text": [
      " 67%|██████▋   | 6001/9000 [16:21<07:55,  6.30it/s]"
     ]
    },
    {
     "name": "stdout",
     "output_type": "stream",
     "text": [
      "6000 6000\n"
     ]
    },
    {
     "name": "stderr",
     "output_type": "stream",
     "text": [
      " 68%|██████▊   | 6101/9000 [16:38<08:15,  5.85it/s]"
     ]
    },
    {
     "name": "stdout",
     "output_type": "stream",
     "text": [
      "6100 6100\n"
     ]
    },
    {
     "name": "stderr",
     "output_type": "stream",
     "text": [
      " 69%|██████▉   | 6201/9000 [16:55<08:03,  5.79it/s]"
     ]
    },
    {
     "name": "stdout",
     "output_type": "stream",
     "text": [
      "6200 6200\n"
     ]
    },
    {
     "name": "stderr",
     "output_type": "stream",
     "text": [
      " 70%|███████   | 6300/9000 [17:10<06:43,  6.69it/s]"
     ]
    },
    {
     "name": "stdout",
     "output_type": "stream",
     "text": [
      "6300 6300\n"
     ]
    },
    {
     "name": "stderr",
     "output_type": "stream",
     "text": [
      " 71%|███████   | 6401/9000 [17:26<06:19,  6.86it/s]"
     ]
    },
    {
     "name": "stdout",
     "output_type": "stream",
     "text": [
      "6400 6400\n"
     ]
    },
    {
     "name": "stderr",
     "output_type": "stream",
     "text": [
      " 72%|███████▏  | 6501/9000 [17:42<06:32,  6.37it/s]"
     ]
    },
    {
     "name": "stdout",
     "output_type": "stream",
     "text": [
      "6500 6500\n"
     ]
    },
    {
     "name": "stderr",
     "output_type": "stream",
     "text": [
      " 73%|███████▎  | 6601/9000 [17:58<06:36,  6.05it/s]"
     ]
    },
    {
     "name": "stdout",
     "output_type": "stream",
     "text": [
      "6600 6600\n"
     ]
    },
    {
     "name": "stderr",
     "output_type": "stream",
     "text": [
      " 74%|███████▍  | 6701/9000 [18:16<05:46,  6.63it/s]"
     ]
    },
    {
     "name": "stdout",
     "output_type": "stream",
     "text": [
      "6700 6700\n"
     ]
    },
    {
     "name": "stderr",
     "output_type": "stream",
     "text": [
      " 76%|███████▌  | 6801/9000 [18:32<06:12,  5.91it/s]"
     ]
    },
    {
     "name": "stdout",
     "output_type": "stream",
     "text": [
      "6800 6800\n"
     ]
    },
    {
     "name": "stderr",
     "output_type": "stream",
     "text": [
      " 77%|███████▋  | 6901/9000 [18:48<05:08,  6.81it/s]"
     ]
    },
    {
     "name": "stdout",
     "output_type": "stream",
     "text": [
      "6900 6900\n"
     ]
    },
    {
     "name": "stderr",
     "output_type": "stream",
     "text": [
      " 78%|███████▊  | 7001/9000 [19:05<05:32,  6.02it/s]"
     ]
    },
    {
     "name": "stdout",
     "output_type": "stream",
     "text": [
      "7000 7000\n"
     ]
    },
    {
     "name": "stderr",
     "output_type": "stream",
     "text": [
      " 79%|███████▉  | 7101/9000 [19:21<04:22,  7.23it/s]"
     ]
    },
    {
     "name": "stdout",
     "output_type": "stream",
     "text": [
      "7100 7100\n"
     ]
    },
    {
     "name": "stderr",
     "output_type": "stream",
     "text": [
      " 80%|████████  | 7201/9000 [19:37<04:46,  6.28it/s]"
     ]
    },
    {
     "name": "stdout",
     "output_type": "stream",
     "text": [
      "7200 7200\n"
     ]
    },
    {
     "name": "stderr",
     "output_type": "stream",
     "text": [
      " 81%|████████  | 7301/9000 [19:53<04:37,  6.12it/s]"
     ]
    },
    {
     "name": "stdout",
     "output_type": "stream",
     "text": [
      "7300 7300\n"
     ]
    },
    {
     "name": "stderr",
     "output_type": "stream",
     "text": [
      " 82%|████████▏ | 7401/9000 [20:09<04:03,  6.57it/s]"
     ]
    },
    {
     "name": "stdout",
     "output_type": "stream",
     "text": [
      "7400 7400\n"
     ]
    },
    {
     "name": "stderr",
     "output_type": "stream",
     "text": [
      " 83%|████████▎ | 7501/9000 [20:25<03:55,  6.37it/s]"
     ]
    },
    {
     "name": "stdout",
     "output_type": "stream",
     "text": [
      "7500 7500\n"
     ]
    },
    {
     "name": "stderr",
     "output_type": "stream",
     "text": [
      " 84%|████████▍ | 7601/9000 [20:42<03:53,  6.00it/s]"
     ]
    },
    {
     "name": "stdout",
     "output_type": "stream",
     "text": [
      "7600 7600\n"
     ]
    },
    {
     "name": "stderr",
     "output_type": "stream",
     "text": [
      " 86%|████████▌ | 7701/9000 [20:59<03:19,  6.51it/s]"
     ]
    },
    {
     "name": "stdout",
     "output_type": "stream",
     "text": [
      "7700 7700\n"
     ]
    },
    {
     "name": "stderr",
     "output_type": "stream",
     "text": [
      " 87%|████████▋ | 7801/9000 [21:16<03:39,  5.45it/s]"
     ]
    },
    {
     "name": "stdout",
     "output_type": "stream",
     "text": [
      "7800 7800\n"
     ]
    },
    {
     "name": "stderr",
     "output_type": "stream",
     "text": [
      " 88%|████████▊ | 7901/9000 [21:33<03:01,  6.07it/s]"
     ]
    },
    {
     "name": "stdout",
     "output_type": "stream",
     "text": [
      "7900 7900\n"
     ]
    },
    {
     "name": "stderr",
     "output_type": "stream",
     "text": [
      " 89%|████████▉ | 8000/9000 [21:49<02:58,  5.59it/s]"
     ]
    },
    {
     "name": "stdout",
     "output_type": "stream",
     "text": [
      "8000 8000\n"
     ]
    },
    {
     "name": "stderr",
     "output_type": "stream",
     "text": [
      " 90%|█████████ | 8101/9000 [22:05<02:15,  6.64it/s]"
     ]
    },
    {
     "name": "stdout",
     "output_type": "stream",
     "text": [
      "8100 8100\n"
     ]
    },
    {
     "name": "stderr",
     "output_type": "stream",
     "text": [
      " 91%|█████████ | 8201/9000 [22:21<02:04,  6.43it/s]"
     ]
    },
    {
     "name": "stdout",
     "output_type": "stream",
     "text": [
      "8200 8200\n"
     ]
    },
    {
     "name": "stderr",
     "output_type": "stream",
     "text": [
      " 92%|█████████▏| 8301/9000 [22:38<02:08,  5.43it/s]"
     ]
    },
    {
     "name": "stdout",
     "output_type": "stream",
     "text": [
      "8300 8300\n"
     ]
    },
    {
     "name": "stderr",
     "output_type": "stream",
     "text": [
      " 93%|█████████▎| 8401/9000 [22:55<01:29,  6.69it/s]"
     ]
    },
    {
     "name": "stdout",
     "output_type": "stream",
     "text": [
      "8400 8400\n"
     ]
    },
    {
     "name": "stderr",
     "output_type": "stream",
     "text": [
      " 94%|█████████▍| 8501/9000 [23:13<01:23,  6.00it/s]"
     ]
    },
    {
     "name": "stdout",
     "output_type": "stream",
     "text": [
      "8500 8500\n"
     ]
    },
    {
     "name": "stderr",
     "output_type": "stream",
     "text": [
      " 96%|█████████▌| 8601/9000 [23:30<01:10,  5.66it/s]"
     ]
    },
    {
     "name": "stdout",
     "output_type": "stream",
     "text": [
      "8600 8600\n"
     ]
    },
    {
     "name": "stderr",
     "output_type": "stream",
     "text": [
      " 97%|█████████▋| 8700/9000 [23:46<00:44,  6.76it/s]"
     ]
    },
    {
     "name": "stdout",
     "output_type": "stream",
     "text": [
      "8700 8700\n"
     ]
    },
    {
     "name": "stderr",
     "output_type": "stream",
     "text": [
      " 98%|█████████▊| 8801/9000 [24:02<00:39,  5.09it/s]"
     ]
    },
    {
     "name": "stdout",
     "output_type": "stream",
     "text": [
      "8800 8800\n"
     ]
    },
    {
     "name": "stderr",
     "output_type": "stream",
     "text": [
      " 99%|█████████▉| 8901/9000 [24:19<00:16,  6.17it/s]"
     ]
    },
    {
     "name": "stdout",
     "output_type": "stream",
     "text": [
      "8900 8900\n"
     ]
    },
    {
     "name": "stderr",
     "output_type": "stream",
     "text": [
      "100%|██████████| 9000/9000 [24:35<00:00,  5.80it/s]"
     ]
    },
    {
     "name": "stdout",
     "output_type": "stream",
     "text": [
      "9000 9000\n"
     ]
    },
    {
     "ename": "KeyboardInterrupt",
     "evalue": "",
     "output_type": "error",
     "traceback": [
      "\u001b[0;31m---------------------------------------------------------------------------\u001b[0m",
      "\u001b[0;31mKeyboardInterrupt\u001b[0m                         Traceback (most recent call last)",
      "\u001b[0;32m<ipython-input-74-12a757828b92>\u001b[0m in \u001b[0;36m<module>\u001b[0;34m\u001b[0m\n\u001b[1;32m      1\u001b[0m \u001b[0mt_1\u001b[0m \u001b[0;34m=\u001b[0m \u001b[0;34m[\u001b[0m\u001b[0;34m]\u001b[0m\u001b[0;34m\u001b[0m\u001b[0;34m\u001b[0m\u001b[0m\n\u001b[1;32m      2\u001b[0m \u001b[0mt_2\u001b[0m \u001b[0;34m=\u001b[0m \u001b[0;34m[\u001b[0m\u001b[0;34m]\u001b[0m\u001b[0;34m\u001b[0m\u001b[0;34m\u001b[0m\u001b[0m\n\u001b[0;32m----> 3\u001b[0;31m \u001b[0;32mfor\u001b[0m \u001b[0mi\u001b[0m \u001b[0;32min\u001b[0m \u001b[0mtqdm\u001b[0m\u001b[0;34m(\u001b[0m\u001b[0mrange\u001b[0m\u001b[0;34m(\u001b[0m\u001b[0mlen\u001b[0m\u001b[0;34m(\u001b[0m\u001b[0mdf\u001b[0m\u001b[0;34m)\u001b[0m\u001b[0;34m)\u001b[0m\u001b[0;34m)\u001b[0m\u001b[0;34m:\u001b[0m\u001b[0;34m\u001b[0m\u001b[0;34m\u001b[0m\u001b[0m\n\u001b[0m\u001b[1;32m      4\u001b[0m     \u001b[0me1\u001b[0m \u001b[0;34m=\u001b[0m \u001b[0mdf\u001b[0m\u001b[0;34m[\u001b[0m\u001b[0;34m'2'\u001b[0m\u001b[0;34m]\u001b[0m\u001b[0;34m[\u001b[0m\u001b[0mi\u001b[0m\u001b[0;34m]\u001b[0m\u001b[0;34m\u001b[0m\u001b[0;34m\u001b[0m\u001b[0m\n\u001b[1;32m      5\u001b[0m     \u001b[0me2\u001b[0m \u001b[0;34m=\u001b[0m \u001b[0mdf\u001b[0m\u001b[0;34m[\u001b[0m\u001b[0;34m'5'\u001b[0m\u001b[0;34m]\u001b[0m\u001b[0;34m[\u001b[0m\u001b[0mi\u001b[0m\u001b[0;34m]\u001b[0m\u001b[0;34m\u001b[0m\u001b[0;34m\u001b[0m\u001b[0m\n",
      "\u001b[0;32m/opt/conda/lib/python3.7/site-packages/tqdm/std.py\u001b[0m in \u001b[0;36m__iter__\u001b[0;34m(self)\u001b[0m\n\u001b[1;32m   1180\u001b[0m             \u001b[0mself\u001b[0m\u001b[0;34m.\u001b[0m\u001b[0mn\u001b[0m \u001b[0;34m=\u001b[0m \u001b[0mn\u001b[0m\u001b[0;34m\u001b[0m\u001b[0;34m\u001b[0m\u001b[0m\n\u001b[1;32m   1181\u001b[0m             \u001b[0mself\u001b[0m\u001b[0;34m.\u001b[0m\u001b[0mminiters\u001b[0m \u001b[0;34m=\u001b[0m \u001b[0mminiters\u001b[0m\u001b[0;34m\u001b[0m\u001b[0;34m\u001b[0m\u001b[0m\n\u001b[0;32m-> 1182\u001b[0;31m             \u001b[0mself\u001b[0m\u001b[0;34m.\u001b[0m\u001b[0mclose\u001b[0m\u001b[0;34m(\u001b[0m\u001b[0;34m)\u001b[0m\u001b[0;34m\u001b[0m\u001b[0;34m\u001b[0m\u001b[0m\n\u001b[0m\u001b[1;32m   1183\u001b[0m \u001b[0;34m\u001b[0m\u001b[0m\n\u001b[1;32m   1184\u001b[0m     \u001b[0;32mdef\u001b[0m \u001b[0mupdate\u001b[0m\u001b[0;34m(\u001b[0m\u001b[0mself\u001b[0m\u001b[0;34m,\u001b[0m \u001b[0mn\u001b[0m\u001b[0;34m=\u001b[0m\u001b[0;36m1\u001b[0m\u001b[0;34m)\u001b[0m\u001b[0;34m:\u001b[0m\u001b[0;34m\u001b[0m\u001b[0;34m\u001b[0m\u001b[0m\n",
      "\u001b[0;32m/opt/conda/lib/python3.7/site-packages/tqdm/std.py\u001b[0m in \u001b[0;36mclose\u001b[0;34m(self)\u001b[0m\n\u001b[1;32m   1268\u001b[0m         \u001b[0;31m# decrement instance pos and remove from internal set\u001b[0m\u001b[0;34m\u001b[0m\u001b[0;34m\u001b[0m\u001b[0;34m\u001b[0m\u001b[0m\n\u001b[1;32m   1269\u001b[0m         \u001b[0mpos\u001b[0m \u001b[0;34m=\u001b[0m \u001b[0mabs\u001b[0m\u001b[0;34m(\u001b[0m\u001b[0mself\u001b[0m\u001b[0;34m.\u001b[0m\u001b[0mpos\u001b[0m\u001b[0;34m)\u001b[0m\u001b[0;34m\u001b[0m\u001b[0;34m\u001b[0m\u001b[0m\n\u001b[0;32m-> 1270\u001b[0;31m         \u001b[0mself\u001b[0m\u001b[0;34m.\u001b[0m\u001b[0m_decr_instances\u001b[0m\u001b[0;34m(\u001b[0m\u001b[0mself\u001b[0m\u001b[0;34m)\u001b[0m\u001b[0;34m\u001b[0m\u001b[0;34m\u001b[0m\u001b[0m\n\u001b[0m\u001b[1;32m   1271\u001b[0m \u001b[0;34m\u001b[0m\u001b[0m\n\u001b[1;32m   1272\u001b[0m         \u001b[0;31m# GUI mode\u001b[0m\u001b[0;34m\u001b[0m\u001b[0;34m\u001b[0m\u001b[0;34m\u001b[0m\u001b[0m\n",
      "\u001b[0;32m/opt/conda/lib/python3.7/site-packages/tqdm/std.py\u001b[0m in \u001b[0;36m_decr_instances\u001b[0;34m(cls, instance)\u001b[0m\n\u001b[1;32m    570\u001b[0m             \u001b[0;32mif\u001b[0m \u001b[0;32mnot\u001b[0m \u001b[0mcls\u001b[0m\u001b[0;34m.\u001b[0m\u001b[0m_instances\u001b[0m \u001b[0;32mand\u001b[0m \u001b[0mcls\u001b[0m\u001b[0;34m.\u001b[0m\u001b[0mmonitor\u001b[0m\u001b[0;34m:\u001b[0m\u001b[0;34m\u001b[0m\u001b[0;34m\u001b[0m\u001b[0m\n\u001b[1;32m    571\u001b[0m                 \u001b[0;32mtry\u001b[0m\u001b[0;34m:\u001b[0m\u001b[0;34m\u001b[0m\u001b[0;34m\u001b[0m\u001b[0m\n\u001b[0;32m--> 572\u001b[0;31m                     \u001b[0mcls\u001b[0m\u001b[0;34m.\u001b[0m\u001b[0mmonitor\u001b[0m\u001b[0;34m.\u001b[0m\u001b[0mexit\u001b[0m\u001b[0;34m(\u001b[0m\u001b[0;34m)\u001b[0m\u001b[0;34m\u001b[0m\u001b[0;34m\u001b[0m\u001b[0m\n\u001b[0m\u001b[1;32m    573\u001b[0m                     \u001b[0;32mdel\u001b[0m \u001b[0mcls\u001b[0m\u001b[0;34m.\u001b[0m\u001b[0mmonitor\u001b[0m\u001b[0;34m\u001b[0m\u001b[0;34m\u001b[0m\u001b[0m\n\u001b[1;32m    574\u001b[0m                 \u001b[0;32mexcept\u001b[0m \u001b[0mAttributeError\u001b[0m\u001b[0;34m:\u001b[0m  \u001b[0;31m# pragma: nocover\u001b[0m\u001b[0;34m\u001b[0m\u001b[0;34m\u001b[0m\u001b[0m\n",
      "\u001b[0;32m/opt/conda/lib/python3.7/site-packages/tqdm/_monitor.py\u001b[0m in \u001b[0;36mexit\u001b[0;34m(self)\u001b[0m\n\u001b[1;32m     51\u001b[0m         \u001b[0mself\u001b[0m\u001b[0;34m.\u001b[0m\u001b[0mwas_killed\u001b[0m\u001b[0;34m.\u001b[0m\u001b[0mset\u001b[0m\u001b[0;34m(\u001b[0m\u001b[0;34m)\u001b[0m\u001b[0;34m\u001b[0m\u001b[0;34m\u001b[0m\u001b[0m\n\u001b[1;32m     52\u001b[0m         \u001b[0;32mif\u001b[0m \u001b[0mself\u001b[0m \u001b[0;32mis\u001b[0m \u001b[0;32mnot\u001b[0m \u001b[0mcurrent_thread\u001b[0m\u001b[0;34m(\u001b[0m\u001b[0;34m)\u001b[0m\u001b[0;34m:\u001b[0m\u001b[0;34m\u001b[0m\u001b[0;34m\u001b[0m\u001b[0m\n\u001b[0;32m---> 53\u001b[0;31m             \u001b[0mself\u001b[0m\u001b[0;34m.\u001b[0m\u001b[0mjoin\u001b[0m\u001b[0;34m(\u001b[0m\u001b[0;34m)\u001b[0m\u001b[0;34m\u001b[0m\u001b[0;34m\u001b[0m\u001b[0m\n\u001b[0m\u001b[1;32m     54\u001b[0m         \u001b[0;32mreturn\u001b[0m \u001b[0mself\u001b[0m\u001b[0;34m.\u001b[0m\u001b[0mreport\u001b[0m\u001b[0;34m(\u001b[0m\u001b[0;34m)\u001b[0m\u001b[0;34m\u001b[0m\u001b[0;34m\u001b[0m\u001b[0m\n\u001b[1;32m     55\u001b[0m \u001b[0;34m\u001b[0m\u001b[0m\n",
      "\u001b[0;32m/opt/conda/lib/python3.7/threading.py\u001b[0m in \u001b[0;36mjoin\u001b[0;34m(self, timeout)\u001b[0m\n\u001b[1;32m   1042\u001b[0m \u001b[0;34m\u001b[0m\u001b[0m\n\u001b[1;32m   1043\u001b[0m         \u001b[0;32mif\u001b[0m \u001b[0mtimeout\u001b[0m \u001b[0;32mis\u001b[0m \u001b[0;32mNone\u001b[0m\u001b[0;34m:\u001b[0m\u001b[0;34m\u001b[0m\u001b[0;34m\u001b[0m\u001b[0m\n\u001b[0;32m-> 1044\u001b[0;31m             \u001b[0mself\u001b[0m\u001b[0;34m.\u001b[0m\u001b[0m_wait_for_tstate_lock\u001b[0m\u001b[0;34m(\u001b[0m\u001b[0;34m)\u001b[0m\u001b[0;34m\u001b[0m\u001b[0;34m\u001b[0m\u001b[0m\n\u001b[0m\u001b[1;32m   1045\u001b[0m         \u001b[0;32melse\u001b[0m\u001b[0;34m:\u001b[0m\u001b[0;34m\u001b[0m\u001b[0;34m\u001b[0m\u001b[0m\n\u001b[1;32m   1046\u001b[0m             \u001b[0;31m# the behavior of a negative timeout isn't documented, but\u001b[0m\u001b[0;34m\u001b[0m\u001b[0;34m\u001b[0m\u001b[0;34m\u001b[0m\u001b[0m\n",
      "\u001b[0;32m/opt/conda/lib/python3.7/threading.py\u001b[0m in \u001b[0;36m_wait_for_tstate_lock\u001b[0;34m(self, block, timeout)\u001b[0m\n\u001b[1;32m   1058\u001b[0m         \u001b[0;32mif\u001b[0m \u001b[0mlock\u001b[0m \u001b[0;32mis\u001b[0m \u001b[0;32mNone\u001b[0m\u001b[0;34m:\u001b[0m  \u001b[0;31m# already determined that the C code is done\u001b[0m\u001b[0;34m\u001b[0m\u001b[0;34m\u001b[0m\u001b[0m\n\u001b[1;32m   1059\u001b[0m             \u001b[0;32massert\u001b[0m \u001b[0mself\u001b[0m\u001b[0;34m.\u001b[0m\u001b[0m_is_stopped\u001b[0m\u001b[0;34m\u001b[0m\u001b[0;34m\u001b[0m\u001b[0m\n\u001b[0;32m-> 1060\u001b[0;31m         \u001b[0;32melif\u001b[0m \u001b[0mlock\u001b[0m\u001b[0;34m.\u001b[0m\u001b[0macquire\u001b[0m\u001b[0;34m(\u001b[0m\u001b[0mblock\u001b[0m\u001b[0;34m,\u001b[0m \u001b[0mtimeout\u001b[0m\u001b[0;34m)\u001b[0m\u001b[0;34m:\u001b[0m\u001b[0;34m\u001b[0m\u001b[0;34m\u001b[0m\u001b[0m\n\u001b[0m\u001b[1;32m   1061\u001b[0m             \u001b[0mlock\u001b[0m\u001b[0;34m.\u001b[0m\u001b[0mrelease\u001b[0m\u001b[0;34m(\u001b[0m\u001b[0;34m)\u001b[0m\u001b[0;34m\u001b[0m\u001b[0;34m\u001b[0m\u001b[0m\n\u001b[1;32m   1062\u001b[0m             \u001b[0mself\u001b[0m\u001b[0;34m.\u001b[0m\u001b[0m_stop\u001b[0m\u001b[0;34m(\u001b[0m\u001b[0;34m)\u001b[0m\u001b[0;34m\u001b[0m\u001b[0;34m\u001b[0m\u001b[0m\n",
      "\u001b[0;31mKeyboardInterrupt\u001b[0m: "
     ]
    }
   ],
   "source": [
    "t_1 = []\n",
    "t_2 = []\n",
    "for i in tqdm(range(len(df))):\n",
    "    e1 = df['2'][i]\n",
    "    e2 = df['5'][i]\n",
    "    t_1.append(translate(e1))\n",
    "    t_2.append(translate(e2))\n",
    "    \n",
    "    if len(t_1) % 100 == 0:\n",
    "        print(len(t_1), len(t_2))"
   ]
  },
  {
   "cell_type": "code",
   "execution_count": 86,
   "metadata": {},
   "outputs": [],
   "source": [
    "df['10'] = df['9'].apply(lambda x: x.lower())"
   ]
  },
  {
   "cell_type": "code",
   "execution_count": 87,
   "metadata": {},
   "outputs": [],
   "source": [
    "df_copy = df.copy()\n",
    "df_copy['1'] = df_copy['10']\n",
    "df_copy['2'] = list(map(lambda x: x.lower(), t_1))\n",
    "df_copy['5'] = list(map(lambda x: x.lower(), t_2))\n",
    "df_train, df_valid = train_test_split(df_copy, test_size=0.1, random_state=42)\n",
    "df_train.to_csv('../input/data/train/train_translated.tsv', sep='\\t', header=None, index=None)\n",
    "df_valid.to_csv('../input/data/train/valid_translated.tsv', sep='\\t', header=None, index=None)"
   ]
  },
  {
   "cell_type": "code",
   "execution_count": 88,
   "metadata": {},
   "outputs": [
    {
     "name": "stdout",
     "output_type": "stream",
     "text": [
      "2021-04-22 00:52:53.143581: W tensorflow/stream_executor/platform/default/dso_loader.cc:60] Could not load dynamic library 'libcudart.so.11.0'; dlerror: libcudart.so.11.0: cannot open shared object file: No such file or directory; LD_LIBRARY_PATH: /usr/local/nvidia/lib:/usr/local/nvidia/lib64\n",
      "2021-04-22 00:52:53.143617: I tensorflow/stream_executor/cuda/cudart_stub.cc:29] Ignore above cudart dlerror if you do not have a GPU set up on your machine.\n",
      "Some weights of the model checkpoint at bert-base-multilingual-cased were not used when initializing BertForSequenceClassification: ['cls.predictions.bias', 'cls.predictions.transform.dense.weight', 'cls.predictions.transform.dense.bias', 'cls.predictions.decoder.weight', 'cls.seq_relationship.weight', 'cls.seq_relationship.bias', 'cls.predictions.transform.LayerNorm.weight', 'cls.predictions.transform.LayerNorm.bias']\n",
      "- This IS expected if you are initializing BertForSequenceClassification from the checkpoint of a model trained on another task or with another architecture (e.g. initializing a BertForSequenceClassification model from a BertForPreTraining model).\n",
      "- This IS NOT expected if you are initializing BertForSequenceClassification from the checkpoint of a model that you expect to be exactly identical (initializing a BertForSequenceClassification model from a BertForSequenceClassification model).\n",
      "Some weights of BertForSequenceClassification were not initialized from the model checkpoint at bert-base-multilingual-cased and are newly initialized: ['classifier.weight', 'classifier.bias']\n",
      "You should probably TRAIN this model on a down-stream task to be able to use it for predictions and inference.\n",
      "huggingface/tokenizers: The current process just got forked, after parallelism has already been used. Disabling parallelism to avoid deadlocks...\n",
      "To disable this warning, you can either:\n",
      "\t- Avoid using `tokenizers` before the fork if possible\n",
      "\t- Explicitly set the environment variable TOKENIZERS_PARALLELISM=(true | false)\n",
      "huggingface/tokenizers: The current process just got forked, after parallelism has already been used. Disabling parallelism to avoid deadlocks...\n",
      "To disable this warning, you can either:\n",
      "\t- Avoid using `tokenizers` before the fork if possible\n",
      "\t- Explicitly set the environment variable TOKENIZERS_PARALLELISM=(true | false)\n",
      "huggingface/tokenizers: The current process just got forked, after parallelism has already been used. Disabling parallelism to avoid deadlocks...\n",
      "To disable this warning, you can either:\n",
      "\t- Avoid using `tokenizers` before the fork if possible\n",
      "\t- Explicitly set the environment variable TOKENIZERS_PARALLELISM=(true | false)\n",
      "Start Training.\n",
      "\u001b[34m\u001b[1mwandb\u001b[0m: Currently logged in as: \u001b[33mseungwoo-h\u001b[0m (use `wandb login --relogin` to force relogin)\n",
      "huggingface/tokenizers: The current process just got forked, after parallelism has already been used. Disabling parallelism to avoid deadlocks...\n",
      "To disable this warning, you can either:\n",
      "\t- Avoid using `tokenizers` before the fork if possible\n",
      "\t- Explicitly set the environment variable TOKENIZERS_PARALLELISM=(true | false)\n",
      "huggingface/tokenizers: The current process just got forked, after parallelism has already been used. Disabling parallelism to avoid deadlocks...\n",
      "To disable this warning, you can either:\n",
      "\t- Avoid using `tokenizers` before the fork if possible\n",
      "\t- Explicitly set the environment variable TOKENIZERS_PARALLELISM=(true | false)\n",
      "\u001b[34m\u001b[1mwandb\u001b[0m: wandb version 0.10.27 is available!  To upgrade, please run:\n",
      "\u001b[34m\u001b[1mwandb\u001b[0m:  $ pip install wandb --upgrade\n",
      "2021-04-22 00:53:13.717391: W tensorflow/stream_executor/platform/default/dso_loader.cc:60] Could not load dynamic library 'libcudart.so.11.0'; dlerror: libcudart.so.11.0: cannot open shared object file: No such file or directory; LD_LIBRARY_PATH: /usr/local/nvidia/lib:/usr/local/nvidia/lib64\n",
      "2021-04-22 00:53:13.717435: I tensorflow/stream_executor/cuda/cudart_stub.cc:29] Ignore above cudart dlerror if you do not have a GPU set up on your machine.\n",
      "\u001b[34m\u001b[1mwandb\u001b[0m: Tracking run with wandb version 0.10.26\n",
      "\u001b[34m\u001b[1mwandb\u001b[0m: Syncing run \u001b[33m./results/0422_1\u001b[0m\n",
      "\u001b[34m\u001b[1mwandb\u001b[0m: ⭐️ View project at \u001b[34m\u001b[4mhttps://wandb.ai/seungwoo-h/KLUE_PROJECT\u001b[0m\n",
      "\u001b[34m\u001b[1mwandb\u001b[0m: 🚀 View run at \u001b[34m\u001b[4mhttps://wandb.ai/seungwoo-h/KLUE_PROJECT/runs/3ctu63h9\u001b[0m\n",
      "\u001b[34m\u001b[1mwandb\u001b[0m: Run data is saved locally in /opt/ml/code_3/wandb/run-20210422_005312-3ctu63h9\n",
      "\u001b[34m\u001b[1mwandb\u001b[0m: Run `wandb offline` to turn off syncing.\n",
      "\n",
      "{'loss': 2.7017, 'learning_rate': 3.3333333333333335e-05, 'epoch': 0.39}        \n",
      "{'loss': 1.9344, 'learning_rate': 4.9900990099009906e-05, 'epoch': 0.79}        \n",
      "  1%|▎                                    | 253/25400 [00:52<1:25:25,  4.91it/s]\n",
      "  0%|                                                    | 0/57 [00:00<?, ?it/s]\u001b[A\n",
      "  9%|███▊                                        | 5/57 [00:00<00:01, 40.61it/s]\u001b[A\n",
      " 16%|██████▉                                     | 9/57 [00:00<00:01, 37.82it/s]\u001b[A\n",
      " 23%|█████████▊                                 | 13/57 [00:00<00:01, 36.06it/s]\u001b[A\n",
      " 30%|████████████▊                              | 17/57 [00:00<00:01, 34.92it/s]\u001b[A\n",
      " 37%|███████████████▊                           | 21/57 [00:00<00:01, 34.19it/s]\u001b[A\n",
      " 44%|██████████████████▊                        | 25/57 [00:00<00:00, 33.67it/s]\u001b[A\n",
      " 51%|█████████████████████▉                     | 29/57 [00:00<00:00, 33.35it/s]\u001b[A\n",
      " 58%|████████████████████████▉                  | 33/57 [00:00<00:00, 33.10it/s]\u001b[A\n",
      " 65%|███████████████████████████▉               | 37/57 [00:01<00:00, 32.92it/s]\u001b[A\n",
      " 72%|██████████████████████████████▉            | 41/57 [00:01<00:00, 32.76it/s]\u001b[A\n",
      " 79%|█████████████████████████████████▉         | 45/57 [00:01<00:00, 32.71it/s]\u001b[A\n",
      " 86%|████████████████████████████████████▉      | 49/57 [00:01<00:00, 32.62it/s]\u001b[A\n",
      " 93%|███████████████████████████████████████▉   | 53/57 [00:01<00:00, 32.50it/s]\u001b[A\n",
      "                                                                                \u001b[A\n",
      "{'eval_loss': 1.489915370941162, 'eval_accuracy': 0.6122222222222222, 'eval_runtime': 1.7397, 'eval_samples_per_second': 517.32, 'epoch': 1.0}\n",
      "  1%|▎                                    | 254/25400 [00:53<1:25:25,  4.91it/s]\n",
      "100%|███████████████████████████████████████████| 57/57 [00:01<00:00, 32.49it/s]\u001b[A\n",
      "{'loss': 1.5623, 'learning_rate': 4.970297029702971e-05, 'epoch': 1.18}         \u001b[A\n",
      "{'loss': 1.2967, 'learning_rate': 4.950495049504951e-05, 'epoch': 1.57}         \n",
      "{'loss': 1.2181, 'learning_rate': 4.930693069306931e-05, 'epoch': 1.97}         \n",
      "  2%|▋                                    | 507/25400 [01:52<1:26:18,  4.81it/s]\n",
      "  0%|                                                    | 0/57 [00:00<?, ?it/s]\u001b[A\n",
      "  9%|███▊                                        | 5/57 [00:00<00:01, 40.65it/s]\u001b[A\n",
      " 16%|██████▉                                     | 9/57 [00:00<00:01, 37.79it/s]\u001b[A\n",
      " 23%|█████████▊                                 | 13/57 [00:00<00:01, 36.01it/s]\u001b[A\n",
      " 30%|████████████▊                              | 17/57 [00:00<00:01, 35.03it/s]\u001b[A\n",
      " 37%|███████████████▊                           | 21/57 [00:00<00:01, 34.21it/s]\u001b[A\n",
      " 44%|██████████████████▊                        | 25/57 [00:00<00:00, 33.66it/s]\u001b[A\n",
      " 51%|█████████████████████▉                     | 29/57 [00:00<00:00, 33.26it/s]\u001b[A\n",
      " 58%|████████████████████████▉                  | 33/57 [00:00<00:00, 33.06it/s]\u001b[A\n",
      " 65%|███████████████████████████▉               | 37/57 [00:01<00:00, 32.95it/s]\u001b[A\n",
      " 72%|██████████████████████████████▉            | 41/57 [00:01<00:00, 32.78it/s]\u001b[A\n",
      " 79%|█████████████████████████████████▉         | 45/57 [00:01<00:00, 32.77it/s]\u001b[A\n",
      " 86%|████████████████████████████████████▉      | 49/57 [00:01<00:00, 32.64it/s]\u001b[A\n",
      " 93%|███████████████████████████████████████▉   | 53/57 [00:01<00:00, 32.54it/s]\u001b[A\n",
      "100%|███████████████████████████████████████████| 57/57 [00:01<00:00, 32.53it/s]\u001b[A{'eval_loss': 1.202411413192749, 'eval_accuracy': 0.6433333333333333, 'eval_runtime': 1.7385, 'eval_samples_per_second': 517.689, 'epoch': 2.0}\n",
      "                                                                                \n",
      "  2%|▋                                    | 508/25400 [01:54<1:26:18,  4.81it/s]\n",
      "100%|███████████████████████████████████████████| 57/57 [00:01<00:00, 32.53it/s]\u001b[A\n",
      "{'loss': 0.9781, 'learning_rate': 4.910891089108911e-05, 'epoch': 2.36}         \u001b[A\n",
      "{'loss': 0.9174, 'learning_rate': 4.891089108910891e-05, 'epoch': 2.76}         \n",
      "  3%|█                                    | 761/25400 [02:51<1:23:21,  4.93it/s]\n",
      "  0%|                                                    | 0/57 [00:00<?, ?it/s]\u001b[A\n",
      "  9%|███▊                                        | 5/57 [00:00<00:01, 40.60it/s]\u001b[A\n",
      " 16%|██████▉                                     | 9/57 [00:00<00:01, 37.76it/s]\u001b[A\n",
      " 23%|█████████▊                                 | 13/57 [00:00<00:01, 36.04it/s]\u001b[A\n",
      " 30%|████████████▊                              | 17/57 [00:00<00:01, 34.90it/s]\u001b[A\n",
      " 37%|███████████████▊                           | 21/57 [00:00<00:01, 34.14it/s]\u001b[A\n",
      " 44%|██████████████████▊                        | 25/57 [00:00<00:00, 33.60it/s]\u001b[A\n",
      " 51%|█████████████████████▉                     | 29/57 [00:00<00:00, 33.22it/s]\u001b[A\n",
      " 58%|████████████████████████▉                  | 33/57 [00:00<00:00, 32.99it/s]\u001b[A\n",
      " 65%|███████████████████████████▉               | 37/57 [00:01<00:00, 32.82it/s]\u001b[A\n",
      " 72%|██████████████████████████████▉            | 41/57 [00:01<00:00, 32.44it/s]\u001b[A\n",
      " 79%|█████████████████████████████████▉         | 45/57 [00:01<00:00, 32.38it/s]\u001b[A\n",
      " 86%|████████████████████████████████████▉      | 49/57 [00:01<00:00, 32.38it/s]\u001b[A\n",
      " 93%|███████████████████████████████████████▉   | 53/57 [00:01<00:00, 32.35it/s]\u001b[A\n",
      "                                                                                \u001b[A\n",
      "  3%|█                                    | 762/25400 [02:53<1:23:21,  4.93it/s]\n",
      "100%|███████████████████████████████████████████| 57/57 [00:01<00:00, 32.60it/s]\u001b[A\n",
      "                                                                                \u001b[A{'eval_loss': 1.1387155055999756, 'eval_accuracy': 0.6488888888888888, 'eval_runtime': 1.7436, 'eval_samples_per_second': 516.181, 'epoch': 3.0}\n",
      "  3%|█▏                                   | 800/25400 [03:07<1:41:59,  4.02it/s]{'loss': 0.8041, 'learning_rate': 4.871287128712871e-05, 'epoch': 3.15}\n",
      "  4%|█▎                                   | 900/25400 [03:27<1:49:33,  3.73it/s]{'loss': 0.6831, 'learning_rate': 4.851485148514851e-05, 'epoch': 3.54}\n",
      "{'loss': 0.6988, 'learning_rate': 4.831683168316832e-05, 'epoch': 3.94}         \n",
      "  4%|█▍                                  | 1015/25400 [03:51<1:22:25,  4.93it/s]\n",
      "  0%|                                                    | 0/57 [00:00<?, ?it/s]\u001b[A\n",
      "  9%|███▊                                        | 5/57 [00:00<00:01, 40.69it/s]\u001b[A\n",
      " 16%|██████▉                                     | 9/57 [00:00<00:01, 37.81it/s]\u001b[A\n",
      " 23%|█████████▊                                 | 13/57 [00:00<00:01, 36.03it/s]\u001b[A\n",
      " 30%|████████████▊                              | 17/57 [00:00<00:01, 34.88it/s]\u001b[A\n",
      " 37%|███████████████▊                           | 21/57 [00:00<00:01, 34.14it/s]\u001b[A\n",
      " 44%|██████████████████▊                        | 25/57 [00:00<00:00, 33.54it/s]\u001b[A\n",
      " 51%|█████████████████████▉                     | 29/57 [00:00<00:00, 33.18it/s]\u001b[A\n",
      " 58%|████████████████████████▉                  | 33/57 [00:00<00:00, 32.93it/s]\u001b[A\n",
      " 65%|███████████████████████████▉               | 37/57 [00:01<00:00, 32.79it/s]\u001b[A\n",
      " 72%|██████████████████████████████▉            | 41/57 [00:01<00:00, 32.64it/s]\u001b[A\n",
      " 79%|█████████████████████████████████▉         | 45/57 [00:01<00:00, 32.56it/s]\u001b[A\n",
      " 86%|████████████████████████████████████▉      | 49/57 [00:01<00:00, 32.55it/s]\u001b[A\n",
      " 93%|███████████████████████████████████████▉   | 53/57 [00:01<00:00, 32.52it/s]\u001b[A\n",
      "{'eval_loss': 1.1459654569625854, 'eval_accuracy': 0.6577777777777778, 'eval_runtime': 1.7431, 'eval_samples_per_second': 516.322, 'epoch': 4.0}\n",
      "\n",
      "  4%|█▍                                  | 1016/25400 [03:53<1:22:25,  4.93it/s]\n",
      "100%|███████████████████████████████████████████| 57/57 [00:01<00:00, 32.49it/s]\u001b[A\n",
      "  4%|█▌                                  | 1100/25400 [04:16<1:42:21,  3.96it/s]{'loss': 0.5225, 'learning_rate': 4.811881188118812e-05, 'epoch': 4.33}\n",
      "                                                                                {'loss': 0.4878, 'learning_rate': 4.792079207920792e-05, 'epoch': 4.72}\n",
      "  5%|█▊                                  | 1269/25400 [04:51<1:22:29,  4.88it/s]\n",
      "  0%|                                                    | 0/57 [00:00<?, ?it/s]\u001b[A\n",
      "  9%|███▊                                        | 5/57 [00:00<00:01, 40.64it/s]\u001b[A\n",
      " 16%|██████▉                                     | 9/57 [00:00<00:01, 37.64it/s]\u001b[A\n",
      " 23%|█████████▊                                 | 13/57 [00:00<00:01, 35.84it/s]\u001b[A\n",
      " 30%|████████████▊                              | 17/57 [00:00<00:01, 34.79it/s]\u001b[A\n",
      " 37%|███████████████▊                           | 21/57 [00:00<00:01, 34.02it/s]\u001b[A\n",
      " 44%|██████████████████▊                        | 25/57 [00:00<00:00, 33.48it/s]\u001b[A\n",
      " 51%|█████████████████████▉                     | 29/57 [00:00<00:00, 33.13it/s]\u001b[A\n",
      " 58%|████████████████████████▉                  | 33/57 [00:00<00:00, 32.91it/s]\u001b[A\n",
      " 65%|███████████████████████████▉               | 37/57 [00:01<00:00, 32.68it/s]\u001b[A\n",
      " 72%|██████████████████████████████▉            | 41/57 [00:01<00:00, 32.62it/s]\u001b[A\n",
      " 79%|█████████████████████████████████▉         | 45/57 [00:01<00:00, 32.55it/s]\u001b[A\n",
      " 86%|████████████████████████████████████▉      | 49/57 [00:01<00:00, 32.62it/s]\u001b[A\n",
      " 93%|███████████████████████████████████████▉   | 53/57 [00:01<00:00, 32.57it/s]\u001b[A\n",
      "                                                                                \u001b[A\n",
      "\u001b[A{'eval_loss': 1.2133628129959106, 'eval_accuracy': 0.6677777777777778, 'eval_runtime': 1.7458, 'eval_samples_per_second': 515.533, 'epoch': 5.0}\n",
      "  5%|█▊                                  | 1270/25400 [04:53<1:22:29,  4.88it/s]\n",
      "100%|███████████████████████████████████████████| 57/57 [00:01<00:00, 32.47it/s]\u001b[A\n",
      "{'loss': 0.4916, 'learning_rate': 4.7722772277227724e-05, 'epoch': 5.12}        \u001b[A\n",
      "{'loss': 0.4072, 'learning_rate': 4.7524752475247525e-05, 'epoch': 5.51}        \n",
      "{'loss': 0.4192, 'learning_rate': 4.7326732673267326e-05, 'epoch': 5.91}        \n",
      "  6%|██▏                                 | 1523/25400 [05:52<1:21:23,  4.89it/s]\n",
      "  0%|                                                    | 0/57 [00:00<?, ?it/s]\u001b[A\n",
      "  9%|███▊                                        | 5/57 [00:00<00:01, 40.67it/s]\u001b[A\n",
      " 16%|██████▉                                     | 9/57 [00:00<00:01, 37.82it/s]\u001b[A\n",
      " 23%|█████████▊                                 | 13/57 [00:00<00:01, 35.96it/s]\u001b[A\n",
      " 30%|████████████▊                              | 17/57 [00:00<00:01, 34.81it/s]\u001b[A\n",
      " 37%|███████████████▊                           | 21/57 [00:00<00:01, 34.02it/s]\u001b[A\n",
      " 44%|██████████████████▊                        | 25/57 [00:00<00:00, 33.45it/s]\u001b[A\n",
      " 51%|█████████████████████▉                     | 29/57 [00:00<00:00, 33.03it/s]\u001b[A\n",
      " 58%|████████████████████████▉                  | 33/57 [00:00<00:00, 32.81it/s]\u001b[A\n",
      " 65%|███████████████████████████▉               | 37/57 [00:01<00:00, 32.71it/s]\u001b[A\n",
      " 72%|██████████████████████████████▉            | 41/57 [00:01<00:00, 32.53it/s]\u001b[A\n",
      " 79%|█████████████████████████████████▉         | 45/57 [00:01<00:00, 32.46it/s]\u001b[A\n",
      " 86%|████████████████████████████████████▉      | 49/57 [00:01<00:00, 32.42it/s]\u001b[A\n",
      " 93%|███████████████████████████████████████▉   | 53/57 [00:01<00:00, 32.45it/s]\u001b[A\n",
      "                                                                                \u001b[A\n",
      "\u001b[A{'eval_loss': 1.3025298118591309, 'eval_accuracy': 0.6611111111111111, 'eval_runtime': 1.7502, 'eval_samples_per_second': 514.232, 'epoch': 6.0}\n",
      "  6%|██▏                                 | 1524/25400 [05:54<1:21:22,  4.89it/s]\n",
      "100%|███████████████████████████████████████████| 57/57 [00:01<00:00, 32.38it/s]\u001b[A\n",
      "{'loss': 0.3227, 'learning_rate': 4.712871287128713e-05, 'epoch': 6.3}          \u001b[A\n",
      "  7%|██▍                                 | 1700/25400 [06:37<1:39:23,  3.97it/s]{'loss': 0.3241, 'learning_rate': 4.693069306930693e-05, 'epoch': 6.69}\n",
      "  7%|██▌                                 | 1777/25400 [06:53<1:20:21,  4.90it/s]\n",
      "  0%|                                                    | 0/57 [00:00<?, ?it/s]\u001b[A\n",
      "  9%|███▊                                        | 5/57 [00:00<00:01, 41.08it/s]\u001b[A\n",
      " 16%|██████▉                                     | 9/57 [00:00<00:01, 38.05it/s]\u001b[A\n",
      " 23%|█████████▊                                 | 13/57 [00:00<00:01, 36.18it/s]\u001b[A\n",
      " 30%|████████████▊                              | 17/57 [00:00<00:01, 34.86it/s]\u001b[A\n",
      " 37%|███████████████▊                           | 21/57 [00:00<00:01, 34.07it/s]\u001b[A\n",
      " 44%|██████████████████▊                        | 25/57 [00:00<00:00, 33.63it/s]\u001b[A\n",
      " 51%|█████████████████████▉                     | 29/57 [00:00<00:00, 33.27it/s]\u001b[A\n",
      " 58%|████████████████████████▉                  | 33/57 [00:00<00:00, 32.91it/s]\u001b[A\n",
      " 65%|███████████████████████████▉               | 37/57 [00:01<00:00, 32.78it/s]\u001b[A\n",
      " 72%|██████████████████████████████▉            | 41/57 [00:01<00:00, 32.70it/s]\u001b[A\n",
      " 79%|█████████████████████████████████▉         | 45/57 [00:01<00:00, 32.44it/s]\u001b[A\n",
      " 86%|████████████████████████████████████▉      | 49/57 [00:01<00:00, 32.46it/s]\u001b[A\n",
      " 93%|███████████████████████████████████████▉   | 53/57 [00:01<00:00, 32.46it/s]\u001b[A\n",
      "                                                                                \u001b[A\n",
      "\u001b[A{'eval_loss': 1.3627349138259888, 'eval_accuracy': 0.6711111111111111, 'eval_runtime': 1.747, 'eval_samples_per_second': 515.163, 'epoch': 7.0}\n",
      "  7%|██▌                                 | 1778/25400 [06:55<1:20:21,  4.90it/s]\n",
      "100%|███████████████████████████████████████████| 57/57 [00:01<00:00, 32.40it/s]\u001b[A\n",
      "  7%|██▌                                 | 1800/25400 [07:06<1:45:35,  3.73it/s]{'loss': 0.3082, 'learning_rate': 4.6732673267326736e-05, 'epoch': 7.09}\n",
      "  7%|██▋                                 | 1900/25400 [07:26<1:39:13,  3.95it/s]{'loss': 0.2422, 'learning_rate': 4.653465346534654e-05, 'epoch': 7.48}\n",
      "  8%|██▊                                 | 2000/25400 [07:47<1:38:17,  3.97it/s]{'loss': 0.2786, 'learning_rate': 4.6336633663366344e-05, 'epoch': 7.87}\n",
      "  8%|██▉                                 | 2031/25400 [07:53<1:18:55,  4.93it/s]\n",
      "  0%|                                                    | 0/57 [00:00<?, ?it/s]\u001b[A\n",
      "  9%|███▊                                        | 5/57 [00:00<00:01, 40.55it/s]\u001b[A\n",
      " 16%|██████▉                                     | 9/57 [00:00<00:01, 37.73it/s]\u001b[A\n",
      " 23%|█████████▊                                 | 13/57 [00:00<00:01, 35.96it/s]\u001b[A\n",
      " 30%|████████████▊                              | 17/57 [00:00<00:01, 34.85it/s]\u001b[A\n",
      " 37%|███████████████▊                           | 21/57 [00:00<00:01, 34.13it/s]\u001b[A\n",
      " 44%|██████████████████▊                        | 25/57 [00:00<00:00, 33.69it/s]\u001b[A\n",
      " 51%|█████████████████████▉                     | 29/57 [00:00<00:00, 33.34it/s]\u001b[A\n",
      " 58%|████████████████████████▉                  | 33/57 [00:00<00:00, 33.12it/s]\u001b[A\n",
      " 65%|███████████████████████████▉               | 37/57 [00:01<00:00, 32.92it/s]\u001b[A\n",
      " 72%|██████████████████████████████▉            | 41/57 [00:01<00:00, 32.76it/s]\u001b[A\n",
      " 79%|█████████████████████████████████▉         | 45/57 [00:01<00:00, 32.66it/s]\u001b[A\n",
      " 86%|████████████████████████████████████▉      | 49/57 [00:01<00:00, 32.64it/s]\u001b[A\n",
      " 93%|███████████████████████████████████████▉   | 53/57 [00:01<00:00, 32.59it/s]\u001b[A\n",
      "100%|███████████████████████████████████████████| 57/57 [00:01<00:00, 32.60it/s]\u001b[A{'eval_loss': 1.5072946548461914, 'eval_accuracy': 0.6788888888888889, 'eval_runtime': 1.7382, 'eval_samples_per_second': 517.787, 'epoch': 8.0}\n",
      "                                                                                \n",
      "  8%|██▉                                 | 2032/25400 [07:55<1:18:55,  4.93it/s]\n",
      "100%|███████████████████████████████████████████| 57/57 [00:01<00:00, 32.60it/s]\u001b[A\n",
      "                                                                                \u001b[A{'train_runtime': 491.1709, 'train_samples_per_second': 51.713, 'epoch': 8.0}\n",
      "  8%|██▉                                 | 2032/25400 [08:20<1:35:58,  4.06it/s]\n",
      "Fininshed Training.\n",
      "\n",
      "\u001b[34m\u001b[1mwandb\u001b[0m: Waiting for W&B process to finish, PID 65447\n",
      "\u001b[34m\u001b[1mwandb\u001b[0m: Program ended successfully.\n",
      "\u001b[34m\u001b[1mwandb\u001b[0m:                                                                                \n",
      "\u001b[34m\u001b[1mwandb\u001b[0m: Find user logs for this run at: /opt/ml/code_3/wandb/run-20210422_005312-3ctu63h9/logs/debug.log\n",
      "\u001b[34m\u001b[1mwandb\u001b[0m: Find internal logs for this run at: /opt/ml/code_3/wandb/run-20210422_005312-3ctu63h9/logs/debug-internal.log\n",
      "\u001b[34m\u001b[1mwandb\u001b[0m: Run summary:\n",
      "\u001b[34m\u001b[1mwandb\u001b[0m:                                                            _runtime 491\n",
      "\u001b[34m\u001b[1mwandb\u001b[0m:                                                          _timestamp 1619053283\n",
      "\u001b[34m\u001b[1mwandb\u001b[0m:                                                               _step 2032\n",
      "\u001b[34m\u001b[1mwandb\u001b[0m:                                                          train/loss 0.2786\n",
      "\u001b[34m\u001b[1mwandb\u001b[0m:                                                 train/learning_rate 5e-05\n",
      "\u001b[34m\u001b[1mwandb\u001b[0m:                                                         train/epoch 8.0\n",
      "\u001b[34m\u001b[1mwandb\u001b[0m:                                                           eval/loss 1.50729\n",
      "\u001b[34m\u001b[1mwandb\u001b[0m:                                                       eval/accuracy 0.67889\n",
      "\u001b[34m\u001b[1mwandb\u001b[0m:                                                        eval/runtime 1.7382\n",
      "\u001b[34m\u001b[1mwandb\u001b[0m:                                             eval/samples_per_second 517.787\n",
      "\u001b[34m\u001b[1mwandb\u001b[0m:                                                 train/train_runtime 491.1709\n",
      "\u001b[34m\u001b[1mwandb\u001b[0m:                                      train/train_samples_per_second 51.713\n",
      "\u001b[34m\u001b[1mwandb\u001b[0m:                                                    train/total_flos 6917451606720000\n",
      "\u001b[34m\u001b[1mwandb\u001b[0m: Run history:\n",
      "\u001b[34m\u001b[1mwandb\u001b[0m:                         _runtime ▁▁▂▂▂▂▂▃▃▃▃▄▄▄▅▅▅▅▆▆▆▆▇▇▇▇███\n",
      "\u001b[34m\u001b[1mwandb\u001b[0m:                       _timestamp ▁▁▂▂▂▂▂▃▃▃▃▄▄▄▅▅▅▅▆▆▆▆▇▇▇▇███\n",
      "\u001b[34m\u001b[1mwandb\u001b[0m:                            _step ▁▁▂▂▂▂▃▃▃▃▄▄▄▄▅▅▅▅▅▆▆▆▇▇▇▇███\n",
      "\u001b[34m\u001b[1mwandb\u001b[0m:                       train/loss █▆▅▄▄▃▃▃▂▂▂▂▂▁▂▁▁▁▁▁\n",
      "\u001b[34m\u001b[1mwandb\u001b[0m:              train/learning_rate ▁██████▇▇▇▇▇▇▇▇▇▇▇▇▆\n",
      "\u001b[34m\u001b[1mwandb\u001b[0m:                      train/epoch ▁▁▂▂▂▂▂▃▃▃▄▄▄▄▅▅▅▅▆▆▆▆▇▇▇███\n",
      "\u001b[34m\u001b[1mwandb\u001b[0m:                        eval/loss █▂▁▁▂▄▅█\n",
      "\u001b[34m\u001b[1mwandb\u001b[0m:                    eval/accuracy ▁▄▅▆▇▆▇█\n",
      "\u001b[34m\u001b[1mwandb\u001b[0m:                     eval/runtime ▂▁▄▄▅█▆▁\n",
      "\u001b[34m\u001b[1mwandb\u001b[0m:          eval/samples_per_second ▇█▅▅▄▁▃█\n",
      "\u001b[34m\u001b[1mwandb\u001b[0m:              train/train_runtime ▁\n",
      "\u001b[34m\u001b[1mwandb\u001b[0m:   train/train_samples_per_second ▁\n",
      "\u001b[34m\u001b[1mwandb\u001b[0m:                 train/total_flos ▁\n",
      "\u001b[34m\u001b[1mwandb\u001b[0m: \n",
      "\u001b[34m\u001b[1mwandb\u001b[0m: Synced 5 W&B file(s), 1 media file(s), 3 artifact file(s) and 0 other file(s)\n",
      "\u001b[34m\u001b[1mwandb\u001b[0m: \n",
      "\u001b[34m\u001b[1mwandb\u001b[0m: Synced \u001b[33m./results/0422_1\u001b[0m: \u001b[34mhttps://wandb.ai/seungwoo-h/KLUE_PROJECT/runs/3ctu63h9\u001b[0m\n"
     ]
    }
   ],
   "source": [
    "!python train.py --config config11"
   ]
  },
  {
   "cell_type": "code",
   "execution_count": null,
   "metadata": {},
   "outputs": [],
   "source": []
  }
 ],
 "metadata": {
  "kernelspec": {
   "display_name": "Python 3",
   "language": "python",
   "name": "python3"
  },
  "language_info": {
   "codemirror_mode": {
    "name": "ipython",
    "version": 3
   },
   "file_extension": ".py",
   "mimetype": "text/x-python",
   "name": "python",
   "nbconvert_exporter": "python",
   "pygments_lexer": "ipython3",
   "version": "3.8.5"
  }
 },
 "nbformat": 4,
 "nbformat_minor": 5
}
